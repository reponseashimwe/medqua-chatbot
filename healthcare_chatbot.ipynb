{
  "cells": [
    {
      "cell_type": "markdown",
      "metadata": {
        "id": "OXgIoMeJrz80"
      },
      "source": [
        "# Healthcare Chatbot - Medical QA System\n",
        "\n",
        "This notebook implements a domain-specific chatbot for healthcare using a fine-tuned Transformer model.\n",
        "\n",
        "**Project Overview:**\n",
        "- **Domain:** Healthcare\n",
        "- **Dataset:** MedQuAD (Medical Question-Answer Dataset)\n",
        "- **Approach:** Generative QA\n",
        "- **Model:** Flan-T5 (Google's instruction-tuned T5)\n",
        "- **Framework:** TensorFlow + Hugging Face Transformers\n",
        "\n",
        "**Dataset Columns:**\n",
        "- `question`: Medical question\n",
        "- `answer`: Expert medical answer  \n",
        "- `source`: Source of the QA pair\n",
        "- `focus_area`: Medical topic/area\n",
        "\n",
        "---\n"
      ]
    },
    {
      "cell_type": "markdown",
      "metadata": {
        "id": "8oIptKNorz82"
      },
      "source": [
        "## 1. Setup and Installation\n"
      ]
    },
    {
      "cell_type": "code",
      "execution_count": 37,
      "metadata": {
        "colab": {
          "base_uri": "https://localhost:8080/"
        },
        "id": "lSp_3gBurz82",
        "outputId": "04c187f9-e635-4f65-8b72-3ccfcc759722"
      },
      "outputs": [
        {
          "output_type": "stream",
          "name": "stdout",
          "text": [
            "✓ All packages installed successfully!\n"
          ]
        }
      ],
      "source": [
        "# Install required packages\n",
        "# IMPORTANT: Install tf-keras first for Keras 3 compatibility!\n",
        "%pip install -q tf-keras\n",
        "%pip install -q transformers tensorflow pandas numpy scikit-learn nltk datasets evaluate rouge-score sacrebleu matplotlib seaborn kagglehub\n",
        "\n",
        "print(\"✓ All packages installed successfully!\")"
      ]
    },
    {
      "cell_type": "code",
      "execution_count": 38,
      "metadata": {
        "colab": {
          "base_uri": "https://localhost:8080/"
        },
        "id": "nwMdw3ykrz83",
        "outputId": "556bb4b5-2e12-4dd8-953e-94617df4cb55"
      },
      "outputs": [
        {
          "output_type": "stream",
          "name": "stdout",
          "text": [
            "TensorFlow version: 2.20.0\n",
            "GPU Available: False\n"
          ]
        }
      ],
      "source": [
        "# Core imports\n",
        "import pandas as pd\n",
        "import numpy as np\n",
        "import matplotlib.pyplot as plt\n",
        "import seaborn as sns\n",
        "import re\n",
        "import warnings\n",
        "from pathlib import Path\n",
        "from collections import Counter\n",
        "\n",
        "# NLP libraries\n",
        "import nltk\n",
        "from nltk.tokenize import word_tokenize\n",
        "\n",
        "# Hugging Face\n",
        "from transformers import (\n",
        "    AutoTokenizer,\n",
        "    TFAutoModelForSeq2SeqLM,\n",
        "    create_optimizer\n",
        ")\n",
        "from datasets import Dataset\n",
        "import evaluate\n",
        "\n",
        "# TensorFlow\n",
        "import tensorflow as tf\n",
        "\n",
        "# Sklearn\n",
        "from sklearn.model_selection import train_test_split\n",
        "\n",
        "warnings.filterwarnings('ignore')\n",
        "sns.set_style('whitegrid')\n",
        "plt.rcParams['figure.figsize'] = (15, 10)\n",
        "\n",
        "# Set random seeds for reproducibility\n",
        "np.random.seed(42)\n",
        "tf.random.set_seed(42)\n",
        "\n",
        "print(f\"TensorFlow version: {tf.__version__}\")\n",
        "print(f\"GPU Available: {len(tf.config.list_physical_devices('GPU')) > 0}\")\n"
      ]
    },
    {
      "cell_type": "code",
      "execution_count": 39,
      "metadata": {
        "colab": {
          "base_uri": "https://localhost:8080/"
        },
        "id": "eyS1lXohrz83",
        "outputId": "84526744-9659-4ff9-b534-f272300e9176"
      },
      "outputs": [
        {
          "output_type": "stream",
          "name": "stdout",
          "text": [
            "NLTK data downloaded\n"
          ]
        }
      ],
      "source": [
        "# Download NLTK data\n",
        "nltk.download('punkt', quiet=True)\n",
        "nltk.download('stopwords', quiet=True)\n",
        "nltk.download('wordnet', quiet=True)\n",
        "print(\"NLTK data downloaded\")"
      ]
    },
    {
      "cell_type": "markdown",
      "metadata": {
        "id": "XT0oCki8rz83"
      },
      "source": [
        "## 2. Data Loading and Exploration\n"
      ]
    },
    {
      "cell_type": "code",
      "source": [
        "# Download dataset using Kaggle Hub API\n",
        "import kagglehub\n",
        "import shutil\n",
        "\n",
        "print(\"Downloading MedQuAD dataset from Kaggle...\")\n",
        "print(\"This may take a few minutes on first run...\")\n",
        "\n",
        "# Download latest version\n",
        "dataset_path = kagglehub.dataset_download(\"pythonafroz/medquad-medical-question-answer-for-ai-research\")\n",
        "\n",
        "print(f\"\\n✓ Dataset downloaded to: {dataset_path}\")\n",
        "\n",
        "# Copy to data directory\n",
        "import os\n",
        "from pathlib import Path\n",
        "\n",
        "data_dir = Path('data')\n",
        "data_dir.mkdir(exist_ok=True)\n",
        "\n",
        "# Find the CSV file in the downloaded path\n",
        "csv_files = list(Path(dataset_path).glob('*.csv'))\n",
        "if csv_files:\n",
        "    source_file = csv_files[0]\n",
        "    dest_file = data_dir / 'medquad.csv'\n",
        "    shutil.copy(source_file, dest_file)\n",
        "    print(f\"✓ Dataset copied to: {dest_file}\")\n",
        "else:\n",
        "    print(\"⚠️ No CSV file found. Please check the dataset structure.\")\n",
        "    print(f\"Files in dataset: {list(Path(dataset_path).glob('*'))}\")\n"
      ],
      "metadata": {
        "colab": {
          "base_uri": "https://localhost:8080/"
        },
        "id": "maiJDkE0vnV-",
        "outputId": "e9d97c7f-2058-4cd8-9a84-8fd25018a061"
      },
      "execution_count": 40,
      "outputs": [
        {
          "output_type": "stream",
          "name": "stdout",
          "text": [
            "Downloading MedQuAD dataset from Kaggle...\n",
            "This may take a few minutes on first run...\n",
            "Using Colab cache for faster access to the 'medquad-medical-question-answer-for-ai-research' dataset.\n",
            "\n",
            "✓ Dataset downloaded to: /kaggle/input/medquad-medical-question-answer-for-ai-research\n",
            "✓ Dataset copied to: data/medquad.csv\n"
          ]
        }
      ]
    },
    {
      "cell_type": "code",
      "execution_count": 41,
      "metadata": {
        "colab": {
          "base_uri": "https://localhost:8080/",
          "height": 684
        },
        "id": "Pql6nSFgrz83",
        "outputId": "a2598b45-b99d-4fd2-f880-f0e57c8a534f"
      },
      "outputs": [
        {
          "output_type": "stream",
          "name": "stdout",
          "text": [
            "Dataset shape: (16412, 4)\n",
            "\n",
            "Column names: ['question', 'answer', 'source', 'focus_area']\n",
            "\n",
            "Dataset Info:\n",
            "<class 'pandas.core.frame.DataFrame'>\n",
            "RangeIndex: 16412 entries, 0 to 16411\n",
            "Data columns (total 4 columns):\n",
            " #   Column      Non-Null Count  Dtype \n",
            "---  ------      --------------  ----- \n",
            " 0   question    16412 non-null  object\n",
            " 1   answer      16407 non-null  object\n",
            " 2   source      16412 non-null  object\n",
            " 3   focus_area  16398 non-null  object\n",
            "dtypes: object(4)\n",
            "memory usage: 513.0+ KB\n",
            "\n",
            "First few rows:\n"
          ]
        },
        {
          "output_type": "execute_result",
          "data": {
            "text/plain": [
              "                                 question  \\\n",
              "0                What is (are) Glaucoma ?   \n",
              "1                  What causes Glaucoma ?   \n",
              "2     What are the symptoms of Glaucoma ?   \n",
              "3  What are the treatments for Glaucoma ?   \n",
              "4                What is (are) Glaucoma ?   \n",
              "\n",
              "                                              answer           source  \\\n",
              "0  Glaucoma is a group of diseases that can damag...  NIHSeniorHealth   \n",
              "1  Nearly 2.7 million people have glaucoma, a lea...  NIHSeniorHealth   \n",
              "2  Symptoms of Glaucoma  Glaucoma can develop in ...  NIHSeniorHealth   \n",
              "3  Although open-angle glaucoma cannot be cured, ...  NIHSeniorHealth   \n",
              "4  Glaucoma is a group of diseases that can damag...  NIHSeniorHealth   \n",
              "\n",
              "  focus_area  \n",
              "0   Glaucoma  \n",
              "1   Glaucoma  \n",
              "2   Glaucoma  \n",
              "3   Glaucoma  \n",
              "4   Glaucoma  "
            ],
            "text/html": [
              "\n",
              "  <div id=\"df-ec1250af-1628-4fa1-b284-e4250739fcad\" class=\"colab-df-container\">\n",
              "    <div>\n",
              "<style scoped>\n",
              "    .dataframe tbody tr th:only-of-type {\n",
              "        vertical-align: middle;\n",
              "    }\n",
              "\n",
              "    .dataframe tbody tr th {\n",
              "        vertical-align: top;\n",
              "    }\n",
              "\n",
              "    .dataframe thead th {\n",
              "        text-align: right;\n",
              "    }\n",
              "</style>\n",
              "<table border=\"1\" class=\"dataframe\">\n",
              "  <thead>\n",
              "    <tr style=\"text-align: right;\">\n",
              "      <th></th>\n",
              "      <th>question</th>\n",
              "      <th>answer</th>\n",
              "      <th>source</th>\n",
              "      <th>focus_area</th>\n",
              "    </tr>\n",
              "  </thead>\n",
              "  <tbody>\n",
              "    <tr>\n",
              "      <th>0</th>\n",
              "      <td>What is (are) Glaucoma ?</td>\n",
              "      <td>Glaucoma is a group of diseases that can damag...</td>\n",
              "      <td>NIHSeniorHealth</td>\n",
              "      <td>Glaucoma</td>\n",
              "    </tr>\n",
              "    <tr>\n",
              "      <th>1</th>\n",
              "      <td>What causes Glaucoma ?</td>\n",
              "      <td>Nearly 2.7 million people have glaucoma, a lea...</td>\n",
              "      <td>NIHSeniorHealth</td>\n",
              "      <td>Glaucoma</td>\n",
              "    </tr>\n",
              "    <tr>\n",
              "      <th>2</th>\n",
              "      <td>What are the symptoms of Glaucoma ?</td>\n",
              "      <td>Symptoms of Glaucoma  Glaucoma can develop in ...</td>\n",
              "      <td>NIHSeniorHealth</td>\n",
              "      <td>Glaucoma</td>\n",
              "    </tr>\n",
              "    <tr>\n",
              "      <th>3</th>\n",
              "      <td>What are the treatments for Glaucoma ?</td>\n",
              "      <td>Although open-angle glaucoma cannot be cured, ...</td>\n",
              "      <td>NIHSeniorHealth</td>\n",
              "      <td>Glaucoma</td>\n",
              "    </tr>\n",
              "    <tr>\n",
              "      <th>4</th>\n",
              "      <td>What is (are) Glaucoma ?</td>\n",
              "      <td>Glaucoma is a group of diseases that can damag...</td>\n",
              "      <td>NIHSeniorHealth</td>\n",
              "      <td>Glaucoma</td>\n",
              "    </tr>\n",
              "  </tbody>\n",
              "</table>\n",
              "</div>\n",
              "    <div class=\"colab-df-buttons\">\n",
              "\n",
              "  <div class=\"colab-df-container\">\n",
              "    <button class=\"colab-df-convert\" onclick=\"convertToInteractive('df-ec1250af-1628-4fa1-b284-e4250739fcad')\"\n",
              "            title=\"Convert this dataframe to an interactive table.\"\n",
              "            style=\"display:none;\">\n",
              "\n",
              "  <svg xmlns=\"http://www.w3.org/2000/svg\" height=\"24px\" viewBox=\"0 -960 960 960\">\n",
              "    <path d=\"M120-120v-720h720v720H120Zm60-500h600v-160H180v160Zm220 220h160v-160H400v160Zm0 220h160v-160H400v160ZM180-400h160v-160H180v160Zm440 0h160v-160H620v160ZM180-180h160v-160H180v160Zm440 0h160v-160H620v160Z\"/>\n",
              "  </svg>\n",
              "    </button>\n",
              "\n",
              "  <style>\n",
              "    .colab-df-container {\n",
              "      display:flex;\n",
              "      gap: 12px;\n",
              "    }\n",
              "\n",
              "    .colab-df-convert {\n",
              "      background-color: #E8F0FE;\n",
              "      border: none;\n",
              "      border-radius: 50%;\n",
              "      cursor: pointer;\n",
              "      display: none;\n",
              "      fill: #1967D2;\n",
              "      height: 32px;\n",
              "      padding: 0 0 0 0;\n",
              "      width: 32px;\n",
              "    }\n",
              "\n",
              "    .colab-df-convert:hover {\n",
              "      background-color: #E2EBFA;\n",
              "      box-shadow: 0px 1px 2px rgba(60, 64, 67, 0.3), 0px 1px 3px 1px rgba(60, 64, 67, 0.15);\n",
              "      fill: #174EA6;\n",
              "    }\n",
              "\n",
              "    .colab-df-buttons div {\n",
              "      margin-bottom: 4px;\n",
              "    }\n",
              "\n",
              "    [theme=dark] .colab-df-convert {\n",
              "      background-color: #3B4455;\n",
              "      fill: #D2E3FC;\n",
              "    }\n",
              "\n",
              "    [theme=dark] .colab-df-convert:hover {\n",
              "      background-color: #434B5C;\n",
              "      box-shadow: 0px 1px 3px 1px rgba(0, 0, 0, 0.15);\n",
              "      filter: drop-shadow(0px 1px 2px rgba(0, 0, 0, 0.3));\n",
              "      fill: #FFFFFF;\n",
              "    }\n",
              "  </style>\n",
              "\n",
              "    <script>\n",
              "      const buttonEl =\n",
              "        document.querySelector('#df-ec1250af-1628-4fa1-b284-e4250739fcad button.colab-df-convert');\n",
              "      buttonEl.style.display =\n",
              "        google.colab.kernel.accessAllowed ? 'block' : 'none';\n",
              "\n",
              "      async function convertToInteractive(key) {\n",
              "        const element = document.querySelector('#df-ec1250af-1628-4fa1-b284-e4250739fcad');\n",
              "        const dataTable =\n",
              "          await google.colab.kernel.invokeFunction('convertToInteractive',\n",
              "                                                    [key], {});\n",
              "        if (!dataTable) return;\n",
              "\n",
              "        const docLinkHtml = 'Like what you see? Visit the ' +\n",
              "          '<a target=\"_blank\" href=https://colab.research.google.com/notebooks/data_table.ipynb>data table notebook</a>'\n",
              "          + ' to learn more about interactive tables.';\n",
              "        element.innerHTML = '';\n",
              "        dataTable['output_type'] = 'display_data';\n",
              "        await google.colab.output.renderOutput(dataTable, element);\n",
              "        const docLink = document.createElement('div');\n",
              "        docLink.innerHTML = docLinkHtml;\n",
              "        element.appendChild(docLink);\n",
              "      }\n",
              "    </script>\n",
              "  </div>\n",
              "\n",
              "\n",
              "    <div id=\"df-d5ccb809-70ce-4696-b494-0259425af4d5\">\n",
              "      <button class=\"colab-df-quickchart\" onclick=\"quickchart('df-d5ccb809-70ce-4696-b494-0259425af4d5')\"\n",
              "                title=\"Suggest charts\"\n",
              "                style=\"display:none;\">\n",
              "\n",
              "<svg xmlns=\"http://www.w3.org/2000/svg\" height=\"24px\"viewBox=\"0 0 24 24\"\n",
              "     width=\"24px\">\n",
              "    <g>\n",
              "        <path d=\"M19 3H5c-1.1 0-2 .9-2 2v14c0 1.1.9 2 2 2h14c1.1 0 2-.9 2-2V5c0-1.1-.9-2-2-2zM9 17H7v-7h2v7zm4 0h-2V7h2v10zm4 0h-2v-4h2v4z\"/>\n",
              "    </g>\n",
              "</svg>\n",
              "      </button>\n",
              "\n",
              "<style>\n",
              "  .colab-df-quickchart {\n",
              "      --bg-color: #E8F0FE;\n",
              "      --fill-color: #1967D2;\n",
              "      --hover-bg-color: #E2EBFA;\n",
              "      --hover-fill-color: #174EA6;\n",
              "      --disabled-fill-color: #AAA;\n",
              "      --disabled-bg-color: #DDD;\n",
              "  }\n",
              "\n",
              "  [theme=dark] .colab-df-quickchart {\n",
              "      --bg-color: #3B4455;\n",
              "      --fill-color: #D2E3FC;\n",
              "      --hover-bg-color: #434B5C;\n",
              "      --hover-fill-color: #FFFFFF;\n",
              "      --disabled-bg-color: #3B4455;\n",
              "      --disabled-fill-color: #666;\n",
              "  }\n",
              "\n",
              "  .colab-df-quickchart {\n",
              "    background-color: var(--bg-color);\n",
              "    border: none;\n",
              "    border-radius: 50%;\n",
              "    cursor: pointer;\n",
              "    display: none;\n",
              "    fill: var(--fill-color);\n",
              "    height: 32px;\n",
              "    padding: 0;\n",
              "    width: 32px;\n",
              "  }\n",
              "\n",
              "  .colab-df-quickchart:hover {\n",
              "    background-color: var(--hover-bg-color);\n",
              "    box-shadow: 0 1px 2px rgba(60, 64, 67, 0.3), 0 1px 3px 1px rgba(60, 64, 67, 0.15);\n",
              "    fill: var(--button-hover-fill-color);\n",
              "  }\n",
              "\n",
              "  .colab-df-quickchart-complete:disabled,\n",
              "  .colab-df-quickchart-complete:disabled:hover {\n",
              "    background-color: var(--disabled-bg-color);\n",
              "    fill: var(--disabled-fill-color);\n",
              "    box-shadow: none;\n",
              "  }\n",
              "\n",
              "  .colab-df-spinner {\n",
              "    border: 2px solid var(--fill-color);\n",
              "    border-color: transparent;\n",
              "    border-bottom-color: var(--fill-color);\n",
              "    animation:\n",
              "      spin 1s steps(1) infinite;\n",
              "  }\n",
              "\n",
              "  @keyframes spin {\n",
              "    0% {\n",
              "      border-color: transparent;\n",
              "      border-bottom-color: var(--fill-color);\n",
              "      border-left-color: var(--fill-color);\n",
              "    }\n",
              "    20% {\n",
              "      border-color: transparent;\n",
              "      border-left-color: var(--fill-color);\n",
              "      border-top-color: var(--fill-color);\n",
              "    }\n",
              "    30% {\n",
              "      border-color: transparent;\n",
              "      border-left-color: var(--fill-color);\n",
              "      border-top-color: var(--fill-color);\n",
              "      border-right-color: var(--fill-color);\n",
              "    }\n",
              "    40% {\n",
              "      border-color: transparent;\n",
              "      border-right-color: var(--fill-color);\n",
              "      border-top-color: var(--fill-color);\n",
              "    }\n",
              "    60% {\n",
              "      border-color: transparent;\n",
              "      border-right-color: var(--fill-color);\n",
              "    }\n",
              "    80% {\n",
              "      border-color: transparent;\n",
              "      border-right-color: var(--fill-color);\n",
              "      border-bottom-color: var(--fill-color);\n",
              "    }\n",
              "    90% {\n",
              "      border-color: transparent;\n",
              "      border-bottom-color: var(--fill-color);\n",
              "    }\n",
              "  }\n",
              "</style>\n",
              "\n",
              "      <script>\n",
              "        async function quickchart(key) {\n",
              "          const quickchartButtonEl =\n",
              "            document.querySelector('#' + key + ' button');\n",
              "          quickchartButtonEl.disabled = true;  // To prevent multiple clicks.\n",
              "          quickchartButtonEl.classList.add('colab-df-spinner');\n",
              "          try {\n",
              "            const charts = await google.colab.kernel.invokeFunction(\n",
              "                'suggestCharts', [key], {});\n",
              "          } catch (error) {\n",
              "            console.error('Error during call to suggestCharts:', error);\n",
              "          }\n",
              "          quickchartButtonEl.classList.remove('colab-df-spinner');\n",
              "          quickchartButtonEl.classList.add('colab-df-quickchart-complete');\n",
              "        }\n",
              "        (() => {\n",
              "          let quickchartButtonEl =\n",
              "            document.querySelector('#df-d5ccb809-70ce-4696-b494-0259425af4d5 button');\n",
              "          quickchartButtonEl.style.display =\n",
              "            google.colab.kernel.accessAllowed ? 'block' : 'none';\n",
              "        })();\n",
              "      </script>\n",
              "    </div>\n",
              "\n",
              "    </div>\n",
              "  </div>\n"
            ],
            "application/vnd.google.colaboratory.intrinsic+json": {
              "type": "dataframe",
              "variable_name": "df",
              "summary": "{\n  \"name\": \"df\",\n  \"rows\": 16412,\n  \"fields\": [\n    {\n      \"column\": \"question\",\n      \"properties\": {\n        \"dtype\": \"string\",\n        \"num_unique_values\": 14984,\n        \"samples\": [\n          \"How many people are affected by 8p11 myeloproliferative syndrome ?\",\n          \"What is (are) caudal regression syndrome ?\",\n          \"What is the outlook for Cephalic Disorders ?\"\n        ],\n        \"semantic_type\": \"\",\n        \"description\": \"\"\n      }\n    },\n    {\n      \"column\": \"answer\",\n      \"properties\": {\n        \"dtype\": \"string\",\n        \"num_unique_values\": 15817,\n        \"samples\": [\n          \"The prognosis depends upon the severity of symptoms. Children with early-onset AGS have the highest risk of death. Children with the later-onset form may be left with weakness or stiffness in the peripheral muscles and arms, weak muscles in the trunk of the body, and poor head control. Almost all children with AGS have mild to severe intellectual and physical impairment.\",\n          \"Scientists don't know exactly what causes prostate cancer. They cannot explain why one man gets prostate cancer and another does not. However, they have been able to identify some risk factors that are associated with the disease. A risk factor is anything that increases your chances of getting a disease. Age Age is the most important risk factor for prostate cancer. The disease is extremely rare in men under age 40, but the risk increases greatly with age. More than 60 percent of cases are diagnosed in men over age 65. The average age at the time of diagnosis is 65. Race Race is another major risk factor. In the United States, this disease is much more common in African American men than in any other group of men. It is least common in Asian and American Indian men. Family History A man's risk for developing prostate cancer is higher if his father or brother has had the disease. Other Risk Factors Scientists have wondered whether obesity, lack of exercise, smoking, radiation exposure, might increase risk. But at this time, there is no firm evidence that these factors contribute to an increased risk.\",\n          \"The retina is a layer of tissue in the back of your eye that senses light and sends images to your brain. It provides the sharp, central vision needed for reading, driving, and seeing fine detail. A retinal detachment lifts or pulls the retina from its normal position. It can occur at any age, but it is more common in people over age 40. It affects men more than women and whites more than African Americans. A retinal detachment is also more likely to occur in people who       - Are extremely nearsighted    - Have had a retinal detachment in the other eye    - Have a family history of retinal detachment    - Have had cataract surgery    - Have other eye diseases or disorders    - Have had an eye injury       Symptoms include an increase in the number of floaters, which are little \\\"cobwebs\\\" or specks that float about in your field of vision, and/or light flashes in the eye. It may also seem like there is a \\\"curtain\\\" over your field of vision.    A retinal detachment is a medical emergency. If not promptly treated, it can cause permanent vision loss. If you have any symptoms, see an eye care professional immediately. Treatment includes different types of surgery.    NIH: National Eye Institute\"\n        ],\n        \"semantic_type\": \"\",\n        \"description\": \"\"\n      }\n    },\n    {\n      \"column\": \"source\",\n      \"properties\": {\n        \"dtype\": \"category\",\n        \"num_unique_values\": 9,\n        \"samples\": [\n          \"GHR\",\n          \"CancerGov\",\n          \"NHLBI\"\n        ],\n        \"semantic_type\": \"\",\n        \"description\": \"\"\n      }\n    },\n    {\n      \"column\": \"focus_area\",\n      \"properties\": {\n        \"dtype\": \"category\",\n        \"num_unique_values\": 5126,\n        \"samples\": [\n          \"Adams-Oliver syndrome\",\n          \"Occupational Health\",\n          \"What I need to know about Diverticular Disease\"\n        ],\n        \"semantic_type\": \"\",\n        \"description\": \"\"\n      }\n    }\n  ]\n}"
            }
          },
          "metadata": {},
          "execution_count": 41
        }
      ],
      "source": [
        "# Load the MedQuAD dataset\n",
        "data_path = 'data/medquad.csv'\n",
        "df = pd.read_csv(data_path)\n",
        "\n",
        "print(f\"Dataset shape: {df.shape}\")\n",
        "print(f\"\\nColumn names: {df.columns.tolist()}\")\n",
        "print(f\"\\nDataset Info:\")\n",
        "df.info()\n",
        "print(f\"\\nFirst few rows:\")\n",
        "df.head()\n"
      ]
    },
    {
      "cell_type": "code",
      "execution_count": 42,
      "metadata": {
        "colab": {
          "base_uri": "https://localhost:8080/"
        },
        "id": "Dcdtd0XZrz83",
        "outputId": "410fb360-fec7-468b-cb73-90bf02960a36"
      },
      "outputs": [
        {
          "output_type": "stream",
          "name": "stdout",
          "text": [
            "Sample Medical Q&A Pairs:\n",
            "\n",
            "====================================================================================================\n",
            "\n",
            "Example 1:\n",
            "Question: What is (are) Glaucoma ?\n",
            "Answer: Glaucoma is a group of diseases that can damage the eye's optic nerve and result in vision loss and blindness. While glaucoma can strike anyone, the risk is much greater for people over 60. How Glaucoma Develops  There are several different types of glaucoma. Most of these involve the drainage syste...\n",
            "Source: NIHSeniorHealth\n",
            "Focus Area: Glaucoma\n",
            "----------------------------------------------------------------------------------------------------\n",
            "\n",
            "Example 2:\n",
            "Question: What causes Glaucoma ?\n",
            "Answer: Nearly 2.7 million people have glaucoma, a leading cause of blindness in the United States. Although anyone can get glaucoma, some people are at higher risk. They include - African-Americans over age 40  - everyone over age 60, especially Hispanics/Latinos  - people with a family history of glaucoma...\n",
            "Source: NIHSeniorHealth\n",
            "Focus Area: Glaucoma\n",
            "----------------------------------------------------------------------------------------------------\n",
            "\n",
            "Example 3:\n",
            "Question: What are the symptoms of Glaucoma ?\n",
            "Answer: Symptoms of Glaucoma  Glaucoma can develop in one or both eyes. The most common type of glaucoma, open-angle glaucoma, has no symptoms at first. It causes no pain, and vision seems normal. Without treatment, people with glaucoma will slowly lose their peripheral, or side vision. They seem to be look...\n",
            "Source: NIHSeniorHealth\n",
            "Focus Area: Glaucoma\n",
            "----------------------------------------------------------------------------------------------------\n"
          ]
        }
      ],
      "source": [
        "# Display sample Q&A pairs\n",
        "print(\"Sample Medical Q&A Pairs:\\n\")\n",
        "print(\"=\"*100)\n",
        "for idx in range(min(3, len(df))):\n",
        "    print(f\"\\nExample {idx+1}:\")\n",
        "    print(f\"Question: {df.iloc[idx]['question']}\")\n",
        "    print(f\"Answer: {df.iloc[idx]['answer'][:300]}...\")\n",
        "    if 'source' in df.columns:\n",
        "        print(f\"Source: {df.iloc[idx]['source']}\")\n",
        "    if 'focus_area' in df.columns:\n",
        "        print(f\"Focus Area: {df.iloc[idx]['focus_area']}\")\n",
        "    print(\"-\"*100)\n"
      ]
    },
    {
      "cell_type": "code",
      "execution_count": 43,
      "metadata": {
        "colab": {
          "base_uri": "https://localhost:8080/"
        },
        "id": "7cZ-iRK_rz84",
        "outputId": "80557936-51a7-4862-f635-2dd7fd50f640"
      },
      "outputs": [
        {
          "output_type": "stream",
          "name": "stdout",
          "text": [
            "Missing Values:\n",
            "question       0\n",
            "answer         5\n",
            "source         0\n",
            "focus_area    14\n",
            "dtype: int64\n",
            "\n",
            "==================================================\n",
            "\n",
            "Text Length Statistics:\n",
            "       question_length  answer_length  question_words  answer_words\n",
            "count     16412.000000   16412.000000    16412.000000  16412.000000\n",
            "mean         50.684438    1303.056483        8.211918    201.293322\n",
            "std          16.925355    1656.597408        2.381260    248.466938\n",
            "min          16.000000       3.000000        3.000000      1.000000\n",
            "25%          38.000000     487.000000        6.000000     71.000000\n",
            "50%          48.000000     889.500000        8.000000    138.000000\n",
            "75%          61.000000    1589.000000       10.000000    252.000000\n",
            "max         191.000000   29046.000000       27.000000   4281.000000\n"
          ]
        }
      ],
      "source": [
        "# Basic statistics\n",
        "print(\"Missing Values:\")\n",
        "print(df.isnull().sum())\n",
        "print(\"\\n\" + \"=\"*50)\n",
        "\n",
        "# Text length analysis\n",
        "df['question_length'] = df['question'].astype(str).apply(len)\n",
        "df['answer_length'] = df['answer'].astype(str).apply(len)\n",
        "df['question_words'] = df['question'].astype(str).apply(lambda x: len(x.split()))\n",
        "df['answer_words'] = df['answer'].astype(str).apply(lambda x: len(x.split()))\n",
        "\n",
        "print(\"\\nText Length Statistics:\")\n",
        "print(df[['question_length', 'answer_length', 'question_words', 'answer_words']].describe())\n"
      ]
    },
    {
      "cell_type": "markdown",
      "metadata": {
        "id": "4chf0A1Irz84"
      },
      "source": [
        "## 3. Data Visualization\n",
        "\n",
        "Let's create comprehensive visualizations to understand the dataset better.\n"
      ]
    },
    {
      "cell_type": "code",
      "execution_count": 44,
      "metadata": {
        "colab": {
          "base_uri": "https://localhost:8080/",
          "height": 395
        },
        "id": "ROV53YsLrz84",
        "outputId": "8c121c2d-b967-43f6-8781-993b5ba53895"
      },
      "outputs": [
        {
          "output_type": "display_data",
          "data": {
            "text/plain": [
              "<Figure size 2000x1200 with 6 Axes>"
            ],
            "image/png": "[encoded data removed]"
          },
          "metadata": {}
        },
        {
          "output_type": "stream",
          "name": "stdout",
          "text": [
            "Visualization saved as 'dataset_analysis.png'\n"
          ]
        }
      ],
      "source": [
        "# Create 6 visualizations in 2 rows of 3\n",
        "fig, axes = plt.subplots(2, 3, figsize=(20, 12))\n",
        "fig.suptitle('MedQuAD Dataset Analysis', fontsize=20, fontweight='bold', y=1.00)\n",
        "\n",
        "# 1. Question Character Length Distribution\n",
        "axes[0, 0].hist(df['question_length'], bins=50, edgecolor='black', alpha=0.7, color='#3498db')\n",
        "axes[0, 0].set_title('Question Character Length Distribution', fontsize=14, fontweight='bold')\n",
        "axes[0, 0].set_xlabel('Character Length')\n",
        "axes[0, 0].set_ylabel('Frequency')\n",
        "axes[0, 0].axvline(df['question_length'].mean(), color='red', linestyle='--', label=f'Mean: {df[\"question_length\"].mean():.0f}')\n",
        "axes[0, 0].legend()\n",
        "axes[0, 0].grid(True, alpha=0.3)\n",
        "\n",
        "# 2. Answer Character Length Distribution\n",
        "axes[0, 1].hist(df['answer_length'], bins=50, edgecolor='black', alpha=0.7, color='#e74c3c')\n",
        "axes[0, 1].set_title('Answer Character Length Distribution', fontsize=14, fontweight='bold')\n",
        "axes[0, 1].set_xlabel('Character Length')\n",
        "axes[0, 1].set_ylabel('Frequency')\n",
        "axes[0, 1].axvline(df['answer_length'].mean(), color='blue', linestyle='--', label=f'Mean: {df[\"answer_length\"].mean():.0f}')\n",
        "axes[0, 1].legend()\n",
        "axes[0, 1].grid(True, alpha=0.3)\n",
        "\n",
        "# 3. Question vs Answer Word Count\n",
        "axes[0, 2].scatter(df['question_words'], df['answer_words'], alpha=0.5, c='#2ecc71', s=30)\n",
        "axes[0, 2].set_title('Question vs Answer Word Count', fontsize=14, fontweight='bold')\n",
        "axes[0, 2].set_xlabel('Question Words')\n",
        "axes[0, 2].set_ylabel('Answer Words')\n",
        "axes[0, 2].grid(True, alpha=0.3)\n",
        "\n",
        "# 4. Focus Area Distribution (Top 15)\n",
        "if 'focus_area' in df.columns:\n",
        "    focus_counts = df['focus_area'].value_counts().head(15)\n",
        "    axes[1, 0].barh(range(len(focus_counts)), focus_counts.values, color='#9b59b6')\n",
        "    axes[1, 0].set_yticks(range(len(focus_counts)))\n",
        "    axes[1, 0].set_yticklabels(focus_counts.index, fontsize=10)\n",
        "    axes[1, 0].set_title('Top 15 Focus Areas', fontsize=14, fontweight='bold')\n",
        "    axes[1, 0].set_xlabel('Count')\n",
        "    axes[1, 0].invert_yaxis()\n",
        "    axes[1, 0].grid(True, alpha=0.3, axis='x')\n",
        "else:\n",
        "    axes[1, 0].text(0.5, 0.5, 'No Focus Area Data', ha='center', va='center', fontsize=14)\n",
        "    axes[1, 0].set_title('Focus Area Distribution', fontsize=14, fontweight='bold')\n",
        "\n",
        "# 5. Source Distribution\n",
        "if 'source' in df.columns:\n",
        "    source_counts = df['source'].value_counts().head(10)\n",
        "    axes[1, 1].bar(range(len(source_counts)), source_counts.values, color='#f39c12', edgecolor='black')\n",
        "    axes[1, 1].set_xticks(range(len(source_counts)))\n",
        "    axes[1, 1].set_xticklabels(source_counts.index, rotation=45, ha='right', fontsize=9)\n",
        "    axes[1, 1].set_title('Data Sources (Top 10)', fontsize=14, fontweight='bold')\n",
        "    axes[1, 1].set_ylabel('Count')\n",
        "    axes[1, 1].grid(True, alpha=0.3, axis='y')\n",
        "else:\n",
        "    axes[1, 1].text(0.5, 0.5, 'No Source Data', ha='center', va='center', fontsize=14)\n",
        "    axes[1, 1].set_title('Source Distribution', fontsize=14, fontweight='bold')\n",
        "\n",
        "# 6. Question Word Count Box Plot\n",
        "box_data = [df['question_words'], df['answer_words']]\n",
        "bp = axes[1, 2].boxplot(box_data, labels=['Questions', 'Answers'], patch_artist=True)\n",
        "bp['boxes'][0].set_facecolor('#3498db')\n",
        "bp['boxes'][1].set_facecolor('#e74c3c')\n",
        "axes[1, 2].set_title('Word Count Distribution (Box Plot)', fontsize=14, fontweight='bold')\n",
        "axes[1, 2].set_ylabel('Word Count')\n",
        "axes[1, 2].grid(True, alpha=0.3, axis='y')\n",
        "\n",
        "plt.tight_layout()\n",
        "plt.savefig('dataset_analysis.png', dpi=300, bbox_inches='tight')\n",
        "plt.show()\n",
        "\n",
        "print(\"Visualization saved as 'dataset_analysis.png'\")\n"
      ]
    },
    {
      "cell_type": "code",
      "execution_count": 45,
      "metadata": {
        "colab": {
          "base_uri": "https://localhost:8080/"
        },
        "id": "2kfvgGS0rz84",
        "outputId": "eada0722-900c-4d2b-ed65-85677cda26ca"
      },
      "outputs": [
        {
          "output_type": "stream",
          "name": "stdout",
          "text": [
            "Dataset Statistics Summary:\n",
            "============================================================\n",
            "Total Q&A pairs: 16,412\n",
            "Average question length: 50.68 characters\n",
            "Average answer length: 1303.06 characters\n",
            "Average question words: 8.21\n",
            "Average answer words: 201.29\n",
            "\n",
            "Unique focus areas: 5126\n",
            "Most common focus area: Breast Cancer\n",
            "\n",
            "Unique sources: 9\n",
            "Most common source: GHR\n"
          ]
        }
      ],
      "source": [
        "# Additional statistics\n",
        "print(\"Dataset Statistics Summary:\")\n",
        "print(\"=\"*60)\n",
        "print(f\"Total Q&A pairs: {len(df):,}\")\n",
        "print(f\"Average question length: {df['question_length'].mean():.2f} characters\")\n",
        "print(f\"Average answer length: {df['answer_length'].mean():.2f} characters\")\n",
        "print(f\"Average question words: {df['question_words'].mean():.2f}\")\n",
        "print(f\"Average answer words: {df['answer_words'].mean():.2f}\")\n",
        "\n",
        "if 'focus_area' in df.columns:\n",
        "    print(f\"\\nUnique focus areas: {df['focus_area'].nunique()}\")\n",
        "    print(f\"Most common focus area: {df['focus_area'].mode()[0]}\")\n",
        "\n",
        "if 'source' in df.columns:\n",
        "    print(f\"\\nUnique sources: {df['source'].nunique()}\")\n",
        "    print(f\"Most common source: {df['source'].mode()[0]}\")\n"
      ]
    },
    {
      "cell_type": "markdown",
      "metadata": {
        "id": "tsD5jMwdrz84"
      },
      "source": [
        "## 4. Data Preprocessing\n",
        "\n",
        "### 4.1 Data Cleaning\n"
      ]
    },
    {
      "cell_type": "code",
      "execution_count": 46,
      "metadata": {
        "colab": {
          "base_uri": "https://localhost:8080/"
        },
        "id": "eF-k552irz84",
        "outputId": "a67ad058-6348-4b9e-8d4a-82e705b6f2eb"
      },
      "outputs": [
        {
          "output_type": "stream",
          "name": "stdout",
          "text": [
            "Cleaning text data...\n",
            "Dataset shape after cleaning: (16407, 10)\n",
            "Removed 5 empty entries\n"
          ]
        }
      ],
      "source": [
        "def clean_text(text):\n",
        "    \"\"\"\n",
        "    Clean and normalize text data.\n",
        "\n",
        "    Steps:\n",
        "    1. Convert to string and handle missing values\n",
        "    2. Remove extra whitespace\n",
        "    3. Fix common encoding issues\n",
        "    4. Normalize punctuation\n",
        "    \"\"\"\n",
        "    if pd.isna(text):\n",
        "        return \"\"\n",
        "\n",
        "    text = str(text)\n",
        "\n",
        "    # Remove extra whitespace\n",
        "    text = re.sub(r'\\s+', ' ', text)\n",
        "\n",
        "    # Remove leading/trailing whitespace\n",
        "    text = text.strip()\n",
        "\n",
        "    # Fix common encoding issues\n",
        "    text = text.replace('â\\x80\\x99', \"'\")\n",
        "    text = text.replace('â\\x80\\x93', '-')\n",
        "    text = text.replace('â\\x80\\x94', '-')\n",
        "\n",
        "    return text\n",
        "\n",
        "# Apply cleaning\n",
        "print(\"Cleaning text data...\")\n",
        "df['question_clean'] = df['question'].apply(clean_text)\n",
        "df['answer_clean'] = df['answer'].apply(clean_text)\n",
        "\n",
        "# Remove rows with empty questions or answers\n",
        "original_len = len(df)\n",
        "df = df[(df['question_clean'] != '') & (df['answer_clean'] != '')]\n",
        "\n",
        "print(f\"Dataset shape after cleaning: {df.shape}\")\n",
        "print(f\"Removed {original_len - len(df)} empty entries\")\n"
      ]
    },
    {
      "cell_type": "code",
      "execution_count": 47,
      "metadata": {
        "colab": {
          "base_uri": "https://localhost:8080/"
        },
        "id": "Yf4ZpCQ0rz85",
        "outputId": "fcd309a4-f68d-44b4-fb21-2ed407bfdd7a"
      },
      "outputs": [
        {
          "output_type": "stream",
          "name": "stdout",
          "text": [
            "Number of duplicate Q&A pairs: 48\n",
            "Removing duplicates...\n",
            "Dataset shape after removing duplicates: (16359, 10)\n"
          ]
        }
      ],
      "source": [
        "# Check for and remove duplicates\n",
        "duplicates = df.duplicated(subset=['question_clean', 'answer_clean']).sum()\n",
        "print(f\"Number of duplicate Q&A pairs: {duplicates}\")\n",
        "\n",
        "if duplicates > 0:\n",
        "    print(\"Removing duplicates...\")\n",
        "    df = df.drop_duplicates(subset=['question_clean', 'answer_clean'], keep='first')\n",
        "    print(f\"Dataset shape after removing duplicates: {df.shape}\")\n"
      ]
    },
    {
      "cell_type": "markdown",
      "metadata": {
        "id": "mf34VMbyrz85"
      },
      "source": [
        "### 4.2 Create Training Datasets\n"
      ]
    },
    {
      "cell_type": "code",
      "execution_count": 48,
      "metadata": {
        "colab": {
          "base_uri": "https://localhost:8080/"
        },
        "id": "kC6UmqL7rz85",
        "outputId": "1a3f586a-cd62-4085-85fe-980bf3eb49c3"
      },
      "outputs": [
        {
          "output_type": "stream",
          "name": "stdout",
          "text": [
            "Training set size: 13,087\n",
            "Validation set size: 1,636\n",
            "Test set size: 1,636\n",
            "\n",
            "Total: 16,359\n",
            "\n",
            "✓ Data splits saved to data/ directory\n"
          ]
        }
      ],
      "source": [
        "# Create clean dataset\n",
        "clean_df = df[['question_clean', 'answer_clean']].copy()\n",
        "clean_df.columns = ['question', 'answer']\n",
        "clean_df = clean_df.reset_index(drop=True)\n",
        "\n",
        "# Split data: 80% train, 10% validation, 10% test\n",
        "train_df, temp_df = train_test_split(clean_df, test_size=0.2, random_state=42)\n",
        "val_df, test_df = train_test_split(temp_df, test_size=0.5, random_state=42)\n",
        "\n",
        "print(f\"Training set size: {len(train_df):,}\")\n",
        "print(f\"Validation set size: {len(val_df):,}\")\n",
        "print(f\"Test set size: {len(test_df):,}\")\n",
        "print(f\"\\nTotal: {len(train_df) + len(val_df) + len(test_df):,}\")\n",
        "\n",
        "# Save splits\n",
        "Path('data').mkdir(exist_ok=True)\n",
        "train_df.to_csv('data/train.csv', index=False)\n",
        "val_df.to_csv('data/val.csv', index=False)\n",
        "test_df.to_csv('data/test.csv', index=False)\n",
        "\n",
        "print(\"\\n✓ Data splits saved to data/ directory\")\n"
      ]
    },
    {
      "cell_type": "markdown",
      "metadata": {
        "id": "srnURC5srz85"
      },
      "source": [
        "## 5. Model Selection and Setup\n",
        "\n",
        "We'll use **Flan-T5-small**, Google's instruction-tuned T5 model, specifically designed for question-answering tasks.\n"
      ]
    },
    {
      "cell_type": "code",
      "execution_count": 49,
      "metadata": {
        "colab": {
          "base_uri": "https://localhost:8080/"
        },
        "id": "WkKkII9urz85",
        "outputId": "2d406d08-6bb9-44c8-d14c-44176055f4a7"
      },
      "outputs": [
        {
          "output_type": "stream",
          "name": "stdout",
          "text": [
            "Selected model: google/flan-t5-small\n",
            "\n",
            "Loading tokenizer...\n",
            "✓ Tokenizer loaded\n",
            "Vocabulary size: 32,100\n"
          ]
        }
      ],
      "source": [
        "# Choose model\n",
        "MODEL_NAME = \"google/flan-t5-small\"  # Options: \"google/flan-t5-base\", \"gpt2\"\n",
        "\n",
        "print(f\"Selected model: {MODEL_NAME}\")\n",
        "print(\"\\nLoading tokenizer...\")\n",
        "\n",
        "tokenizer = AutoTokenizer.from_pretrained(MODEL_NAME)\n",
        "\n",
        "print(f\"✓ Tokenizer loaded\")\n",
        "print(f\"Vocabulary size: {len(tokenizer):,}\")\n"
      ]
    },
    {
      "cell_type": "markdown",
      "metadata": {
        "id": "sThKWk9Srz85"
      },
      "source": [
        "### 5.1 Tokenization\n"
      ]
    },
    {
      "cell_type": "code",
      "execution_count": 50,
      "metadata": {
        "colab": {
          "base_uri": "https://localhost:8080/"
        },
        "id": "gC84oAysrz85",
        "outputId": "4d56f800-87ae-455b-827f-253cae49e1a9"
      },
      "outputs": [
        {
          "output_type": "stream",
          "name": "stdout",
          "text": [
            "✓ Preprocessing function defined\n",
            "Max input length: 256\n",
            "Max target length: 512\n"
          ]
        }
      ],
      "source": [
        "# Tokenization parameters\n",
        "MAX_INPUT_LENGTH = 256   # Maximum tokens for input (question)\n",
        "MAX_TARGET_LENGTH = 512  # Maximum tokens for output (answer)\n",
        "\n",
        "def preprocess_function(examples):\n",
        "    \"\"\"\n",
        "    Tokenize questions and answers for T5 models.\n",
        "    For T5, we format the input with a task prefix.\n",
        "    \"\"\"\n",
        "    prefix = \"answer the medical question: \"\n",
        "\n",
        "    inputs = [prefix + q for q in examples['question']]\n",
        "    targets = examples['answer']\n",
        "\n",
        "    # Tokenize inputs\n",
        "    model_inputs = tokenizer(\n",
        "        inputs,\n",
        "        max_length=MAX_INPUT_LENGTH,\n",
        "        truncation=True,\n",
        "        padding='max_length'\n",
        "    )\n",
        "\n",
        "    # Tokenize targets\n",
        "    labels = tokenizer(\n",
        "        targets,\n",
        "        max_length=MAX_TARGET_LENGTH,\n",
        "        truncation=True,\n",
        "        padding='max_length'\n",
        "    )\n",
        "\n",
        "    model_inputs['labels'] = labels['input_ids']\n",
        "\n",
        "    return model_inputs\n",
        "\n",
        "print(\"✓ Preprocessing function defined\")\n",
        "print(f\"Max input length: {MAX_INPUT_LENGTH}\")\n",
        "print(f\"Max target length: {MAX_TARGET_LENGTH}\")\n"
      ]
    },
    {
      "cell_type": "code",
      "execution_count": 51,
      "metadata": {
        "colab": {
          "base_uri": "https://localhost:8080/",
          "height": 238,
          "referenced_widgets": [
            "60a2015bd31e437f887043336c1143fc",
            "16d2a5bc5baa417283a0c6009772eadb",
            "73e088b4b08c4cca86d1712da5d6eb14",
            "3fd5affb2b3b4c748ab7526d4bcb4949",
            "e855e92cece14e00b1077bc51dc12d39",
            "0ce9168a4a014eb6a25dae5df465ef5e",
            "74c08f1068c84744ab7987109b792dcc",
            "aaeaa68a359b4d98b0ffb9e1cd67b193",
            "a6cd0201a4ff4d94b5d94cc2c6e090b0",
            "8c342f6319284f4fa179f3e88c70800c",
            "a7031d8514f04824a1c547f14f27b45e",
            "dd0465a6c72f4a95b8a584663c24442e",
            "9941dfaa667e43b09bf5e77cee21e5d2",
            "c80308d945c742c1abe843216e0fb114",
            "c12d43c234b44aadb1c27ac21b99a156",
            "20ef3987af14476180d1b76a228881e7",
            "d10ca7b1f87746328286f4ac9eef55f9",
            "52a1bc551dca4c228d7273922e8ec15c",
            "b1f312bb1e014deb9421c9b0fc110c2b",
            "c9ccac36172e4ad380edb06f3a145390",
            "804ed3c7d16d4f438b4b5f6b68dc3d13",
            "05b445150ba54cc7a2dde52e972c8d84",
            "6ac8317d41a94743aa526763a8ee3d33",
            "3cfe7037e4f6402b93b3936762fd6707",
            "d1e77e9003cc40f98b1fb55d3f0e143f",
            "fa82ff1a76e84cd5ba4fc67ea9e90846",
            "bd5b9028d7014ff5935662f32ef8eba1",
            "a3505c8492ee4144974db48dd4eac4f4",
            "e74b797932d6469e82e147ea682efebb",
            "c600c352777041fba402b16f06251f0e",
            "5ebe4062f9f446bbb45a9c7c521f0771",
            "7dfc8f3391be4680823e23f521efd217",
            "48d44788d37f47d48383799916a5e070"
          ]
        },
        "id": "F2glRB10rz86",
        "outputId": "929b52a2-d4a9-4b43-dcaf-9c0256715aab"
      },
      "outputs": [
        {
          "output_type": "stream",
          "name": "stdout",
          "text": [
            "Converting to Hugging Face datasets...\n",
            "Tokenizing datasets (this may take a few minutes)...\n"
          ]
        },
        {
          "output_type": "display_data",
          "data": {
            "text/plain": [
              "Map:   0%|          | 0/13087 [00:00<?, ? examples/s]"
            ],
            "application/vnd.jupyter.widget-view+json": {
              "version_major": 2,
              "version_minor": 0,
              "model_id": "60a2015bd31e437f887043336c1143fc"
            }
          },
          "metadata": {}
        },
        {
          "output_type": "display_data",
          "data": {
            "text/plain": [
              "Map:   0%|          | 0/1636 [00:00<?, ? examples/s]"
            ],
            "application/vnd.jupyter.widget-view+json": {
              "version_major": 2,
              "version_minor": 0,
              "model_id": "dd0465a6c72f4a95b8a584663c24442e"
            }
          },
          "metadata": {}
        },
        {
          "output_type": "display_data",
          "data": {
            "text/plain": [
              "Map:   0%|          | 0/1636 [00:00<?, ? examples/s]"
            ],
            "application/vnd.jupyter.widget-view+json": {
              "version_major": 2,
              "version_minor": 0,
              "model_id": "6ac8317d41a94743aa526763a8ee3d33"
            }
          },
          "metadata": {}
        },
        {
          "output_type": "stream",
          "name": "stdout",
          "text": [
            "\n",
            "✓ Tokenization complete!\n",
            "Training samples: 13,087\n",
            "Validation samples: 1,636\n",
            "Test samples: 1,636\n"
          ]
        }
      ],
      "source": [
        "# Convert to Hugging Face datasets and tokenize\n",
        "print(\"Converting to Hugging Face datasets...\")\n",
        "train_dataset = Dataset.from_pandas(train_df)\n",
        "val_dataset = Dataset.from_pandas(val_df)\n",
        "test_dataset = Dataset.from_pandas(test_df)\n",
        "\n",
        "print(\"Tokenizing datasets (this may take a few minutes)...\")\n",
        "tokenized_train = train_dataset.map(\n",
        "    preprocess_function,\n",
        "    batched=True,\n",
        "    remove_columns=train_dataset.column_names\n",
        ")\n",
        "\n",
        "tokenized_val = val_dataset.map(\n",
        "    preprocess_function,\n",
        "    batched=True,\n",
        "    remove_columns=val_dataset.column_names\n",
        ")\n",
        "\n",
        "tokenized_test = test_dataset.map(\n",
        "    preprocess_function,\n",
        "    batched=True,\n",
        "    remove_columns=test_dataset.column_names\n",
        ")\n",
        "\n",
        "print(f\"\\n✓ Tokenization complete!\")\n",
        "print(f\"Training samples: {len(tokenized_train):,}\")\n",
        "print(f\"Validation samples: {len(tokenized_val):,}\")\n",
        "print(f\"Test samples: {len(tokenized_test):,}\")\n"
      ]
    },
    {
      "cell_type": "markdown",
      "metadata": {
        "id": "ehu1QBlKrz86"
      },
      "source": [
        "### 5.2 Load Pre-trained Model\n"
      ]
    },
    {
      "cell_type": "code",
      "execution_count": 52,
      "metadata": {
        "colab": {
          "base_uri": "https://localhost:8080/",
          "height": 507
        },
        "id": "H3PYO5BErz86",
        "outputId": "cceae8b7-df39-457d-83a7-0a01abb55d41"
      },
      "outputs": [
        {
          "output_type": "stream",
          "name": "stdout",
          "text": [
            "Loading google/flan-t5-small model...\n"
          ]
        },
        {
          "output_type": "error",
          "ename": "TypeError",
          "evalue": "'builtins.safe_open' object is not iterable",
          "traceback": [
            "\u001b[0;31m---------------------------------------------------------------------------\u001b[0m",
            "\u001b[0;31mTypeError\u001b[0m                                 Traceback (most recent call last)",
            "\u001b[0;32m/tmp/ipython-input-3881791030.py\u001b[0m in \u001b[0;36m<cell line: 0>\u001b[0;34m()\u001b[0m\n\u001b[1;32m      1\u001b[0m \u001b[0;31m# Load model\u001b[0m\u001b[0;34m\u001b[0m\u001b[0;34m\u001b[0m\u001b[0m\n\u001b[1;32m      2\u001b[0m \u001b[0mprint\u001b[0m\u001b[0;34m(\u001b[0m\u001b[0;34mf\"Loading {MODEL_NAME} model...\"\u001b[0m\u001b[0;34m)\u001b[0m\u001b[0;34m\u001b[0m\u001b[0;34m\u001b[0m\u001b[0m\n\u001b[0;32m----> 3\u001b[0;31m \u001b[0mmodel\u001b[0m \u001b[0;34m=\u001b[0m \u001b[0mTFAutoModelForSeq2SeqLM\u001b[0m\u001b[0;34m.\u001b[0m\u001b[0mfrom_pretrained\u001b[0m\u001b[0;34m(\u001b[0m\u001b[0mMODEL_NAME\u001b[0m\u001b[0;34m)\u001b[0m\u001b[0;34m\u001b[0m\u001b[0;34m\u001b[0m\u001b[0m\n\u001b[0m\u001b[1;32m      4\u001b[0m \u001b[0;34m\u001b[0m\u001b[0m\n\u001b[1;32m      5\u001b[0m \u001b[0mprint\u001b[0m\u001b[0;34m(\u001b[0m\u001b[0;34m\"✓ Model loaded successfully!\"\u001b[0m\u001b[0;34m)\u001b[0m\u001b[0;34m\u001b[0m\u001b[0;34m\u001b[0m\u001b[0m\n",
            "\u001b[0;32m/usr/local/lib/python3.12/dist-packages/transformers/models/auto/auto_factory.py\u001b[0m in \u001b[0;36mfrom_pretrained\u001b[0;34m(cls, pretrained_model_name_or_path, *model_args, **kwargs)\u001b[0m\n\u001b[1;32m    602\u001b[0m             \u001b[0;32mif\u001b[0m \u001b[0mmodel_class\u001b[0m\u001b[0;34m.\u001b[0m\u001b[0mconfig_class\u001b[0m \u001b[0;34m==\u001b[0m \u001b[0mconfig\u001b[0m\u001b[0;34m.\u001b[0m\u001b[0msub_configs\u001b[0m\u001b[0;34m.\u001b[0m\u001b[0mget\u001b[0m\u001b[0;34m(\u001b[0m\u001b[0;34m\"text_config\"\u001b[0m\u001b[0;34m,\u001b[0m \u001b[0;32mNone\u001b[0m\u001b[0;34m)\u001b[0m\u001b[0;34m:\u001b[0m\u001b[0;34m\u001b[0m\u001b[0;34m\u001b[0m\u001b[0m\n\u001b[1;32m    603\u001b[0m                 \u001b[0mconfig\u001b[0m \u001b[0;34m=\u001b[0m \u001b[0mconfig\u001b[0m\u001b[0;34m.\u001b[0m\u001b[0mget_text_config\u001b[0m\u001b[0;34m(\u001b[0m\u001b[0;34m)\u001b[0m\u001b[0;34m\u001b[0m\u001b[0;34m\u001b[0m\u001b[0m\n\u001b[0;32m--> 604\u001b[0;31m             return model_class.from_pretrained(\n\u001b[0m\u001b[1;32m    605\u001b[0m                 \u001b[0mpretrained_model_name_or_path\u001b[0m\u001b[0;34m,\u001b[0m \u001b[0;34m*\u001b[0m\u001b[0mmodel_args\u001b[0m\u001b[0;34m,\u001b[0m \u001b[0mconfig\u001b[0m\u001b[0;34m=\u001b[0m\u001b[0mconfig\u001b[0m\u001b[0;34m,\u001b[0m \u001b[0;34m**\u001b[0m\u001b[0mhub_kwargs\u001b[0m\u001b[0;34m,\u001b[0m \u001b[0;34m**\u001b[0m\u001b[0mkwargs\u001b[0m\u001b[0;34m\u001b[0m\u001b[0;34m\u001b[0m\u001b[0m\n\u001b[1;32m    606\u001b[0m             )\n",
            "\u001b[0;32m/usr/local/lib/python3.12/dist-packages/transformers/modeling_tf_utils.py\u001b[0m in \u001b[0;36mfrom_pretrained\u001b[0;34m(cls, pretrained_model_name_or_path, config, cache_dir, ignore_mismatched_sizes, force_download, local_files_only, token, revision, use_safetensors, *model_args, **kwargs)\u001b[0m\n\u001b[1;32m   2962\u001b[0m                 \u001b[0;31m# We load in TF format here because PT weights often need to be transposed, and this is much\u001b[0m\u001b[0;34m\u001b[0m\u001b[0;34m\u001b[0m\u001b[0m\n\u001b[1;32m   2963\u001b[0m                 \u001b[0;31m# faster on GPU. Loading as numpy and transposing on CPU adds several seconds to load times.\u001b[0m\u001b[0;34m\u001b[0m\u001b[0;34m\u001b[0m\u001b[0m\n\u001b[0;32m-> 2964\u001b[0;31m                 return load_pytorch_state_dict_in_tf2_model(\n\u001b[0m\u001b[1;32m   2965\u001b[0m                     \u001b[0mmodel\u001b[0m\u001b[0;34m,\u001b[0m\u001b[0;34m\u001b[0m\u001b[0;34m\u001b[0m\u001b[0m\n\u001b[1;32m   2966\u001b[0m                     \u001b[0msafetensors_archive\u001b[0m\u001b[0;34m,\u001b[0m\u001b[0;34m\u001b[0m\u001b[0;34m\u001b[0m\u001b[0m\n",
            "\u001b[0;32m/usr/local/lib/python3.12/dist-packages/transformers/modeling_tf_pytorch_utils.py\u001b[0m in \u001b[0;36mload_pytorch_state_dict_in_tf2_model\u001b[0;34m(tf_model, pt_state_dict, tf_inputs, allow_missing_keys, output_loading_info, _prefix, tf_to_pt_weight_rename, ignore_mismatched_sizes, skip_logger_warnings)\u001b[0m\n\u001b[1;32m    331\u001b[0m     \u001b[0;31m# Convert old format to new format if needed from a PyTorch state_dict\u001b[0m\u001b[0;34m\u001b[0m\u001b[0;34m\u001b[0m\u001b[0m\n\u001b[1;32m    332\u001b[0m     \u001b[0mtf_keys_to_pt_keys\u001b[0m \u001b[0;34m=\u001b[0m \u001b[0;34m{\u001b[0m\u001b[0;34m}\u001b[0m\u001b[0;34m\u001b[0m\u001b[0;34m\u001b[0m\u001b[0m\n\u001b[0;32m--> 333\u001b[0;31m     \u001b[0;32mfor\u001b[0m \u001b[0mkey\u001b[0m \u001b[0;32min\u001b[0m \u001b[0mpt_state_dict\u001b[0m\u001b[0;34m:\u001b[0m\u001b[0;34m\u001b[0m\u001b[0;34m\u001b[0m\u001b[0m\n\u001b[0m\u001b[1;32m    334\u001b[0m         \u001b[0mnew_key\u001b[0m \u001b[0;34m=\u001b[0m \u001b[0;32mNone\u001b[0m\u001b[0;34m\u001b[0m\u001b[0;34m\u001b[0m\u001b[0m\n\u001b[1;32m    335\u001b[0m         \u001b[0;32mif\u001b[0m \u001b[0;34m\"gamma\"\u001b[0m \u001b[0;32min\u001b[0m \u001b[0mkey\u001b[0m\u001b[0;34m:\u001b[0m\u001b[0;34m\u001b[0m\u001b[0;34m\u001b[0m\u001b[0m\n",
            "\u001b[0;31mTypeError\u001b[0m: 'builtins.safe_open' object is not iterable"
          ]
        }
      ],
      "source": [
        "# Load model\n",
        "print(f\"Loading {MODEL_NAME} model...\")\n",
        "model = TFAutoModelForSeq2SeqLM.from_pretrained(MODEL_NAME)\n",
        "\n",
        "print(\"✓ Model loaded successfully!\")\n",
        "print(f\"Total parameters: {model.num_parameters():,}\")\n"
      ]
    },
    {
      "cell_type": "markdown",
      "metadata": {
        "id": "eGDbiuYprz86"
      },
      "source": [
        "### 5.3 Hyperparameter Configuration\n"
      ]
    },
    {
      "cell_type": "code",
      "execution_count": null,
      "metadata": {
        "id": "DCNS1joQrz86"
      },
      "outputs": [],
      "source": [
        "# Hyperparameters - Experiment 1 (Baseline)\n",
        "BATCH_SIZE = 8\n",
        "LEARNING_RATE = 5e-5\n",
        "EPOCHS = 3\n",
        "WEIGHT_DECAY = 0.01\n",
        "\n",
        "hyperparams = {\n",
        "    'batch_size': BATCH_SIZE,\n",
        "    'learning_rate': LEARNING_RATE,\n",
        "    'epochs': EPOCHS,\n",
        "    'weight_decay': WEIGHT_DECAY,\n",
        "    'max_input_length': MAX_INPUT_LENGTH,\n",
        "    'max_target_length': MAX_TARGET_LENGTH\n",
        "}\n",
        "\n",
        "print(\"Hyperparameters for Experiment 1 (Baseline):\")\n",
        "print(\"=\"*50)\n",
        "for key, value in hyperparams.items():\n",
        "    print(f\"  {key:20s}: {value}\")\n",
        "print(\"=\"*50)\n"
      ]
    },
    {
      "cell_type": "code",
      "execution_count": null,
      "metadata": {
        "id": "EEC6Sb7_rz86"
      },
      "outputs": [],
      "source": [
        "# Convert to TensorFlow datasets\n",
        "print(\"Preparing TensorFlow datasets...\")\n",
        "tf_train_dataset = model.prepare_tf_dataset(\n",
        "    tokenized_train,\n",
        "    batch_size=BATCH_SIZE,\n",
        "    shuffle=True,\n",
        "    tokenizer=tokenizer,\n",
        ")\n",
        "\n",
        "tf_val_dataset = model.prepare_tf_dataset(\n",
        "    tokenized_val,\n",
        "    batch_size=BATCH_SIZE,\n",
        "    shuffle=False,\n",
        "    tokenizer=tokenizer,\n",
        ")\n",
        "\n",
        "print(\"✓ TensorFlow datasets prepared\")\n",
        "print(f\"Training batches: {len(tf_train_dataset)}\")\n",
        "print(f\"Validation batches: {len(tf_val_dataset)}\")\n"
      ]
    },
    {
      "cell_type": "code",
      "execution_count": null,
      "metadata": {
        "id": "VevT6CTCrz86"
      },
      "outputs": [],
      "source": [
        "# Create optimizer with warmup\n",
        "num_train_steps = len(tf_train_dataset) * EPOCHS\n",
        "num_warmup_steps = int(0.1 * num_train_steps)  # 10% warmup\n",
        "\n",
        "optimizer, lr_schedule = create_optimizer(\n",
        "    init_lr=LEARNING_RATE,\n",
        "    num_train_steps=num_train_steps,\n",
        "    num_warmup_steps=num_warmup_steps,\n",
        "    weight_decay_rate=WEIGHT_DECAY,\n",
        ")\n",
        "\n",
        "# Compile model\n",
        "model.compile(optimizer=optimizer)\n",
        "\n",
        "print(f\"✓ Optimizer created\")\n",
        "print(f\"Total training steps: {num_train_steps}\")\n",
        "print(f\"Warmup steps: {num_warmup_steps}\")\n",
        "print(\"✓ Model compiled successfully!\")\n"
      ]
    },
    {
      "cell_type": "markdown",
      "metadata": {
        "id": "6-tr9dkZrz86"
      },
      "source": [
        "### 5.4 Training\n"
      ]
    },
    {
      "cell_type": "code",
      "execution_count": null,
      "metadata": {
        "id": "CxW4z8t1rz86"
      },
      "outputs": [],
      "source": [
        "# Setup callbacks\n",
        "from tensorflow.keras.callbacks import EarlyStopping, ModelCheckpoint, ReduceLROnPlateau\n",
        "\n",
        "# Create models directory\n",
        "Path('models').mkdir(exist_ok=True)\n",
        "\n",
        "callbacks = [\n",
        "    EarlyStopping(\n",
        "        monitor='val_loss',\n",
        "        patience=2,\n",
        "        restore_best_weights=True,\n",
        "        verbose=1\n",
        "    ),\n",
        "    ModelCheckpoint(\n",
        "        filepath='models/best_model',\n",
        "        monitor='val_loss',\n",
        "        save_best_only=True,\n",
        "        save_weights_only=True,\n",
        "        verbose=1\n",
        "    ),\n",
        "    ReduceLROnPlateau(\n",
        "        monitor='val_loss',\n",
        "        factor=0.5,\n",
        "        patience=1,\n",
        "        verbose=1,\n",
        "        min_lr=1e-7\n",
        "    )\n",
        "]\n",
        "\n",
        "print(\"✓ Callbacks configured\")\n"
      ]
    },
    {
      "cell_type": "code",
      "execution_count": null,
      "metadata": {
        "id": "a4zjMjz-rz86"
      },
      "outputs": [],
      "source": [
        "# Train model\n",
        "print(f\"Starting training for {EPOCHS} epochs...\")\n",
        "print(\"=\"*80)\n",
        "print(\"This may take a while depending on your hardware...\")\n",
        "print(\"=\"*80 + \"\\n\")\n",
        "\n",
        "history = model.fit(\n",
        "    tf_train_dataset,\n",
        "    validation_data=tf_val_dataset,\n",
        "    epochs=EPOCHS,\n",
        "    callbacks=callbacks,\n",
        "    verbose=1\n",
        ")\n",
        "\n",
        "print(\"\\n\" + \"=\"*80)\n",
        "print(\"✓ Training completed!\")\n",
        "print(\"=\"*80)\n"
      ]
    },
    {
      "cell_type": "code",
      "execution_count": null,
      "metadata": {
        "id": "i-jEerTQrz86"
      },
      "outputs": [],
      "source": [
        "# Plot training history\n",
        "fig, axes = plt.subplots(1, 2, figsize=(15, 5))\n",
        "\n",
        "axes[0].plot(history.history['loss'], marker='o', label='Training Loss', linewidth=2)\n",
        "axes[0].plot(history.history['val_loss'], marker='s', label='Validation Loss', linewidth=2)\n",
        "axes[0].set_xlabel('Epoch', fontsize=12)\n",
        "axes[0].set_ylabel('Loss', fontsize=12)\n",
        "axes[0].set_title('Training and Validation Loss', fontsize=14, fontweight='bold')\n",
        "axes[0].legend(fontsize=11)\n",
        "axes[0].grid(True, alpha=0.3)\n",
        "\n",
        "axes[1].plot(history.history['loss'], marker='o', label='Training Loss', linewidth=2)\n",
        "axes[1].plot(history.history['val_loss'], marker='s', label='Validation Loss', linewidth=2)\n",
        "axes[1].set_xlabel('Epoch', fontsize=12)\n",
        "axes[1].set_ylabel('Loss (log scale)', fontsize=12)\n",
        "axes[1].set_title('Training and Validation Loss (Log Scale)', fontsize=14, fontweight='bold')\n",
        "axes[1].set_yscale('log')\n",
        "axes[1].legend(fontsize=11)\n",
        "axes[1].grid(True, alpha=0.3)\n",
        "\n",
        "plt.tight_layout()\n",
        "plt.savefig('training_history.png', dpi=300, bbox_inches='tight')\n",
        "plt.show()\n",
        "\n",
        "print(\"✓ Training history saved as 'training_history.png'\")\n"
      ]
    },
    {
      "cell_type": "code",
      "execution_count": null,
      "metadata": {
        "id": "_krXgGkXrz87"
      },
      "outputs": [],
      "source": [
        "# Save model\n",
        "print(\"Saving model and tokenizer...\")\n",
        "model.save_pretrained('models/healthcare_chatbot_v1')\n",
        "tokenizer.save_pretrained('models/healthcare_chatbot_v1')\n",
        "\n",
        "print(\"✓ Model and tokenizer saved to 'models/healthcare_chatbot_v1'\")\n"
      ]
    },
    {
      "cell_type": "markdown",
      "metadata": {
        "id": "V6V-aGpHrz87"
      },
      "source": [
        "## 6. Model Evaluation\n",
        "\n",
        "### 6.1 Generate Predictions\n"
      ]
    },
    {
      "cell_type": "code",
      "execution_count": null,
      "metadata": {
        "id": "SOxQAQW1rz87"
      },
      "outputs": [],
      "source": [
        "def generate_answer(question, model, tokenizer, max_length=512):\n",
        "    \"\"\"\n",
        "    Generate an answer for a given medical question.\n",
        "    \"\"\"\n",
        "    prefix = \"answer the medical question: \"\n",
        "    input_text = prefix + question\n",
        "\n",
        "    # Tokenize input\n",
        "    inputs = tokenizer(\n",
        "        input_text,\n",
        "        return_tensors='tf',\n",
        "        max_length=MAX_INPUT_LENGTH,\n",
        "        truncation=True\n",
        "    )\n",
        "\n",
        "    # Generate output\n",
        "    outputs = model.generate(\n",
        "        **inputs,\n",
        "        max_length=max_length,\n",
        "        num_beams=4,\n",
        "        early_stopping=True,\n",
        "        no_repeat_ngram_size=2,\n",
        "        temperature=0.7\n",
        "    )\n",
        "\n",
        "    # Decode output\n",
        "    answer = tokenizer.decode(outputs[0], skip_special_tokens=True)\n",
        "\n",
        "    return answer\n",
        "\n",
        "print(\"✓ Answer generation function defined\")\n"
      ]
    },
    {
      "cell_type": "code",
      "execution_count": null,
      "metadata": {
        "id": "6iFfoU-Xrz87"
      },
      "outputs": [],
      "source": [
        "# Test on sample questions from test set\n",
        "print(\"Testing on sample questions from test set:\")\n",
        "print(\"=\"*100 + \"\\n\")\n",
        "\n",
        "for i in range(min(5, len(test_df))):\n",
        "    question = test_df.iloc[i]['question']\n",
        "    true_answer = test_df.iloc[i]['answer']\n",
        "    predicted_answer = generate_answer(question, model, tokenizer)\n",
        "\n",
        "    print(f\"Example {i+1}:\")\n",
        "    print(f\"\\n📝 Question: {question}\")\n",
        "    print(f\"\\n✅ True Answer: {true_answer[:250]}...\")\n",
        "    print(f\"\\n🤖 Predicted Answer: {predicted_answer}\")\n",
        "    print(\"\\n\" + \"-\"*100 + \"\\n\")\n"
      ]
    },
    {
      "cell_type": "markdown",
      "metadata": {
        "id": "3FmBBKnNrz87"
      },
      "source": [
        "### 6.2 Quantitative Metrics (BLEU, ROUGE, Perplexity)\n"
      ]
    },
    {
      "cell_type": "code",
      "execution_count": null,
      "metadata": {
        "id": "dBIwUbG0rz87"
      },
      "outputs": [],
      "source": [
        "# Load evaluation metrics\n",
        "print(\"Loading evaluation metrics...\")\n",
        "bleu_metric = evaluate.load(\"bleu\")\n",
        "rouge_metric = evaluate.load(\"rouge\")\n",
        "print(\"✓ Evaluation metrics loaded\")\n"
      ]
    },
    {
      "cell_type": "code",
      "execution_count": null,
      "metadata": {
        "id": "gP-DH1ASrz87"
      },
      "outputs": [],
      "source": [
        "# Generate predictions for test set\n",
        "num_eval_samples = min(100, len(test_df))\n",
        "\n",
        "print(f\"Generating predictions for {num_eval_samples} test samples...\")\n",
        "print(\"⏳ This may take a few minutes...\\n\")\n",
        "\n",
        "predictions = []\n",
        "references = []\n",
        "\n",
        "for i in range(num_eval_samples):\n",
        "    question = test_df.iloc[i]['question']\n",
        "    true_answer = test_df.iloc[i]['answer']\n",
        "\n",
        "    predicted_answer = generate_answer(question, model, tokenizer)\n",
        "\n",
        "    predictions.append(predicted_answer)\n",
        "    references.append(true_answer)\n",
        "\n",
        "    if (i + 1) % 20 == 0:\n",
        "        print(f\"✓ Processed {i + 1}/{num_eval_samples} samples\")\n",
        "\n",
        "print(f\"\\n✓ Prediction generation complete! Generated {len(predictions)} predictions\")\n"
      ]
    },
    {
      "cell_type": "code",
      "execution_count": null,
      "metadata": {
        "id": "RDBxwmyurz9I"
      },
      "outputs": [],
      "source": [
        "# Calculate BLEU score\n",
        "print(\"Calculating BLEU scores...\")\n",
        "bleu_result = bleu_metric.compute(\n",
        "    predictions=predictions,\n",
        "    references=[[ref] for ref in references]\n",
        ")\n",
        "\n",
        "print(\"\\n📊 BLEU Score Results:\")\n",
        "print(\"=\"*50)\n",
        "print(f\"  BLEU:    {bleu_result['bleu']:.4f}\")\n",
        "print(f\"  BLEU-1:  {bleu_result['precisions'][0]:.4f}\")\n",
        "print(f\"  BLEU-2:  {bleu_result['precisions'][1]:.4f}\")\n",
        "print(f\"  BLEU-3:  {bleu_result['precisions'][2]:.4f}\")\n",
        "print(f\"  BLEU-4:  {bleu_result['precisions'][3]:.4f}\")\n",
        "print(\"=\"*50)\n"
      ]
    },
    {
      "cell_type": "code",
      "execution_count": null,
      "metadata": {
        "id": "JOpCD1Wyrz9I"
      },
      "outputs": [],
      "source": [
        "# Calculate ROUGE score\n",
        "print(\"Calculating ROUGE scores...\")\n",
        "rouge_result = rouge_metric.compute(\n",
        "    predictions=predictions,\n",
        "    references=references\n",
        ")\n",
        "\n",
        "print(\"\\n📊 ROUGE Score Results:\")\n",
        "print(\"=\"*50)\n",
        "print(f\"  ROUGE-1: {rouge_result['rouge1']:.4f}\")\n",
        "print(f\"  ROUGE-2: {rouge_result['rouge2']:.4f}\")\n",
        "print(f\"  ROUGE-L: {rouge_result['rougeL']:.4f}\")\n",
        "print(\"=\"*50)\n"
      ]
    },
    {
      "cell_type": "code",
      "execution_count": null,
      "metadata": {
        "id": "Eo3kDvl4rz9I"
      },
      "outputs": [],
      "source": [
        "# Calculate perplexity\n",
        "print(\"Calculating perplexity on validation set...\")\n",
        "\n",
        "val_loss = model.evaluate(tf_val_dataset, verbose=0)\n",
        "perplexity = np.exp(val_loss)\n",
        "\n",
        "print(f\"\\n📊 Perplexity: {perplexity:.4f}\")\n"
      ]
    },
    {
      "cell_type": "code",
      "execution_count": null,
      "metadata": {
        "id": "LBsgFcN8rz9I"
      },
      "outputs": [],
      "source": [
        "# Metrics summary\n",
        "metrics_summary = {\n",
        "    'BLEU': bleu_result['bleu'],\n",
        "    'BLEU-1': bleu_result['precisions'][0],\n",
        "    'BLEU-2': bleu_result['precisions'][1],\n",
        "    'BLEU-3': bleu_result['precisions'][2],\n",
        "    'BLEU-4': bleu_result['precisions'][3],\n",
        "    'ROUGE-1': rouge_result['rouge1'],\n",
        "    'ROUGE-2': rouge_result['rouge2'],\n",
        "    'ROUGE-L': rouge_result['rougeL'],\n",
        "    'Perplexity': perplexity,\n",
        "    'Validation_Loss': val_loss\n",
        "}\n",
        "\n",
        "print(\"\\n\" + \"=\"*60)\n",
        "print(\"📊 METRICS SUMMARY - Experiment 1 (Baseline)\")\n",
        "print(\"=\"*60)\n",
        "for metric, value in metrics_summary.items():\n",
        "    print(f\"{metric:20s}: {value:.4f}\")\n",
        "print(\"=\"*60)\n",
        "\n",
        "# Save metrics\n",
        "metrics_df = pd.DataFrame([metrics_summary])\n",
        "metrics_df.to_csv('metrics_experiment1.csv', index=False)\n",
        "print(\"\\n✓ Metrics saved to 'metrics_experiment1.csv'\")\n"
      ]
    },
    {
      "cell_type": "markdown",
      "metadata": {
        "id": "nQFPoemGrz9I"
      },
      "source": [
        "## 7. Interactive Testing\n",
        "\n",
        "Test the chatbot with various medical questions.\n"
      ]
    },
    {
      "cell_type": "code",
      "execution_count": null,
      "metadata": {
        "id": "eFZ13uI4rz9I"
      },
      "outputs": [],
      "source": [
        "# Test with sample medical questions\n",
        "test_questions = [\n",
        "    \"What are the symptoms of diabetes?\",\n",
        "    \"How can I prevent heart disease?\",\n",
        "    \"What is hypertension?\",\n",
        "    \"How do vaccines work?\",\n",
        "    \"What causes asthma?\",\n",
        "    \"What are the symptoms of COVID-19?\"\n",
        "]\n",
        "\n",
        "print(\"🏥 Healthcare Chatbot - Interactive Testing\")\n",
        "print(\"=\"*80 + \"\\n\")\n",
        "\n",
        "for q in test_questions:\n",
        "    print(f\"💬 You: {q}\")\n",
        "    answer = generate_answer(q, model, tokenizer)\n",
        "    print(f\"🤖 Bot: {answer}\")\n",
        "    print(\"\\n\" + \"-\"*80 + \"\\n\")\n"
      ]
    },
    {
      "cell_type": "markdown",
      "metadata": {
        "id": "lfqfq6Fcrz9I"
      },
      "source": [
        "### Out-of-Domain Testing\n",
        "\n",
        "Test how the chatbot handles non-medical questions.\n"
      ]
    },
    {
      "cell_type": "code",
      "execution_count": null,
      "metadata": {
        "id": "sEDkbfk6rz9I"
      },
      "outputs": [],
      "source": [
        "# Test with out-of-domain questions\n",
        "out_of_domain_questions = [\n",
        "    \"What is the capital of France?\",\n",
        "    \"How do I bake a cake?\",\n",
        "    \"What is the weather today?\",\n",
        "    \"Who won the World Cup in 2022?\"\n",
        "]\n",
        "\n",
        "print(\"🔍 Out-of-Domain Testing\")\n",
        "print(\"=\"*80 + \"\\n\")\n",
        "\n",
        "for q in out_of_domain_questions:\n",
        "    print(f\"💬 Question: {q}\")\n",
        "    answer = generate_answer(q, model, tokenizer)\n",
        "    print(f\"🤖 Bot Response: {answer}\")\n",
        "    print(\"-\"*80 + \"\\n\")\n"
      ]
    },
    {
      "cell_type": "markdown",
      "metadata": {
        "id": "LQwFlCXIrz9I"
      },
      "source": [
        "## 8. Hyperparameter Experiments\n",
        "\n",
        "Document different hyperparameter configurations for optimization.\n"
      ]
    },
    {
      "cell_type": "code",
      "execution_count": null,
      "metadata": {
        "id": "HpB1-bqErz9I"
      },
      "outputs": [],
      "source": [
        "# Define experiments for hyperparameter tuning\n",
        "experiments_config = [\n",
        "    {\n",
        "        'name': 'Experiment 2 - Higher Learning Rate',\n",
        "        'batch_size': 8,\n",
        "        'learning_rate': 1e-4,\n",
        "        'epochs': 3,\n",
        "        'weight_decay': 0.01\n",
        "    },\n",
        "    {\n",
        "        'name': 'Experiment 3 - Larger Batch Size',\n",
        "        'batch_size': 16,\n",
        "        'learning_rate': 5e-5,\n",
        "        'epochs': 3,\n",
        "        'weight_decay': 0.01\n",
        "    },\n",
        "    {\n",
        "        'name': 'Experiment 4 - More Epochs',\n",
        "        'batch_size': 8,\n",
        "        'learning_rate': 5e-5,\n",
        "        'epochs': 5,\n",
        "        'weight_decay': 0.01\n",
        "    },\n",
        "    {\n",
        "        'name': 'Experiment 5 - Lower Learning Rate',\n",
        "        'batch_size': 8,\n",
        "        'learning_rate': 3e-5,\n",
        "        'epochs': 4,\n",
        "        'weight_decay': 0.01\n",
        "    }\n",
        "]\n",
        "\n",
        "# Create comparison table\n",
        "comparison_data = {\n",
        "    'Experiment': ['Baseline (Exp 1)'],\n",
        "    'Batch_Size': [BATCH_SIZE],\n",
        "    'Learning_Rate': [LEARNING_RATE],\n",
        "    'Epochs': [EPOCHS],\n",
        "    'BLEU': [metrics_summary['BLEU']],\n",
        "    'ROUGE-1': [metrics_summary['ROUGE-1']],\n",
        "    'ROUGE-L': [metrics_summary['ROUGE-L']],\n",
        "    'Perplexity': [metrics_summary['Perplexity']],\n",
        "}\n",
        "\n",
        "comparison_df = pd.DataFrame(comparison_data)\n",
        "print(\"\\n📋 Hyperparameter Experiment Configurations:\")\n",
        "print(\"=\"*80)\n",
        "print(comparison_df.to_string(index=False))\n",
        "print(\"=\"*80)\n",
        "\n",
        "comparison_df.to_csv('experiment_comparison.csv', index=False)\n",
        "print(\"\\n✓ Comparison table saved to 'experiment_comparison.csv'\")\n"
      ]
    },
    {
      "cell_type": "markdown",
      "metadata": {
        "id": "mMDsjm5Vrz9I"
      },
      "source": [
        "## 9. Save Sample Conversations\n"
      ]
    },
    {
      "cell_type": "code",
      "execution_count": null,
      "metadata": {
        "id": "p7_rx99yrz9I"
      },
      "outputs": [],
      "source": [
        "# Save sample conversations for documentation\n",
        "print(\"Generating sample conversations for documentation...\")\n",
        "\n",
        "sample_conversations = []\n",
        "\n",
        "for i in range(min(10, len(test_df))):\n",
        "    question = test_df.iloc[i]['question']\n",
        "    true_answer = test_df.iloc[i]['answer']\n",
        "    predicted_answer = generate_answer(question, model, tokenizer)\n",
        "\n",
        "    sample_conversations.append({\n",
        "        'question': question,\n",
        "        'true_answer': true_answer,\n",
        "        'predicted_answer': predicted_answer\n",
        "    })\n",
        "\n",
        "conversations_df = pd.DataFrame(sample_conversations)\n",
        "conversations_df.to_csv('sample_conversations.csv', index=False)\n",
        "\n",
        "print(\"✓ Sample conversations saved to 'sample_conversations.csv'\")\n"
      ]
    },
    {
      "cell_type": "markdown",
      "metadata": {
        "id": "auypcXybrz9J"
      },
      "source": [
        "## 10. Project Summary\n",
        "\n",
        "### ✅ Completed Tasks:\n",
        "- ✓ Data collection and exploration\n",
        "- ✓ Comprehensive data visualization (6 plots)\n",
        "- ✓ Data preprocessing and cleaning\n",
        "- ✓ Tokenization with appropriate methods (WordPiece for T5)\n",
        "- ✓ Model fine-tuning with documented hyperparameters\n",
        "- ✓ Evaluation with BLEU, ROUGE, and Perplexity metrics\n",
        "- ✓ Qualitative testing with sample questions\n",
        "- ✓ Out-of-domain testing\n",
        "\n",
        "### 📁 Files Created:\n",
        "- `models/healthcare_chatbot_v1/` - Trained model and tokenizer\n",
        "- `data/train.csv`, `data/val.csv`, `data/test.csv` - Data splits\n",
        "- `metrics_experiment1.csv` - Evaluation metrics\n",
        "- `experiment_comparison.csv` - Hyperparameter comparison\n",
        "- `sample_conversations.csv` - Sample Q&A pairs\n",
        "- `dataset_analysis.png` - Dataset visualizations\n",
        "- `training_history.png` - Training history plots\n",
        "\n",
        "### 📋 Next Steps:\n",
        "1. **Hyperparameter Tuning:**\n",
        "   - Run experiments 2-5 with different configurations\n",
        "   - Compare results and aim for ≥10% improvement\n",
        "\n",
        "2. **Deployment:**\n",
        "   - Build Flask/FastAPI API\n",
        "   - Create web interface (Next.js/React or Streamlit)\n",
        "   - Deploy to Vercel/Heroku\n",
        "\n",
        "3. **Documentation:**\n",
        "   - Create comprehensive README\n",
        "   - Record 5-10 minute demo video\n",
        "   - Document all experiments\n",
        "\n",
        "4. **GitHub:**\n",
        "   - Push all code\n",
        "   - Add requirements.txt\n",
        "   - Include deployment instructions\n"
      ]
    },
    {
      "cell_type": "code",
      "execution_count": null,
      "metadata": {
        "id": "b0I98Q9Qrz9J"
      },
      "outputs": [],
      "source": [
        "print(\"\\n\" + \"=\"*80)\n",
        "print(\"🎉 NOTEBOOK EXECUTION COMPLETE!\")\n",
        "print(\"=\"*80)\n",
        "print(\"\\n✅ All sections executed successfully!\")\n",
        "print(\"\\n📊 Generated Files:\")\n",
        "print(\"  - models/healthcare_chatbot_v1/\")\n",
        "print(\"  - data/train.csv, val.csv, test.csv\")\n",
        "print(\"  - metrics_experiment1.csv\")\n",
        "print(\"  - experiment_comparison.csv\")\n",
        "print(\"  - sample_conversations.csv\")\n",
        "print(\"  - dataset_analysis.png\")\n",
        "print(\"  - training_history.png\")\n",
        "print(\"\\n🚀 Ready for:\")\n",
        "print(\"  1. Additional hyperparameter experiments\")\n",
        "print(\"  2. Deployment (API + Web Interface)\")\n",
        "print(\"  3. Demo video creation\")\n",
        "print(\"  4. GitHub documentation\")\n",
        "print(\"\\n\" + \"=\"*80)\n"
      ]
    }
  ],
  "metadata": {
    "kernelspec": {
      "display_name": "Python 3",
      "name": "python3"
    },
    "language_info": {
      "name": "python",
      "version": "3.8.0"
    },
    "colab": {
      "provenance": [],
      "gpuType": "V5E1"
    },
    "accelerator": "TPU",
    "widgets": {
      "application/vnd.jupyter.widget-state+json": {
        "60a2015bd31e437f887043336c1143fc": {
          "model_module": "@jupyter-widgets/controls",
          "model_name": "HBoxModel",
          "model_module_version": "1.5.0",
          "state": {
            "_dom_classes": [],
            "_model_module": "@jupyter-widgets/controls",
            "_model_module_version": "1.5.0",
            "_model_name": "HBoxModel",
            "_view_count": null,
            "_view_module": "@jupyter-widgets/controls",
            "_view_module_version": "1.5.0",
            "_view_name": "HBoxView",
            "box_style": "",
            "children": [
              "IPY_MODEL_16d2a5bc5baa417283a0c6009772eadb",
              "IPY_MODEL_73e088b4b08c4cca86d1712da5d6eb14",
              "IPY_MODEL_3fd5affb2b3b4c748ab7526d4bcb4949"
            ],
            "layout": "IPY_MODEL_e855e92cece14e00b1077bc51dc12d39"
          }
        },
        "16d2a5bc5baa417283a0c6009772eadb": {
          "model_module": "@jupyter-widgets/controls",
          "model_name": "HTMLModel",
          "model_module_version": "1.5.0",
          "state": {
            "_dom_classes": [],
            "_model_module": "@jupyter-widgets/controls",
            "_model_module_version": "1.5.0",
            "_model_name": "HTMLModel",
            "_view_count": null,
            "_view_module": "@jupyter-widgets/controls",
            "_view_module_version": "1.5.0",
            "_view_name": "HTMLView",
            "description": "",
            "description_tooltip": null,
            "layout": "IPY_MODEL_0ce9168a4a014eb6a25dae5df465ef5e",
            "placeholder": "​",
            "style": "IPY_MODEL_74c08f1068c84744ab7987109b792dcc",
            "value": "Map: 100%"
          }
        },
        "73e088b4b08c4cca86d1712da5d6eb14": {
          "model_module": "@jupyter-widgets/controls",
          "model_name": "FloatProgressModel",
          "model_module_version": "1.5.0",
          "state": {
            "_dom_classes": [],
            "_model_module": "@jupyter-widgets/controls",
            "_model_module_version": "1.5.0",
            "_model_name": "FloatProgressModel",
            "_view_count": null,
            "_view_module": "@jupyter-widgets/controls",
            "_view_module_version": "1.5.0",
            "_view_name": "ProgressView",
            "bar_style": "success",
            "description": "",
            "description_tooltip": null,
            "layout": "IPY_MODEL_aaeaa68a359b4d98b0ffb9e1cd67b193",
            "max": 13087,
            "min": 0,
            "orientation": "horizontal",
            "style": "IPY_MODEL_a6cd0201a4ff4d94b5d94cc2c6e090b0",
            "value": 13087
          }
        },
        "3fd5affb2b3b4c748ab7526d4bcb4949": {
          "model_module": "@jupyter-widgets/controls",
          "model_name": "HTMLModel",
          "model_module_version": "1.5.0",
          "state": {
            "_dom_classes": [],
            "_model_module": "@jupyter-widgets/controls",
            "_model_module_version": "1.5.0",
            "_model_name": "HTMLModel",
            "_view_count": null,
            "_view_module": "@jupyter-widgets/controls",
            "_view_module_version": "1.5.0",
            "_view_name": "HTMLView",
            "description": "",
            "description_tooltip": null,
            "layout": "IPY_MODEL_8c342f6319284f4fa179f3e88c70800c",
            "placeholder": "​",
            "style": "IPY_MODEL_a7031d8514f04824a1c547f14f27b45e",
            "value": " 13087/13087 [00:05&lt;00:00, 2431.18 examples/s]"
          }
        },
        "e855e92cece14e00b1077bc51dc12d39": {
          "model_module": "@jupyter-widgets/base",
          "model_name": "LayoutModel",
          "model_module_version": "1.2.0",
          "state": {
            "_model_module": "@jupyter-widgets/base",
            "_model_module_version": "1.2.0",
            "_model_name": "LayoutModel",
            "_view_count": null,
            "_view_module": "@jupyter-widgets/base",
            "_view_module_version": "1.2.0",
            "_view_name": "LayoutView",
            "align_content": null,
            "align_items": null,
            "align_self": null,
            "border": null,
            "bottom": null,
            "display": null,
            "flex": null,
            "flex_flow": null,
            "grid_area": null,
            "grid_auto_columns": null,
            "grid_auto_flow": null,
            "grid_auto_rows": null,
            "grid_column": null,
            "grid_gap": null,
            "grid_row": null,
            "grid_template_areas": null,
            "grid_template_columns": null,
            "grid_template_rows": null,
            "height": null,
            "justify_content": null,
            "justify_items": null,
            "left": null,
            "margin": null,
            "max_height": null,
            "max_width": null,
            "min_height": null,
            "min_width": null,
            "object_fit": null,
            "object_position": null,
            "order": null,
            "overflow": null,
            "overflow_x": null,
            "overflow_y": null,
            "padding": null,
            "right": null,
            "top": null,
            "visibility": null,
            "width": null
          }
        },
        "0ce9168a4a014eb6a25dae5df465ef5e": {
          "model_module": "@jupyter-widgets/base",
          "model_name": "LayoutModel",
          "model_module_version": "1.2.0",
          "state": {
            "_model_module": "@jupyter-widgets/base",
            "_model_module_version": "1.2.0",
            "_model_name": "LayoutModel",
            "_view_count": null,
            "_view_module": "@jupyter-widgets/base",
            "_view_module_version": "1.2.0",
            "_view_name": "LayoutView",
            "align_content": null,
            "align_items": null,
            "align_self": null,
            "border": null,
            "bottom": null,
            "display": null,
            "flex": null,
            "flex_flow": null,
            "grid_area": null,
            "grid_auto_columns": null,
            "grid_auto_flow": null,
            "grid_auto_rows": null,
            "grid_column": null,
            "grid_gap": null,
            "grid_row": null,
            "grid_template_areas": null,
            "grid_template_columns": null,
            "grid_template_rows": null,
            "height": null,
            "justify_content": null,
            "justify_items": null,
            "left": null,
            "margin": null,
            "max_height": null,
            "max_width": null,
            "min_height": null,
            "min_width": null,
            "object_fit": null,
            "object_position": null,
            "order": null,
            "overflow": null,
            "overflow_x": null,
            "overflow_y": null,
            "padding": null,
            "right": null,
            "top": null,
            "visibility": null,
            "width": null
          }
        },
        "74c08f1068c84744ab7987109b792dcc": {
          "model_module": "@jupyter-widgets/controls",
          "model_name": "DescriptionStyleModel",
          "model_module_version": "1.5.0",
          "state": {
            "_model_module": "@jupyter-widgets/controls",
            "_model_module_version": "1.5.0",
            "_model_name": "DescriptionStyleModel",
            "_view_count": null,
            "_view_module": "@jupyter-widgets/base",
            "_view_module_version": "1.2.0",
            "_view_name": "StyleView",
            "description_width": ""
          }
        },
        "aaeaa68a359b4d98b0ffb9e1cd67b193": {
          "model_module": "@jupyter-widgets/base",
          "model_name": "LayoutModel",
          "model_module_version": "1.2.0",
          "state": {
            "_model_module": "@jupyter-widgets/base",
            "_model_module_version": "1.2.0",
            "_model_name": "LayoutModel",
            "_view_count": null,
            "_view_module": "@jupyter-widgets/base",
            "_view_module_version": "1.2.0",
            "_view_name": "LayoutView",
            "align_content": null,
            "align_items": null,
            "align_self": null,
            "border": null,
            "bottom": null,
            "display": null,
            "flex": null,
            "flex_flow": null,
            "grid_area": null,
            "grid_auto_columns": null,
            "grid_auto_flow": null,
            "grid_auto_rows": null,
            "grid_column": null,
            "grid_gap": null,
            "grid_row": null,
            "grid_template_areas": null,
            "grid_template_columns": null,
            "grid_template_rows": null,
            "height": null,
            "justify_content": null,
            "justify_items": null,
            "left": null,
            "margin": null,
            "max_height": null,
            "max_width": null,
            "min_height": null,
            "min_width": null,
            "object_fit": null,
            "object_position": null,
            "order": null,
            "overflow": null,
            "overflow_x": null,
            "overflow_y": null,
            "padding": null,
            "right": null,
            "top": null,
            "visibility": null,
            "width": null
          }
        },
        "a6cd0201a4ff4d94b5d94cc2c6e090b0": {
          "model_module": "@jupyter-widgets/controls",
          "model_name": "ProgressStyleModel",
          "model_module_version": "1.5.0",
          "state": {
            "_model_module": "@jupyter-widgets/controls",
            "_model_module_version": "1.5.0",
            "_model_name": "ProgressStyleModel",
            "_view_count": null,
            "_view_module": "@jupyter-widgets/base",
            "_view_module_version": "1.2.0",
            "_view_name": "StyleView",
            "bar_color": null,
            "description_width": ""
          }
        },
        "8c342f6319284f4fa179f3e88c70800c": {
          "model_module": "@jupyter-widgets/base",
          "model_name": "LayoutModel",
          "model_module_version": "1.2.0",
          "state": {
            "_model_module": "@jupyter-widgets/base",
            "_model_module_version": "1.2.0",
            "_model_name": "LayoutModel",
            "_view_count": null,
            "_view_module": "@jupyter-widgets/base",
            "_view_module_version": "1.2.0",
            "_view_name": "LayoutView",
            "align_content": null,
            "align_items": null,
            "align_self": null,
            "border": null,
            "bottom": null,
            "display": null,
            "flex": null,
            "flex_flow": null,
            "grid_area": null,
            "grid_auto_columns": null,
            "grid_auto_flow": null,
            "grid_auto_rows": null,
            "grid_column": null,
            "grid_gap": null,
            "grid_row": null,
            "grid_template_areas": null,
            "grid_template_columns": null,
            "grid_template_rows": null,
            "height": null,
            "justify_content": null,
            "justify_items": null,
            "left": null,
            "margin": null,
            "max_height": null,
            "max_width": null,
            "min_height": null,
            "min_width": null,
            "object_fit": null,
            "object_position": null,
            "order": null,
            "overflow": null,
            "overflow_x": null,
            "overflow_y": null,
            "padding": null,
            "right": null,
            "top": null,
            "visibility": null,
            "width": null
          }
        },
        "a7031d8514f04824a1c547f14f27b45e": {
          "model_module": "@jupyter-widgets/controls",
          "model_name": "DescriptionStyleModel",
          "model_module_version": "1.5.0",
          "state": {
            "_model_module": "@jupyter-widgets/controls",
            "_model_module_version": "1.5.0",
            "_model_name": "DescriptionStyleModel",
            "_view_count": null,
            "_view_module": "@jupyter-widgets/base",
            "_view_module_version": "1.2.0",
            "_view_name": "StyleView",
            "description_width": ""
          }
        },
        "dd0465a6c72f4a95b8a584663c24442e": {
          "model_module": "@jupyter-widgets/controls",
          "model_name": "HBoxModel",
          "model_module_version": "1.5.0",
          "state": {
            "_dom_classes": [],
            "_model_module": "@jupyter-widgets/controls",
            "_model_module_version": "1.5.0",
            "_model_name": "HBoxModel",
            "_view_count": null,
            "_view_module": "@jupyter-widgets/controls",
            "_view_module_version": "1.5.0",
            "_view_name": "HBoxView",
            "box_style": "",
            "children": [
              "IPY_MODEL_9941dfaa667e43b09bf5e77cee21e5d2",
              "IPY_MODEL_c80308d945c742c1abe843216e0fb114",
              "IPY_MODEL_c12d43c234b44aadb1c27ac21b99a156"
            ],
            "layout": "IPY_MODEL_20ef3987af14476180d1b76a228881e7"
          }
        },
        "9941dfaa667e43b09bf5e77cee21e5d2": {
          "model_module": "@jupyter-widgets/controls",
          "model_name": "HTMLModel",
          "model_module_version": "1.5.0",
          "state": {
            "_dom_classes": [],
            "_model_module": "@jupyter-widgets/controls",
            "_model_module_version": "1.5.0",
            "_model_name": "HTMLModel",
            "_view_count": null,
            "_view_module": "@jupyter-widgets/controls",
            "_view_module_version": "1.5.0",
            "_view_name": "HTMLView",
            "description": "",
            "description_tooltip": null,
            "layout": "IPY_MODEL_d10ca7b1f87746328286f4ac9eef55f9",
            "placeholder": "​",
            "style": "IPY_MODEL_52a1bc551dca4c228d7273922e8ec15c",
            "value": "Map: 100%"
          }
        },
        "c80308d945c742c1abe843216e0fb114": {
          "model_module": "@jupyter-widgets/controls",
          "model_name": "FloatProgressModel",
          "model_module_version": "1.5.0",
          "state": {
            "_dom_classes": [],
            "_model_module": "@jupyter-widgets/controls",
            "_model_module_version": "1.5.0",
            "_model_name": "FloatProgressModel",
            "_view_count": null,
            "_view_module": "@jupyter-widgets/controls",
            "_view_module_version": "1.5.0",
            "_view_name": "ProgressView",
            "bar_style": "success",
            "description": "",
            "description_tooltip": null,
            "layout": "IPY_MODEL_b1f312bb1e014deb9421c9b0fc110c2b",
            "max": 1636,
            "min": 0,
            "orientation": "horizontal",
            "style": "IPY_MODEL_c9ccac36172e4ad380edb06f3a145390",
            "value": 1636
          }
        },
        "c12d43c234b44aadb1c27ac21b99a156": {
          "model_module": "@jupyter-widgets/controls",
          "model_name": "HTMLModel",
          "model_module_version": "1.5.0",
          "state": {
            "_dom_classes": [],
            "_model_module": "@jupyter-widgets/controls",
            "_model_module_version": "1.5.0",
            "_model_name": "HTMLModel",
            "_view_count": null,
            "_view_module": "@jupyter-widgets/controls",
            "_view_module_version": "1.5.0",
            "_view_name": "HTMLView",
            "description": "",
            "description_tooltip": null,
            "layout": "IPY_MODEL_804ed3c7d16d4f438b4b5f6b68dc3d13",
            "placeholder": "​",
            "style": "IPY_MODEL_05b445150ba54cc7a2dde52e972c8d84",
            "value": " 1636/1636 [00:00&lt;00:00, 2403.92 examples/s]"
          }
        },
        "20ef3987af14476180d1b76a228881e7": {
          "model_module": "@jupyter-widgets/base",
          "model_name": "LayoutModel",
          "model_module_version": "1.2.0",
          "state": {
            "_model_module": "@jupyter-widgets/base",
            "_model_module_version": "1.2.0",
            "_model_name": "LayoutModel",
            "_view_count": null,
            "_view_module": "@jupyter-widgets/base",
            "_view_module_version": "1.2.0",
            "_view_name": "LayoutView",
            "align_content": null,
            "align_items": null,
            "align_self": null,
            "border": null,
            "bottom": null,
            "display": null,
            "flex": null,
            "flex_flow": null,
            "grid_area": null,
            "grid_auto_columns": null,
            "grid_auto_flow": null,
            "grid_auto_rows": null,
            "grid_column": null,
            "grid_gap": null,
            "grid_row": null,
            "grid_template_areas": null,
            "grid_template_columns": null,
            "grid_template_rows": null,
            "height": null,
            "justify_content": null,
            "justify_items": null,
            "left": null,
            "margin": null,
            "max_height": null,
            "max_width": null,
            "min_height": null,
            "min_width": null,
            "object_fit": null,
            "object_position": null,
            "order": null,
            "overflow": null,
            "overflow_x": null,
            "overflow_y": null,
            "padding": null,
            "right": null,
            "top": null,
            "visibility": null,
            "width": null
          }
        },
        "d10ca7b1f87746328286f4ac9eef55f9": {
          "model_module": "@jupyter-widgets/base",
          "model_name": "LayoutModel",
          "model_module_version": "1.2.0",
          "state": {
            "_model_module": "@jupyter-widgets/base",
            "_model_module_version": "1.2.0",
            "_model_name": "LayoutModel",
            "_view_count": null,
            "_view_module": "@jupyter-widgets/base",
            "_view_module_version": "1.2.0",
            "_view_name": "LayoutView",
            "align_content": null,
            "align_items": null,
            "align_self": null,
            "border": null,
            "bottom": null,
            "display": null,
            "flex": null,
            "flex_flow": null,
            "grid_area": null,
            "grid_auto_columns": null,
            "grid_auto_flow": null,
            "grid_auto_rows": null,
            "grid_column": null,
            "grid_gap": null,
            "grid_row": null,
            "grid_template_areas": null,
            "grid_template_columns": null,
            "grid_template_rows": null,
            "height": null,
            "justify_content": null,
            "justify_items": null,
            "left": null,
            "margin": null,
            "max_height": null,
            "max_width": null,
            "min_height": null,
            "min_width": null,
            "object_fit": null,
            "object_position": null,
            "order": null,
            "overflow": null,
            "overflow_x": null,
            "overflow_y": null,
            "padding": null,
            "right": null,
            "top": null,
            "visibility": null,
            "width": null
          }
        },
        "52a1bc551dca4c228d7273922e8ec15c": {
          "model_module": "@jupyter-widgets/controls",
          "model_name": "DescriptionStyleModel",
          "model_module_version": "1.5.0",
          "state": {
            "_model_module": "@jupyter-widgets/controls",
            "_model_module_version": "1.5.0",
            "_model_name": "DescriptionStyleModel",
            "_view_count": null,
            "_view_module": "@jupyter-widgets/base",
            "_view_module_version": "1.2.0",
            "_view_name": "StyleView",
            "description_width": ""
          }
        },
        "b1f312bb1e014deb9421c9b0fc110c2b": {
          "model_module": "@jupyter-widgets/base",
          "model_name": "LayoutModel",
          "model_module_version": "1.2.0",
          "state": {
            "_model_module": "@jupyter-widgets/base",
            "_model_module_version": "1.2.0",
            "_model_name": "LayoutModel",
            "_view_count": null,
            "_view_module": "@jupyter-widgets/base",
            "_view_module_version": "1.2.0",
            "_view_name": "LayoutView",
            "align_content": null,
            "align_items": null,
            "align_self": null,
            "border": null,
            "bottom": null,
            "display": null,
            "flex": null,
            "flex_flow": null,
            "grid_area": null,
            "grid_auto_columns": null,
            "grid_auto_flow": null,
            "grid_auto_rows": null,
            "grid_column": null,
            "grid_gap": null,
            "grid_row": null,
            "grid_template_areas": null,
            "grid_template_columns": null,
            "grid_template_rows": null,
            "height": null,
            "justify_content": null,
            "justify_items": null,
            "left": null,
            "margin": null,
            "max_height": null,
            "max_width": null,
            "min_height": null,
            "min_width": null,
            "object_fit": null,
            "object_position": null,
            "order": null,
            "overflow": null,
            "overflow_x": null,
            "overflow_y": null,
            "padding": null,
            "right": null,
            "top": null,
            "visibility": null,
            "width": null
          }
        },
        "c9ccac36172e4ad380edb06f3a145390": {
          "model_module": "@jupyter-widgets/controls",
          "model_name": "ProgressStyleModel",
          "model_module_version": "1.5.0",
          "state": {
            "_model_module": "@jupyter-widgets/controls",
            "_model_module_version": "1.5.0",
            "_model_name": "ProgressStyleModel",
            "_view_count": null,
            "_view_module": "@jupyter-widgets/base",
            "_view_module_version": "1.2.0",
            "_view_name": "StyleView",
            "bar_color": null,
            "description_width": ""
          }
        },
        "804ed3c7d16d4f438b4b5f6b68dc3d13": {
          "model_module": "@jupyter-widgets/base",
          "model_name": "LayoutModel",
          "model_module_version": "1.2.0",
          "state": {
            "_model_module": "@jupyter-widgets/base",
            "_model_module_version": "1.2.0",
            "_model_name": "LayoutModel",
            "_view_count": null,
            "_view_module": "@jupyter-widgets/base",
            "_view_module_version": "1.2.0",
            "_view_name": "LayoutView",
            "align_content": null,
            "align_items": null,
            "align_self": null,
            "border": null,
            "bottom": null,
            "display": null,
            "flex": null,
            "flex_flow": null,
            "grid_area": null,
            "grid_auto_columns": null,
            "grid_auto_flow": null,
            "grid_auto_rows": null,
            "grid_column": null,
            "grid_gap": null,
            "grid_row": null,
            "grid_template_areas": null,
            "grid_template_columns": null,
            "grid_template_rows": null,
            "height": null,
            "justify_content": null,
            "justify_items": null,
            "left": null,
            "margin": null,
            "max_height": null,
            "max_width": null,
            "min_height": null,
            "min_width": null,
            "object_fit": null,
            "object_position": null,
            "order": null,
            "overflow": null,
            "overflow_x": null,
            "overflow_y": null,
            "padding": null,
            "right": null,
            "top": null,
            "visibility": null,
            "width": null
          }
        },
        "05b445150ba54cc7a2dde52e972c8d84": {
          "model_module": "@jupyter-widgets/controls",
          "model_name": "DescriptionStyleModel",
          "model_module_version": "1.5.0",
          "state": {
            "_model_module": "@jupyter-widgets/controls",
            "_model_module_version": "1.5.0",
            "_model_name": "DescriptionStyleModel",
            "_view_count": null,
            "_view_module": "@jupyter-widgets/base",
            "_view_module_version": "1.2.0",
            "_view_name": "StyleView",
            "description_width": ""
          }
        },
        "6ac8317d41a94743aa526763a8ee3d33": {
          "model_module": "@jupyter-widgets/controls",
          "model_name": "HBoxModel",
          "model_module_version": "1.5.0",
          "state": {
            "_dom_classes": [],
            "_model_module": "@jupyter-widgets/controls",
            "_model_module_version": "1.5.0",
            "_model_name": "HBoxModel",
            "_view_count": null,
            "_view_module": "@jupyter-widgets/controls",
            "_view_module_version": "1.5.0",
            "_view_name": "HBoxView",
            "box_style": "",
            "children": [
              "IPY_MODEL_3cfe7037e4f6402b93b3936762fd6707",
              "IPY_MODEL_d1e77e9003cc40f98b1fb55d3f0e143f",
              "IPY_MODEL_fa82ff1a76e84cd5ba4fc67ea9e90846"
            ],
            "layout": "IPY_MODEL_bd5b9028d7014ff5935662f32ef8eba1"
          }
        },
        "3cfe7037e4f6402b93b3936762fd6707": {
          "model_module": "@jupyter-widgets/controls",
          "model_name": "HTMLModel",
          "model_module_version": "1.5.0",
          "state": {
            "_dom_classes": [],
            "_model_module": "@jupyter-widgets/controls",
            "_model_module_version": "1.5.0",
            "_model_name": "HTMLModel",
            "_view_count": null,
            "_view_module": "@jupyter-widgets/controls",
            "_view_module_version": "1.5.0",
            "_view_name": "HTMLView",
            "description": "",
            "description_tooltip": null,
            "layout": "IPY_MODEL_a3505c8492ee4144974db48dd4eac4f4",
            "placeholder": "​",
            "style": "IPY_MODEL_e74b797932d6469e82e147ea682efebb",
            "value": "Map: 100%"
          }
        },
        "d1e77e9003cc40f98b1fb55d3f0e143f": {
          "model_module": "@jupyter-widgets/controls",
          "model_name": "FloatProgressModel",
          "model_module_version": "1.5.0",
          "state": {
            "_dom_classes": [],
            "_model_module": "@jupyter-widgets/controls",
            "_model_module_version": "1.5.0",
            "_model_name": "FloatProgressModel",
            "_view_count": null,
            "_view_module": "@jupyter-widgets/controls",
            "_view_module_version": "1.5.0",
            "_view_name": "ProgressView",
            "bar_style": "success",
            "description": "",
            "description_tooltip": null,
            "layout": "IPY_MODEL_c600c352777041fba402b16f06251f0e",
            "max": 1636,
            "min": 0,
            "orientation": "horizontal",
            "style": "IPY_MODEL_5ebe4062f9f446bbb45a9c7c521f0771",
            "value": 1636
          }
        },
        "fa82ff1a76e84cd5ba4fc67ea9e90846": {
          "model_module": "@jupyter-widgets/controls",
          "model_name": "HTMLModel",
          "model_module_version": "1.5.0",
          "state": {
            "_dom_classes": [],
            "_model_module": "@jupyter-widgets/controls",
            "_model_module_version": "1.5.0",
            "_model_name": "HTMLModel",
            "_view_count": null,
            "_view_module": "@jupyter-widgets/controls",
            "_view_module_version": "1.5.0",
            "_view_name": "HTMLView",
            "description": "",
            "description_tooltip": null,
            "layout": "IPY_MODEL_7dfc8f3391be4680823e23f521efd217",
            "placeholder": "​",
            "style": "IPY_MODEL_48d44788d37f47d48383799916a5e070",
            "value": " 1636/1636 [00:00&lt;00:00, 2376.64 examples/s]"
          }
        },
        "bd5b9028d7014ff5935662f32ef8eba1": {
          "model_module": "@jupyter-widgets/base",
          "model_name": "LayoutModel",
          "model_module_version": "1.2.0",
          "state": {
            "_model_module": "@jupyter-widgets/base",
            "_model_module_version": "1.2.0",
            "_model_name": "LayoutModel",
            "_view_count": null,
            "_view_module": "@jupyter-widgets/base",
            "_view_module_version": "1.2.0",
            "_view_name": "LayoutView",
            "align_content": null,
            "align_items": null,
            "align_self": null,
            "border": null,
            "bottom": null,
            "display": null,
            "flex": null,
            "flex_flow": null,
            "grid_area": null,
            "grid_auto_columns": null,
            "grid_auto_flow": null,
            "grid_auto_rows": null,
            "grid_column": null,
            "grid_gap": null,
            "grid_row": null,
            "grid_template_areas": null,
            "grid_template_columns": null,
            "grid_template_rows": null,
            "height": null,
            "justify_content": null,
            "justify_items": null,
            "left": null,
            "margin": null,
            "max_height": null,
            "max_width": null,
            "min_height": null,
            "min_width": null,
            "object_fit": null,
            "object_position": null,
            "order": null,
            "overflow": null,
            "overflow_x": null,
            "overflow_y": null,
            "padding": null,
            "right": null,
            "top": null,
            "visibility": null,
            "width": null
          }
        },
        "a3505c8492ee4144974db48dd4eac4f4": {
          "model_module": "@jupyter-widgets/base",
          "model_name": "LayoutModel",
          "model_module_version": "1.2.0",
          "state": {
            "_model_module": "@jupyter-widgets/base",
            "_model_module_version": "1.2.0",
            "_model_name": "LayoutModel",
            "_view_count": null,
            "_view_module": "@jupyter-widgets/base",
            "_view_module_version": "1.2.0",
            "_view_name": "LayoutView",
            "align_content": null,
            "align_items": null,
            "align_self": null,
            "border": null,
            "bottom": null,
            "display": null,
            "flex": null,
            "flex_flow": null,
            "grid_area": null,
            "grid_auto_columns": null,
            "grid_auto_flow": null,
            "grid_auto_rows": null,
            "grid_column": null,
            "grid_gap": null,
            "grid_row": null,
            "grid_template_areas": null,
            "grid_template_columns": null,
            "grid_template_rows": null,
            "height": null,
            "justify_content": null,
            "justify_items": null,
            "left": null,
            "margin": null,
            "max_height": null,
            "max_width": null,
            "min_height": null,
            "min_width": null,
            "object_fit": null,
            "object_position": null,
            "order": null,
            "overflow": null,
            "overflow_x": null,
            "overflow_y": null,
            "padding": null,
            "right": null,
            "top": null,
            "visibility": null,
            "width": null
          }
        },
        "e74b797932d6469e82e147ea682efebb": {
          "model_module": "@jupyter-widgets/controls",
          "model_name": "DescriptionStyleModel",
          "model_module_version": "1.5.0",
          "state": {
            "_model_module": "@jupyter-widgets/controls",
            "_model_module_version": "1.5.0",
            "_model_name": "DescriptionStyleModel",
            "_view_count": null,
            "_view_module": "@jupyter-widgets/base",
            "_view_module_version": "1.2.0",
            "_view_name": "StyleView",
            "description_width": ""
          }
        },
        "c600c352777041fba402b16f06251f0e": {
          "model_module": "@jupyter-widgets/base",
          "model_name": "LayoutModel",
          "model_module_version": "1.2.0",
          "state": {
            "_model_module": "@jupyter-widgets/base",
            "_model_module_version": "1.2.0",
            "_model_name": "LayoutModel",
            "_view_count": null,
            "_view_module": "@jupyter-widgets/base",
            "_view_module_version": "1.2.0",
            "_view_name": "LayoutView",
            "align_content": null,
            "align_items": null,
            "align_self": null,
            "border": null,
            "bottom": null,
            "display": null,
            "flex": null,
            "flex_flow": null,
            "grid_area": null,
            "grid_auto_columns": null,
            "grid_auto_flow": null,
            "grid_auto_rows": null,
            "grid_column": null,
            "grid_gap": null,
            "grid_row": null,
            "grid_template_areas": null,
            "grid_template_columns": null,
            "grid_template_rows": null,
            "height": null,
            "justify_content": null,
            "justify_items": null,
            "left": null,
            "margin": null,
            "max_height": null,
            "max_width": null,
            "min_height": null,
            "min_width": null,
            "object_fit": null,
            "object_position": null,
            "order": null,
            "overflow": null,
            "overflow_x": null,
            "overflow_y": null,
            "padding": null,
            "right": null,
            "top": null,
            "visibility": null,
            "width": null
          }
        },
        "5ebe4062f9f446bbb45a9c7c521f0771": {
          "model_module": "@jupyter-widgets/controls",
          "model_name": "ProgressStyleModel",
          "model_module_version": "1.5.0",
          "state": {
            "_model_module": "@jupyter-widgets/controls",
            "_model_module_version": "1.5.0",
            "_model_name": "ProgressStyleModel",
            "_view_count": null,
            "_view_module": "@jupyter-widgets/base",
            "_view_module_version": "1.2.0",
            "_view_name": "StyleView",
            "bar_color": null,
            "description_width": ""
          }
        },
        "7dfc8f3391be4680823e23f521efd217": {
          "model_module": "@jupyter-widgets/base",
          "model_name": "LayoutModel",
          "model_module_version": "1.2.0",
          "state": {
            "_model_module": "@jupyter-widgets/base",
            "_model_module_version": "1.2.0",
            "_model_name": "LayoutModel",
            "_view_count": null,
            "_view_module": "@jupyter-widgets/base",
            "_view_module_version": "1.2.0",
            "_view_name": "LayoutView",
            "align_content": null,
            "align_items": null,
            "align_self": null,
            "border": null,
            "bottom": null,
            "display": null,
            "flex": null,
            "flex_flow": null,
            "grid_area": null,
            "grid_auto_columns": null,
            "grid_auto_flow": null,
            "grid_auto_rows": null,
            "grid_column": null,
            "grid_gap": null,
            "grid_row": null,
            "grid_template_areas": null,
            "grid_template_columns": null,
            "grid_template_rows": null,
            "height": null,
            "justify_content": null,
            "justify_items": null,
            "left": null,
            "margin": null,
            "max_height": null,
            "max_width": null,
            "min_height": null,
            "min_width": null,
            "object_fit": null,
            "object_position": null,
            "order": null,
            "overflow": null,
            "overflow_x": null,
            "overflow_y": null,
            "padding": null,
            "right": null,
            "top": null,
            "visibility": null,
            "width": null
          }
        },
        "48d44788d37f47d48383799916a5e070": {
          "model_module": "@jupyter-widgets/controls",
          "model_name": "DescriptionStyleModel",
          "model_module_version": "1.5.0",
          "state": {
            "_model_module": "@jupyter-widgets/controls",
            "_model_module_version": "1.5.0",
            "_model_name": "DescriptionStyleModel",
            "_view_count": null,
            "_view_module": "@jupyter-widgets/base",
            "_view_module_version": "1.2.0",
            "_view_name": "StyleView",
            "description_width": ""
          }
        }
      }
    }
  },
  "nbformat": 4,
  "nbformat_minor": 0
}