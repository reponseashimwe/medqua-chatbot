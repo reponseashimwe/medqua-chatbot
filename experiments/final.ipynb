{
 "cells": [
  {
   "cell_type": "markdown",
   "metadata": {
    "id": "p2-68ADK_KiT"
   },
   "source": [
    "# Healthcare Chatbot - Medical QA System\n",
    "\n",
    "## Problem Statement\n",
    "\n",
    "Access to accurate medical information is a global challenge. Patients struggle to find reliable health answers, leading to delayed care, misinformation from unreliable sources, and overwhelmed healthcare systems. This project addresses this gap by developing an AI-powered chatbot that provides evidence-based answers to medical questions.\n",
    "\n",
    "## Domain Justification\n",
    "\n",
    "Healthcare is chosen because:\n",
    "- Universal relevance: health affects everyone\n",
    "- Critical information gap between medical experts and public understanding\n",
    "- Accessibility needs: not everyone has immediate access to healthcare professionals\n",
    "\n",
    "The chatbot serves as an accessible first point of contact for health information, helping users understand medical conditions, learn about treatments, and make informed decisions about seeking professional care.\n",
    "\n",
    "## Important Disclaimer\n",
    "\n",
    "This chatbot provides general health information only and is NOT a substitute for professional medical advice. Users must consult qualified healthcare professionals for medical concerns."
   ]
  },
  {
   "cell_type": "markdown",
   "metadata": {
    "id": "b0RsyQuA70a1"
   },
   "source": [
    "## Experimental Approach\n",
    "\n",
    "### Dataset: MedQuAD\n",
    "- 16,407 expert-curated medical Q&A pairs from authoritative sources (NIH, CDC, FDA)\n",
    "- Covers diseases, symptoms, treatments, and prevention\n",
    "- Training: 13,087 | Validation: 1,636 | Test: 1,636 samples\n",
    "\n",
    "### Model: Flan-T5-Small\n",
    "- Google's instruction-tuned T5 model (80M parameters)\n",
    "- Pre-trained for question-answering tasks\n",
    "- Superior to base T5 for medical Q&A due to instruction-following capabilities\n",
    "\n",
    "### Baseline to Beat\n",
    "- BLEU: 0.0283\n",
    "- ROUGE-L: 0.2102\n",
    "- Target: >10% improvement through prompting and decoding strategies\n",
    "\n",
    "### Framework\n",
    "TensorFlow 2.19 with Hugging Face Transformers"
   ]
  },
  {
   "cell_type": "markdown",
   "metadata": {
    "id": "zaXE2-H9dfVV"
   },
   "source": [
    "## 1. Environment Setup\n",
    "\n",
    "Installing required libraries for model training, evaluation, and data processing. The tf-keras package is installed first to ensure Keras 3 compatibility with TensorFlow."
   ]
  },
  {
   "cell_type": "code",
   "execution_count": 1,
   "metadata": {
    "colab": {
     "base_uri": "https://localhost:8080/"
    },
    "id": "mIfkkRSY70a3",
    "outputId": "82f87172-d364-4c52-b1a4-4d41687826f7"
   },
   "outputs": [
    {
     "name": "stdout",
     "output_type": "stream",
     "text": [
      "  Preparing metadata (setup.py) ... \u001b[?25l\u001b[?25hdone\n",
      "\u001b[2K     \u001b[90m━━━━━━━━━━━━━━━━━━━━━━━━━━━━━━━━━━━━━━━━\u001b[0m \u001b[32m51.8/51.8 kB\u001b[0m \u001b[31m2.0 MB/s\u001b[0m eta \u001b[36m0:00:00\u001b[0m\n",
      "\u001b[2K   \u001b[90m━━━━━━━━━━━━━━━━━━━━━━━━━━━━━━━━━━━━━━━━\u001b[0m \u001b[32m84.1/84.1 kB\u001b[0m \u001b[31m4.2 MB/s\u001b[0m eta \u001b[36m0:00:00\u001b[0m\n",
      "\u001b[2K   \u001b[90m━━━━━━━━━━━━━━━━━━━━━━━━━━━━━━━━━━━━━━━━\u001b[0m \u001b[32m104.1/104.1 kB\u001b[0m \u001b[31m9.2 MB/s\u001b[0m eta \u001b[36m0:00:00\u001b[0m\n",
      "\u001b[?25h  Building wheel for rouge-score (setup.py) ... \u001b[?25l\u001b[?25hdone\n",
      "✓ Installed!\n"
     ]
    }
   ],
   "source": [
    "%pip install -q tf-keras transformers tensorflow pandas numpy scikit-learn datasets evaluate rouge-score sacrebleu matplotlib seaborn\n",
    "print(\"✓ Installed!\")\n"
   ]
  },
  {
   "cell_type": "code",
   "execution_count": 14,
   "metadata": {
    "colab": {
     "base_uri": "https://localhost:8080/"
    },
    "id": "pz1h8rt470a4",
    "outputId": "945c1033-e6a0-42b4-e568-566c046797c3"
   },
   "outputs": [
    {
     "name": "stdout",
     "output_type": "stream",
     "text": [
      "TensorFlow version: 2.19.0\n",
      "GPU Available: True\n"
     ]
    }
   ],
   "source": [
    "import pandas as pd, numpy as np, matplotlib.pyplot as plt, json\n",
    "from pathlib import Path\n",
    "import warnings\n",
    "import re\n",
    "import seaborn as sns\n",
    "from transformers import AutoTokenizer, TFAutoModelForSeq2SeqLM\n",
    "from datasets import Dataset\n",
    "import evaluate, tensorflow as tf, tf_keras\n",
    "from datetime import datetime\n",
    "\n",
    "# Sklearn\n",
    "from sklearn.model_selection import train_test_split\n",
    "\n",
    "warnings.filterwarnings('ignore')\n",
    "sns.set_style('whitegrid')\n",
    "plt.rcParams['figure.figsize'] = (15, 10)\n",
    "\n",
    "# Set random seeds for reproducibility\n",
    "np.random.seed(42)\n",
    "tf.random.set_seed(42)\n",
    "\n",
    "print(f\"TensorFlow version: {tf.__version__}\")\n",
    "print(f\"GPU Available: {len(tf.config.list_physical_devices('GPU')) > 0}\")\n"
   ]
  },
  {
   "cell_type": "code",
   "execution_count": 6,
   "metadata": {
    "colab": {
     "base_uri": "https://localhost:8080/"
    },
    "id": "Bwz7B-32drnR",
    "outputId": "3f97faad-9754-4c57-97b5-eeae0bd3fea4"
   },
   "outputs": [
    {
     "name": "stdout",
     "output_type": "stream",
     "text": [
      "Mounted at /content/drive\n"
     ]
    }
   ],
   "source": [
    "from google.colab import drive\n",
    "drive.mount('/content/drive')"
   ]
  },
  {
   "cell_type": "markdown",
   "metadata": {
    "id": "hSDsDeYudiZq"
   },
   "source": [
    "## 2. Data Loading and Exploration\n",
    "\n",
    "The MedQuAD dataset contains expert-curated medical question-answer pairs from reliable sources. This section downloads the dataset from Kaggle and performs initial exploration to understand the data characteristics."
   ]
  },
  {
   "cell_type": "code",
   "execution_count": 7,
   "metadata": {
    "colab": {
     "base_uri": "https://localhost:8080/"
    },
    "id": "UQqXBEzgPPYZ",
    "outputId": "a72ae733-296c-4700-b3dc-524d7af23713"
   },
   "outputs": [
    {
     "name": "stdout",
     "output_type": "stream",
     "text": [
      "Downloading MedQuAD dataset from Kaggle...\n",
      "This may take a few minutes on first run...\n",
      "Downloading from https://www.kaggle.com/api/v1/datasets/download/pythonafroz/medquad-medical-question-answer-for-ai-research?dataset_version_number=1...\n"
     ]
    },
    {
     "name": "stderr",
     "output_type": "stream",
     "text": [
      "100%|██████████| 4.95M/4.95M [00:00<00:00, 79.8MB/s]"
     ]
    },
    {
     "name": "stdout",
     "output_type": "stream",
     "text": [
      "Extracting files...\n",
      "\n",
      "✓ Dataset downloaded to: /root/.cache/kagglehub/datasets/pythonafroz/medquad-medical-question-answer-for-ai-research/versions/1\n",
      "✓ Dataset copied to: data/medquad.csv\n"
     ]
    },
    {
     "name": "stderr",
     "output_type": "stream",
     "text": [
      "\n"
     ]
    }
   ],
   "source": [
    "# Download dataset using Kaggle Hub API\n",
    "import kagglehub\n",
    "import shutil\n",
    "\n",
    "print(\"Downloading MedQuAD dataset from Kaggle...\")\n",
    "print(\"This may take a few minutes on first run...\")\n",
    "\n",
    "# Download latest version\n",
    "dataset_path = kagglehub.dataset_download(\"pythonafroz/medquad-medical-question-answer-for-ai-research\")\n",
    "\n",
    "print(f\"\\n✓ Dataset downloaded to: {dataset_path}\")\n",
    "\n",
    "# Copy to data directory\n",
    "import os\n",
    "from pathlib import Path\n",
    "\n",
    "data_dir = Path('data')\n",
    "data_dir.mkdir(exist_ok=True)\n",
    "\n",
    "# Find the CSV file in the downloaded path\n",
    "csv_files = list(Path(dataset_path).glob('*.csv'))\n",
    "if csv_files:\n",
    "    source_file = csv_files[0]\n",
    "    dest_file = data_dir / 'medquad.csv'\n",
    "    shutil.copy(source_file, dest_file)\n",
    "    print(f\"✓ Dataset copied to: {dest_file}\")\n",
    "else:\n",
    "    print(\"⚠️ No CSV file found. Please check the dataset structure.\")\n",
    "    print(f\"Files in dataset: {list(Path(dataset_path).glob('*'))}\")\n"
   ]
  },
  {
   "cell_type": "code",
   "execution_count": 8,
   "metadata": {
    "colab": {
     "base_uri": "https://localhost:8080/",
     "height": 605
    },
    "id": "1LWGtdycd9Jr",
    "outputId": "26b0cc23-0aca-4499-e60b-ca8477890f7a"
   },
   "outputs": [
    {
     "name": "stdout",
     "output_type": "stream",
     "text": [
      "Dataset shape: (16412, 4)\n",
      "\n",
      "Column names: ['question', 'answer', 'source', 'focus_area']\n",
      "\n",
      "Dataset Info:\n",
      "<class 'pandas.core.frame.DataFrame'>\n",
      "RangeIndex: 16412 entries, 0 to 16411\n",
      "Data columns (total 4 columns):\n",
      " #   Column      Non-Null Count  Dtype \n",
      "---  ------      --------------  ----- \n",
      " 0   question    16412 non-null  object\n",
      " 1   answer      16407 non-null  object\n",
      " 2   source      16412 non-null  object\n",
      " 3   focus_area  16398 non-null  object\n",
      "dtypes: object(4)\n",
      "memory usage: 513.0+ KB\n",
      "\n",
      "First few rows:\n"
     ]
    },
    {
     "data": {
      "application/vnd.google.colaboratory.intrinsic+json": {
       "summary": "{\n  \"name\": \"df\",\n  \"rows\": 16412,\n  \"fields\": [\n    {\n      \"column\": \"question\",\n      \"properties\": {\n        \"dtype\": \"string\",\n        \"num_unique_values\": 14984,\n        \"samples\": [\n          \"How many people are affected by 8p11 myeloproliferative syndrome ?\",\n          \"What is (are) caudal regression syndrome ?\",\n          \"What is the outlook for Cephalic Disorders ?\"\n        ],\n        \"semantic_type\": \"\",\n        \"description\": \"\"\n      }\n    },\n    {\n      \"column\": \"answer\",\n      \"properties\": {\n        \"dtype\": \"string\",\n        \"num_unique_values\": 15817,\n        \"samples\": [\n          \"The prognosis depends upon the severity of symptoms. Children with early-onset AGS have the highest risk of death. Children with the later-onset form may be left with weakness or stiffness in the peripheral muscles and arms, weak muscles in the trunk of the body, and poor head control. Almost all children with AGS have mild to severe intellectual and physical impairment.\",\n          \"Scientists don't know exactly what causes prostate cancer. They cannot explain why one man gets prostate cancer and another does not. However, they have been able to identify some risk factors that are associated with the disease. A risk factor is anything that increases your chances of getting a disease. Age Age is the most important risk factor for prostate cancer. The disease is extremely rare in men under age 40, but the risk increases greatly with age. More than 60 percent of cases are diagnosed in men over age 65. The average age at the time of diagnosis is 65. Race Race is another major risk factor. In the United States, this disease is much more common in African American men than in any other group of men. It is least common in Asian and American Indian men. Family History A man's risk for developing prostate cancer is higher if his father or brother has had the disease. Other Risk Factors Scientists have wondered whether obesity, lack of exercise, smoking, radiation exposure, might increase risk. But at this time, there is no firm evidence that these factors contribute to an increased risk.\",\n          \"The retina is a layer of tissue in the back of your eye that senses light and sends images to your brain. It provides the sharp, central vision needed for reading, driving, and seeing fine detail. A retinal detachment lifts or pulls the retina from its normal position. It can occur at any age, but it is more common in people over age 40. It affects men more than women and whites more than African Americans. A retinal detachment is also more likely to occur in people who       - Are extremely nearsighted    - Have had a retinal detachment in the other eye    - Have a family history of retinal detachment    - Have had cataract surgery    - Have other eye diseases or disorders    - Have had an eye injury       Symptoms include an increase in the number of floaters, which are little \\\"cobwebs\\\" or specks that float about in your field of vision, and/or light flashes in the eye. It may also seem like there is a \\\"curtain\\\" over your field of vision.    A retinal detachment is a medical emergency. If not promptly treated, it can cause permanent vision loss. If you have any symptoms, see an eye care professional immediately. Treatment includes different types of surgery.    NIH: National Eye Institute\"\n        ],\n        \"semantic_type\": \"\",\n        \"description\": \"\"\n      }\n    },\n    {\n      \"column\": \"source\",\n      \"properties\": {\n        \"dtype\": \"category\",\n        \"num_unique_values\": 9,\n        \"samples\": [\n          \"GHR\",\n          \"CancerGov\",\n          \"NHLBI\"\n        ],\n        \"semantic_type\": \"\",\n        \"description\": \"\"\n      }\n    },\n    {\n      \"column\": \"focus_area\",\n      \"properties\": {\n        \"dtype\": \"category\",\n        \"num_unique_values\": 5126,\n        \"samples\": [\n          \"Adams-Oliver syndrome\",\n          \"Occupational Health\",\n          \"What I need to know about Diverticular Disease\"\n        ],\n        \"semantic_type\": \"\",\n        \"description\": \"\"\n      }\n    }\n  ]\n}",
       "type": "dataframe",
       "variable_name": "df"
      },
      "text/html": [
       "\n",
       "  <div id=\"df-7cba7cf4-e05b-4be7-8f21-2c977001b2f6\" class=\"colab-df-container\">\n",
       "    <div>\n",
       "<style scoped>\n",
       "    .dataframe tbody tr th:only-of-type {\n",
       "        vertical-align: middle;\n",
       "    }\n",
       "\n",
       "    .dataframe tbody tr th {\n",
       "        vertical-align: top;\n",
       "    }\n",
       "\n",
       "    .dataframe thead th {\n",
       "        text-align: right;\n",
       "    }\n",
       "</style>\n",
       "<table border=\"1\" class=\"dataframe\">\n",
       "  <thead>\n",
       "    <tr style=\"text-align: right;\">\n",
       "      <th></th>\n",
       "      <th>question</th>\n",
       "      <th>answer</th>\n",
       "      <th>source</th>\n",
       "      <th>focus_area</th>\n",
       "    </tr>\n",
       "  </thead>\n",
       "  <tbody>\n",
       "    <tr>\n",
       "      <th>0</th>\n",
       "      <td>What is (are) Glaucoma ?</td>\n",
       "      <td>Glaucoma is a group of diseases that can damag...</td>\n",
       "      <td>NIHSeniorHealth</td>\n",
       "      <td>Glaucoma</td>\n",
       "    </tr>\n",
       "    <tr>\n",
       "      <th>1</th>\n",
       "      <td>What causes Glaucoma ?</td>\n",
       "      <td>Nearly 2.7 million people have glaucoma, a lea...</td>\n",
       "      <td>NIHSeniorHealth</td>\n",
       "      <td>Glaucoma</td>\n",
       "    </tr>\n",
       "    <tr>\n",
       "      <th>2</th>\n",
       "      <td>What are the symptoms of Glaucoma ?</td>\n",
       "      <td>Symptoms of Glaucoma  Glaucoma can develop in ...</td>\n",
       "      <td>NIHSeniorHealth</td>\n",
       "      <td>Glaucoma</td>\n",
       "    </tr>\n",
       "    <tr>\n",
       "      <th>3</th>\n",
       "      <td>What are the treatments for Glaucoma ?</td>\n",
       "      <td>Although open-angle glaucoma cannot be cured, ...</td>\n",
       "      <td>NIHSeniorHealth</td>\n",
       "      <td>Glaucoma</td>\n",
       "    </tr>\n",
       "    <tr>\n",
       "      <th>4</th>\n",
       "      <td>What is (are) Glaucoma ?</td>\n",
       "      <td>Glaucoma is a group of diseases that can damag...</td>\n",
       "      <td>NIHSeniorHealth</td>\n",
       "      <td>Glaucoma</td>\n",
       "    </tr>\n",
       "  </tbody>\n",
       "</table>\n",
       "</div>\n",
       "    <div class=\"colab-df-buttons\">\n",
       "\n",
       "  <div class=\"colab-df-container\">\n",
       "    <button class=\"colab-df-convert\" onclick=\"convertToInteractive('df-7cba7cf4-e05b-4be7-8f21-2c977001b2f6')\"\n",
       "            title=\"Convert this dataframe to an interactive table.\"\n",
       "            style=\"display:none;\">\n",
       "\n",
       "  <svg xmlns=\"http://www.w3.org/2000/svg\" height=\"24px\" viewBox=\"0 -960 960 960\">\n",
       "    <path d=\"M120-120v-720h720v720H120Zm60-500h600v-160H180v160Zm220 220h160v-160H400v160Zm0 220h160v-160H400v160ZM180-400h160v-160H180v160Zm440 0h160v-160H620v160ZM180-180h160v-160H180v160Zm440 0h160v-160H620v160Z\"/>\n",
       "  </svg>\n",
       "    </button>\n",
       "\n",
       "  <style>\n",
       "    .colab-df-container {\n",
       "      display:flex;\n",
       "      gap: 12px;\n",
       "    }\n",
       "\n",
       "    .colab-df-convert {\n",
       "      background-color: #E8F0FE;\n",
       "      border: none;\n",
       "      border-radius: 50%;\n",
       "      cursor: pointer;\n",
       "      display: none;\n",
       "      fill: #1967D2;\n",
       "      height: 32px;\n",
       "      padding: 0 0 0 0;\n",
       "      width: 32px;\n",
       "    }\n",
       "\n",
       "    .colab-df-convert:hover {\n",
       "      background-color: #E2EBFA;\n",
       "      box-shadow: 0px 1px 2px rgba(60, 64, 67, 0.3), 0px 1px 3px 1px rgba(60, 64, 67, 0.15);\n",
       "      fill: #174EA6;\n",
       "    }\n",
       "\n",
       "    .colab-df-buttons div {\n",
       "      margin-bottom: 4px;\n",
       "    }\n",
       "\n",
       "    [theme=dark] .colab-df-convert {\n",
       "      background-color: #3B4455;\n",
       "      fill: #D2E3FC;\n",
       "    }\n",
       "\n",
       "    [theme=dark] .colab-df-convert:hover {\n",
       "      background-color: #434B5C;\n",
       "      box-shadow: 0px 1px 3px 1px rgba(0, 0, 0, 0.15);\n",
       "      filter: drop-shadow(0px 1px 2px rgba(0, 0, 0, 0.3));\n",
       "      fill: #FFFFFF;\n",
       "    }\n",
       "  </style>\n",
       "\n",
       "    <script>\n",
       "      const buttonEl =\n",
       "        document.querySelector('#df-7cba7cf4-e05b-4be7-8f21-2c977001b2f6 button.colab-df-convert');\n",
       "      buttonEl.style.display =\n",
       "        google.colab.kernel.accessAllowed ? 'block' : 'none';\n",
       "\n",
       "      async function convertToInteractive(key) {\n",
       "        const element = document.querySelector('#df-7cba7cf4-e05b-4be7-8f21-2c977001b2f6');\n",
       "        const dataTable =\n",
       "          await google.colab.kernel.invokeFunction('convertToInteractive',\n",
       "                                                    [key], {});\n",
       "        if (!dataTable) return;\n",
       "\n",
       "        const docLinkHtml = 'Like what you see? Visit the ' +\n",
       "          '<a target=\"_blank\" href=https://colab.research.google.com/notebooks/data_table.ipynb>data table notebook</a>'\n",
       "          + ' to learn more about interactive tables.';\n",
       "        element.innerHTML = '';\n",
       "        dataTable['output_type'] = 'display_data';\n",
       "        await google.colab.output.renderOutput(dataTable, element);\n",
       "        const docLink = document.createElement('div');\n",
       "        docLink.innerHTML = docLinkHtml;\n",
       "        element.appendChild(docLink);\n",
       "      }\n",
       "    </script>\n",
       "  </div>\n",
       "\n",
       "\n",
       "    <div id=\"df-b9c98c75-5a8c-4a32-a02e-61712e034c0d\">\n",
       "      <button class=\"colab-df-quickchart\" onclick=\"quickchart('df-b9c98c75-5a8c-4a32-a02e-61712e034c0d')\"\n",
       "                title=\"Suggest charts\"\n",
       "                style=\"display:none;\">\n",
       "\n",
       "<svg xmlns=\"http://www.w3.org/2000/svg\" height=\"24px\"viewBox=\"0 0 24 24\"\n",
       "     width=\"24px\">\n",
       "    <g>\n",
       "        <path d=\"M19 3H5c-1.1 0-2 .9-2 2v14c0 1.1.9 2 2 2h14c1.1 0 2-.9 2-2V5c0-1.1-.9-2-2-2zM9 17H7v-7h2v7zm4 0h-2V7h2v10zm4 0h-2v-4h2v4z\"/>\n",
       "    </g>\n",
       "</svg>\n",
       "      </button>\n",
       "\n",
       "<style>\n",
       "  .colab-df-quickchart {\n",
       "      --bg-color: #E8F0FE;\n",
       "      --fill-color: #1967D2;\n",
       "      --hover-bg-color: #E2EBFA;\n",
       "      --hover-fill-color: #174EA6;\n",
       "      --disabled-fill-color: #AAA;\n",
       "      --disabled-bg-color: #DDD;\n",
       "  }\n",
       "\n",
       "  [theme=dark] .colab-df-quickchart {\n",
       "      --bg-color: #3B4455;\n",
       "      --fill-color: #D2E3FC;\n",
       "      --hover-bg-color: #434B5C;\n",
       "      --hover-fill-color: #FFFFFF;\n",
       "      --disabled-bg-color: #3B4455;\n",
       "      --disabled-fill-color: #666;\n",
       "  }\n",
       "\n",
       "  .colab-df-quickchart {\n",
       "    background-color: var(--bg-color);\n",
       "    border: none;\n",
       "    border-radius: 50%;\n",
       "    cursor: pointer;\n",
       "    display: none;\n",
       "    fill: var(--fill-color);\n",
       "    height: 32px;\n",
       "    padding: 0;\n",
       "    width: 32px;\n",
       "  }\n",
       "\n",
       "  .colab-df-quickchart:hover {\n",
       "    background-color: var(--hover-bg-color);\n",
       "    box-shadow: 0 1px 2px rgba(60, 64, 67, 0.3), 0 1px 3px 1px rgba(60, 64, 67, 0.15);\n",
       "    fill: var(--button-hover-fill-color);\n",
       "  }\n",
       "\n",
       "  .colab-df-quickchart-complete:disabled,\n",
       "  .colab-df-quickchart-complete:disabled:hover {\n",
       "    background-color: var(--disabled-bg-color);\n",
       "    fill: var(--disabled-fill-color);\n",
       "    box-shadow: none;\n",
       "  }\n",
       "\n",
       "  .colab-df-spinner {\n",
       "    border: 2px solid var(--fill-color);\n",
       "    border-color: transparent;\n",
       "    border-bottom-color: var(--fill-color);\n",
       "    animation:\n",
       "      spin 1s steps(1) infinite;\n",
       "  }\n",
       "\n",
       "  @keyframes spin {\n",
       "    0% {\n",
       "      border-color: transparent;\n",
       "      border-bottom-color: var(--fill-color);\n",
       "      border-left-color: var(--fill-color);\n",
       "    }\n",
       "    20% {\n",
       "      border-color: transparent;\n",
       "      border-left-color: var(--fill-color);\n",
       "      border-top-color: var(--fill-color);\n",
       "    }\n",
       "    30% {\n",
       "      border-color: transparent;\n",
       "      border-left-color: var(--fill-color);\n",
       "      border-top-color: var(--fill-color);\n",
       "      border-right-color: var(--fill-color);\n",
       "    }\n",
       "    40% {\n",
       "      border-color: transparent;\n",
       "      border-right-color: var(--fill-color);\n",
       "      border-top-color: var(--fill-color);\n",
       "    }\n",
       "    60% {\n",
       "      border-color: transparent;\n",
       "      border-right-color: var(--fill-color);\n",
       "    }\n",
       "    80% {\n",
       "      border-color: transparent;\n",
       "      border-right-color: var(--fill-color);\n",
       "      border-bottom-color: var(--fill-color);\n",
       "    }\n",
       "    90% {\n",
       "      border-color: transparent;\n",
       "      border-bottom-color: var(--fill-color);\n",
       "    }\n",
       "  }\n",
       "</style>\n",
       "\n",
       "      <script>\n",
       "        async function quickchart(key) {\n",
       "          const quickchartButtonEl =\n",
       "            document.querySelector('#' + key + ' button');\n",
       "          quickchartButtonEl.disabled = true;  // To prevent multiple clicks.\n",
       "          quickchartButtonEl.classList.add('colab-df-spinner');\n",
       "          try {\n",
       "            const charts = await google.colab.kernel.invokeFunction(\n",
       "                'suggestCharts', [key], {});\n",
       "          } catch (error) {\n",
       "            console.error('Error during call to suggestCharts:', error);\n",
       "          }\n",
       "          quickchartButtonEl.classList.remove('colab-df-spinner');\n",
       "          quickchartButtonEl.classList.add('colab-df-quickchart-complete');\n",
       "        }\n",
       "        (() => {\n",
       "          let quickchartButtonEl =\n",
       "            document.querySelector('#df-b9c98c75-5a8c-4a32-a02e-61712e034c0d button');\n",
       "          quickchartButtonEl.style.display =\n",
       "            google.colab.kernel.accessAllowed ? 'block' : 'none';\n",
       "        })();\n",
       "      </script>\n",
       "    </div>\n",
       "\n",
       "    </div>\n",
       "  </div>\n"
      ],
      "text/plain": [
       "                                 question  \\\n",
       "0                What is (are) Glaucoma ?   \n",
       "1                  What causes Glaucoma ?   \n",
       "2     What are the symptoms of Glaucoma ?   \n",
       "3  What are the treatments for Glaucoma ?   \n",
       "4                What is (are) Glaucoma ?   \n",
       "\n",
       "                                              answer           source  \\\n",
       "0  Glaucoma is a group of diseases that can damag...  NIHSeniorHealth   \n",
       "1  Nearly 2.7 million people have glaucoma, a lea...  NIHSeniorHealth   \n",
       "2  Symptoms of Glaucoma  Glaucoma can develop in ...  NIHSeniorHealth   \n",
       "3  Although open-angle glaucoma cannot be cured, ...  NIHSeniorHealth   \n",
       "4  Glaucoma is a group of diseases that can damag...  NIHSeniorHealth   \n",
       "\n",
       "  focus_area  \n",
       "0   Glaucoma  \n",
       "1   Glaucoma  \n",
       "2   Glaucoma  \n",
       "3   Glaucoma  \n",
       "4   Glaucoma  "
      ]
     },
     "execution_count": 8,
     "metadata": {},
     "output_type": "execute_result"
    }
   ],
   "source": [
    "# Load the MedQuAD dataset\n",
    "data_path = 'data/medquad.csv'\n",
    "df = pd.read_csv(data_path)\n",
    "\n",
    "print(f\"Dataset shape: {df.shape}\")\n",
    "print(f\"\\nColumn names: {df.columns.tolist()}\")\n",
    "print(f\"\\nDataset Info:\")\n",
    "df.info()\n",
    "print(f\"\\nFirst few rows:\")\n",
    "df.head()\n"
   ]
  },
  {
   "cell_type": "code",
   "execution_count": 9,
   "metadata": {
    "colab": {
     "base_uri": "https://localhost:8080/"
    },
    "id": "6m-pab12eBun",
    "outputId": "f9b0ed19-52bd-4679-8e66-96aeb19e16f2"
   },
   "outputs": [
    {
     "name": "stdout",
     "output_type": "stream",
     "text": [
      "Sample Medical Q&A Pairs:\n",
      "\n",
      "====================================================================================================\n",
      "\n",
      "Example 1:\n",
      "Question: What is (are) Glaucoma ?\n",
      "Answer: Glaucoma is a group of diseases that can damage the eye's optic nerve and result in vision loss and blindness. While glaucoma can strike anyone, the risk is much greater for people over 60. How Glaucoma Develops  There are several different types of glaucoma. Most of these involve the drainage syste...\n",
      "Source: NIHSeniorHealth\n",
      "Focus Area: Glaucoma\n",
      "----------------------------------------------------------------------------------------------------\n",
      "\n",
      "Example 2:\n",
      "Question: What causes Glaucoma ?\n",
      "Answer: Nearly 2.7 million people have glaucoma, a leading cause of blindness in the United States. Although anyone can get glaucoma, some people are at higher risk. They include - African-Americans over age 40  - everyone over age 60, especially Hispanics/Latinos  - people with a family history of glaucoma...\n",
      "Source: NIHSeniorHealth\n",
      "Focus Area: Glaucoma\n",
      "----------------------------------------------------------------------------------------------------\n",
      "\n",
      "Example 3:\n",
      "Question: What are the symptoms of Glaucoma ?\n",
      "Answer: Symptoms of Glaucoma  Glaucoma can develop in one or both eyes. The most common type of glaucoma, open-angle glaucoma, has no symptoms at first. It causes no pain, and vision seems normal. Without treatment, people with glaucoma will slowly lose their peripheral, or side vision. They seem to be look...\n",
      "Source: NIHSeniorHealth\n",
      "Focus Area: Glaucoma\n",
      "----------------------------------------------------------------------------------------------------\n"
     ]
    }
   ],
   "source": [
    "# Display sample Q&A pairs\n",
    "print(\"Sample Medical Q&A Pairs:\\n\")\n",
    "print(\"=\"*100)\n",
    "for idx in range(min(3, len(df))):\n",
    "    print(f\"\\nExample {idx+1}:\")\n",
    "    print(f\"Question: {df.iloc[idx]['question']}\")\n",
    "    print(f\"Answer: {df.iloc[idx]['answer'][:300]}...\")\n",
    "    if 'source' in df.columns:\n",
    "        print(f\"Source: {df.iloc[idx]['source']}\")\n",
    "    if 'focus_area' in df.columns:\n",
    "        print(f\"Focus Area: {df.iloc[idx]['focus_area']}\")\n",
    "    print(\"-\"*100)\n"
   ]
  },
  {
   "cell_type": "code",
   "execution_count": 10,
   "metadata": {
    "colab": {
     "base_uri": "https://localhost:8080/"
    },
    "id": "b0l35MROeN_h",
    "outputId": "248a469a-ffe0-4e3c-fbdb-dddb77ae225e"
   },
   "outputs": [
    {
     "name": "stdout",
     "output_type": "stream",
     "text": [
      "Missing Values:\n",
      "question       0\n",
      "answer         5\n",
      "source         0\n",
      "focus_area    14\n",
      "dtype: int64\n",
      "\n",
      "==================================================\n",
      "\n",
      "Text Length Statistics:\n",
      "       question_length  answer_length  question_words  answer_words\n",
      "count     16412.000000   16412.000000    16412.000000  16412.000000\n",
      "mean         50.684438    1303.056483        8.211918    201.293322\n",
      "std          16.925355    1656.597408        2.381260    248.466938\n",
      "min          16.000000       3.000000        3.000000      1.000000\n",
      "25%          38.000000     487.000000        6.000000     71.000000\n",
      "50%          48.000000     889.500000        8.000000    138.000000\n",
      "75%          61.000000    1589.000000       10.000000    252.000000\n",
      "max         191.000000   29046.000000       27.000000   4281.000000\n"
     ]
    }
   ],
   "source": [
    "# Basic statistics\n",
    "print(\"Missing Values:\")\n",
    "print(df.isnull().sum())\n",
    "print(\"\\n\" + \"=\"*50)\n",
    "\n",
    "# Text length analysis\n",
    "df['question_length'] = df['question'].astype(str).apply(len)\n",
    "df['answer_length'] = df['answer'].astype(str).apply(len)\n",
    "df['question_words'] = df['question'].astype(str).apply(lambda x: len(x.split()))\n",
    "df['answer_words'] = df['answer'].astype(str).apply(lambda x: len(x.split()))\n",
    "\n",
    "print(\"\\nText Length Statistics:\")\n",
    "print(df[['question_length', 'answer_length', 'question_words', 'answer_words']].describe())\n"
   ]
  },
  {
   "cell_type": "markdown",
   "metadata": {
    "id": "gGufW3CIeRsO"
   },
   "source": [
    "## 3. Data Visualization\n",
    "\n",
    "Visualizing the dataset helps identify patterns and potential issues. We examine:\n",
    "- Question and answer length distributions to set appropriate token limits\n",
    "- Medical focus areas to understand topic diversity\n",
    "- Data sources to assess information reliability\n",
    "- Question-answer relationships to understand complexity"
   ]
  },
  {
   "cell_type": "code",
   "execution_count": 11,
   "metadata": {
    "colab": {
     "base_uri": "https://localhost:8080/",
     "height": 520
    },
    "id": "B4POUnEteUWC",
    "outputId": "ad39b0f7-314b-4e21-ff07-a3bf17b45934"
   },
   "outputs": [
    {
     "data": {
      "image/png": "[encoded data removed]",
      "text/plain": [
       "<Figure size 2000x1200 with 6 Axes>"
      ]
     },
     "metadata": {},
     "output_type": "display_data"
    },
    {
     "name": "stdout",
     "output_type": "stream",
     "text": [
      "Visualization saved as 'dataset_analysis.png'\n"
     ]
    }
   ],
   "source": [
    "# Create 6 visualizations in 2 rows of 3\n",
    "fig, axes = plt.subplots(2, 3, figsize=(20, 12))\n",
    "fig.suptitle('MedQuAD Dataset Analysis', fontsize=20, fontweight='bold', y=1.00)\n",
    "\n",
    "# 1. Question Character Length Distribution\n",
    "axes[0, 0].hist(df['question_length'], bins=50, edgecolor='black', alpha=0.7, color='#3498db')\n",
    "axes[0, 0].set_title('Question Character Length Distribution', fontsize=14, fontweight='bold')\n",
    "axes[0, 0].set_xlabel('Character Length')\n",
    "axes[0, 0].set_ylabel('Frequency')\n",
    "axes[0, 0].axvline(df['question_length'].mean(), color='red', linestyle='--', label=f'Mean: {df[\"question_length\"].mean():.0f}')\n",
    "axes[0, 0].legend()\n",
    "axes[0, 0].grid(True, alpha=0.3)\n",
    "\n",
    "# 2. Answer Character Length Distribution\n",
    "axes[0, 1].hist(df['answer_length'], bins=50, edgecolor='black', alpha=0.7, color='#e74c3c')\n",
    "axes[0, 1].set_title('Answer Character Length Distribution', fontsize=14, fontweight='bold')\n",
    "axes[0, 1].set_xlabel('Character Length')\n",
    "axes[0, 1].set_ylabel('Frequency')\n",
    "axes[0, 1].axvline(df['answer_length'].mean(), color='blue', linestyle='--', label=f'Mean: {df[\"answer_length\"].mean():.0f}')\n",
    "axes[0, 1].legend()\n",
    "axes[0, 1].grid(True, alpha=0.3)\n",
    "\n",
    "# 3. Question vs Answer Word Count\n",
    "axes[0, 2].scatter(df['question_words'], df['answer_words'], alpha=0.5, c='#2ecc71', s=30)\n",
    "axes[0, 2].set_title('Question vs Answer Word Count', fontsize=14, fontweight='bold')\n",
    "axes[0, 2].set_xlabel('Question Words')\n",
    "axes[0, 2].set_ylabel('Answer Words')\n",
    "axes[0, 2].grid(True, alpha=0.3)\n",
    "\n",
    "# 4. Focus Area Distribution (Top 15)\n",
    "if 'focus_area' in df.columns:\n",
    "    focus_counts = df['focus_area'].value_counts().head(15)\n",
    "    axes[1, 0].barh(range(len(focus_counts)), focus_counts.values, color='#9b59b6')\n",
    "    axes[1, 0].set_yticks(range(len(focus_counts)))\n",
    "    axes[1, 0].set_yticklabels(focus_counts.index, fontsize=10)\n",
    "    axes[1, 0].set_title('Top 15 Focus Areas', fontsize=14, fontweight='bold')\n",
    "    axes[1, 0].set_xlabel('Count')\n",
    "    axes[1, 0].invert_yaxis()\n",
    "    axes[1, 0].grid(True, alpha=0.3, axis='x')\n",
    "else:\n",
    "    axes[1, 0].text(0.5, 0.5, 'No Focus Area Data', ha='center', va='center', fontsize=14)\n",
    "    axes[1, 0].set_title('Focus Area Distribution', fontsize=14, fontweight='bold')\n",
    "\n",
    "# 5. Source Distribution\n",
    "if 'source' in df.columns:\n",
    "    source_counts = df['source'].value_counts().head(10)\n",
    "    axes[1, 1].bar(range(len(source_counts)), source_counts.values, color='#f39c12', edgecolor='black')\n",
    "    axes[1, 1].set_xticks(range(len(source_counts)))\n",
    "    axes[1, 1].set_xticklabels(source_counts.index, rotation=45, ha='right', fontsize=9)\n",
    "    axes[1, 1].set_title('Data Sources (Top 10)', fontsize=14, fontweight='bold')\n",
    "    axes[1, 1].set_ylabel('Count')\n",
    "    axes[1, 1].grid(True, alpha=0.3, axis='y')\n",
    "else:\n",
    "    axes[1, 1].text(0.5, 0.5, 'No Source Data', ha='center', va='center', fontsize=14)\n",
    "    axes[1, 1].set_title('Source Distribution', fontsize=14, fontweight='bold')\n",
    "\n",
    "# 6. Question Word Count Box Plot\n",
    "box_data = [df['question_words'], df['answer_words']]\n",
    "bp = axes[1, 2].boxplot(box_data, labels=['Questions', 'Answers'], patch_artist=True)\n",
    "bp['boxes'][0].set_facecolor('#3498db')\n",
    "bp['boxes'][1].set_facecolor('#e74c3c')\n",
    "axes[1, 2].set_title('Word Count Distribution (Box Plot)', fontsize=14, fontweight='bold')\n",
    "axes[1, 2].set_ylabel('Word Count')\n",
    "axes[1, 2].grid(True, alpha=0.3, axis='y')\n",
    "\n",
    "plt.tight_layout()\n",
    "plt.savefig('dataset_analysis.png', dpi=300, bbox_inches='tight')\n",
    "plt.show()\n",
    "\n",
    "print(\"Visualization saved as 'dataset_analysis.png'\")\n"
   ]
  },
  {
   "cell_type": "code",
   "execution_count": 12,
   "metadata": {
    "colab": {
     "base_uri": "https://localhost:8080/"
    },
    "id": "12r7OU9weZvG",
    "outputId": "88220d17-9c01-4d19-d8be-758314654fe4"
   },
   "outputs": [
    {
     "name": "stdout",
     "output_type": "stream",
     "text": [
      "Dataset Statistics Summary:\n",
      "============================================================\n",
      "Total Q&A pairs: 16,412\n",
      "Average question length: 50.68 characters\n",
      "Average answer length: 1303.06 characters\n",
      "Average question words: 8.21\n",
      "Average answer words: 201.29\n",
      "\n",
      "Unique focus areas: 5126\n",
      "Most common focus area: Breast Cancer\n",
      "\n",
      "Unique sources: 9\n",
      "Most common source: GHR\n"
     ]
    }
   ],
   "source": [
    "# Additional statistics\n",
    "print(\"Dataset Statistics Summary:\")\n",
    "print(\"=\"*60)\n",
    "print(f\"Total Q&A pairs: {len(df):,}\")\n",
    "print(f\"Average question length: {df['question_length'].mean():.2f} characters\")\n",
    "print(f\"Average answer length: {df['answer_length'].mean():.2f} characters\")\n",
    "print(f\"Average question words: {df['question_words'].mean():.2f}\")\n",
    "print(f\"Average answer words: {df['answer_words'].mean():.2f}\")\n",
    "\n",
    "if 'focus_area' in df.columns:\n",
    "    print(f\"\\nUnique focus areas: {df['focus_area'].nunique()}\")\n",
    "    print(f\"Most common focus area: {df['focus_area'].mode()[0]}\")\n",
    "\n",
    "if 'source' in df.columns:\n",
    "    print(f\"\\nUnique sources: {df['source'].nunique()}\")\n",
    "    print(f\"Most common source: {df['source'].mode()[0]}\")\n"
   ]
  },
  {
   "cell_type": "markdown",
   "metadata": {
    "id": "BiAoYoiNejbR"
   },
   "source": [
    "## 4. Data Preprocessing\n",
    "\n",
    "### 4.1 Text Cleaning\n",
    "\n",
    "Raw medical text often contains encoding issues, extra whitespace, and inconsistencies. This cleaning process:\n",
    "- Normalizes whitespace and punctuation\n",
    "- Fixes common text encoding problems\n",
    "- Removes empty or invalid entries\n",
    "- Ensures consistent text formatting for model input"
   ]
  },
  {
   "cell_type": "code",
   "execution_count": 15,
   "metadata": {
    "colab": {
     "base_uri": "https://localhost:8080/"
    },
    "id": "bRQCrpRfemZ0",
    "outputId": "cbe8a2fd-53d0-4c23-91fd-f1b8f988c0e1"
   },
   "outputs": [
    {
     "name": "stdout",
     "output_type": "stream",
     "text": [
      "Cleaning text data...\n",
      "Dataset shape after cleaning: (16407, 10)\n",
      "Removed 5 empty entries\n"
     ]
    }
   ],
   "source": [
    "def clean_text(text):\n",
    "    \"\"\"\n",
    "    Clean and normalize text data.\n",
    "\n",
    "    Steps:\n",
    "    1. Convert to string and handle missing values\n",
    "    2. Remove extra whitespace\n",
    "    3. Fix common encoding issues\n",
    "    4. Normalize punctuation\n",
    "    \"\"\"\n",
    "    if pd.isna(text):\n",
    "        return \"\"\n",
    "\n",
    "    text = str(text)\n",
    "\n",
    "    # Remove extra whitespace\n",
    "    text = re.sub(r'\\s+', ' ', text)\n",
    "\n",
    "    # Remove leading/trailing whitespace\n",
    "    text = text.strip()\n",
    "\n",
    "    # Fix common encoding issues\n",
    "    text = text.replace('â\\x80\\x99', \"'\")\n",
    "    text = text.replace('â\\x80\\x93', '-')\n",
    "    text = text.replace('â\\x80\\x94', '-')\n",
    "\n",
    "    return text\n",
    "\n",
    "# Apply cleaning\n",
    "print(\"Cleaning text data...\")\n",
    "df['question_clean'] = df['question'].apply(clean_text)\n",
    "df['answer_clean'] = df['answer'].apply(clean_text)\n",
    "\n",
    "# Remove rows with empty questions or answers\n",
    "original_len = len(df)\n",
    "df = df[(df['question_clean'] != '') & (df['answer_clean'] != '')]\n",
    "\n",
    "print(f\"Dataset shape after cleaning: {df.shape}\")\n",
    "print(f\"Removed {original_len - len(df)} empty entries\")\n"
   ]
  },
  {
   "cell_type": "code",
   "execution_count": 16,
   "metadata": {
    "colab": {
     "base_uri": "https://localhost:8080/"
    },
    "id": "sEMU6F-Kewz6",
    "outputId": "ea7157ec-4c82-48f3-ee2d-d03a7ed7e568"
   },
   "outputs": [
    {
     "name": "stdout",
     "output_type": "stream",
     "text": [
      "Number of duplicate Q&A pairs: 48\n",
      "Removing duplicates...\n",
      "Dataset shape after removing duplicates: (16359, 10)\n"
     ]
    }
   ],
   "source": [
    "# Check for and remove duplicates\n",
    "duplicates = df.duplicated(subset=['question_clean', 'answer_clean']).sum()\n",
    "print(f\"Number of duplicate Q&A pairs: {duplicates}\")\n",
    "\n",
    "if duplicates > 0:\n",
    "    print(\"Removing duplicates...\")\n",
    "    df = df.drop_duplicates(subset=['question_clean', 'answer_clean'], keep='first')\n",
    "    print(f\"Dataset shape after removing duplicates: {df.shape}\")\n"
   ]
  },
  {
   "cell_type": "markdown",
   "metadata": {
    "id": "YqN4z1Wae7CV"
   },
   "source": [
    "### 4.2 Train-Validation-Test Split\n",
    "\n",
    "Splitting the data into three sets:\n",
    "- Training set (80%): Used to update model weights during fine-tuning\n",
    "- Validation set (10%): Used to monitor performance and prevent overfitting\n",
    "- Test set (10%): Held out completely for final evaluation\n",
    "\n",
    "This ensures we can measure how well the model generalizes to unseen medical questions."
   ]
  },
  {
   "cell_type": "code",
   "execution_count": 17,
   "metadata": {
    "colab": {
     "base_uri": "https://localhost:8080/"
    },
    "id": "q1k2OUhEe-E3",
    "outputId": "adf041da-4b6b-4ad4-a094-4d739f49a1f1"
   },
   "outputs": [
    {
     "name": "stdout",
     "output_type": "stream",
     "text": [
      "Training set size: 13,087\n",
      "Validation set size: 1,636\n",
      "Test set size: 1,636\n",
      "\n",
      "Total: 16,359\n",
      "\n",
      "✓ Data splits saved to data/ directory\n"
     ]
    }
   ],
   "source": [
    "# Create clean dataset\n",
    "clean_df = df[['question_clean', 'answer_clean']].copy()\n",
    "clean_df.columns = ['question', 'answer']\n",
    "clean_df = clean_df.reset_index(drop=True)\n",
    "\n",
    "# Split data: 80% train, 10% validation, 10% test\n",
    "train_df, temp_df = train_test_split(clean_df, test_size=0.2, random_state=42)\n",
    "val_df, test_df = train_test_split(temp_df, test_size=0.5, random_state=42)\n",
    "\n",
    "print(f\"Training set size: {len(train_df):,}\")\n",
    "print(f\"Validation set size: {len(val_df):,}\")\n",
    "print(f\"Test set size: {len(test_df):,}\")\n",
    "print(f\"\\nTotal: {len(train_df) + len(val_df) + len(test_df):,}\")\n",
    "\n",
    "# Save splits\n",
    "Path('data').mkdir(exist_ok=True)\n",
    "train_df.to_csv('data/train.csv', index=False)\n",
    "val_df.to_csv('data/val.csv', index=False)\n",
    "test_df.to_csv('data/test.csv', index=False)\n",
    "\n",
    "print(\"\\n✓ Data splits saved to data/ directory\")\n"
   ]
  },
  {
   "cell_type": "markdown",
   "metadata": {
    "id": "PPSmPKhJfKnw"
   },
   "source": [
    "## 5. Model Selection and Configuration\n",
    "\n",
    "### Why Flan-T5-Small?\n",
    "\n",
    "Flan-T5 is Google's instruction-tuned version of T5, specifically trained to understand and follow natural language instructions. Key advantages:\n",
    "- Already trained on question-answering tasks across multiple domains\n",
    "- Better at following structured prompts compared to base T5\n",
    "- Similar size to T5-Small (80M parameters) but with improved instruction-following\n",
    "- More likely to generate coherent, relevant medical answers\n",
    "\n",
    "### Token Length Configuration\n",
    "- Max input length: 256 tokens (enough for medical questions with detailed prompts)\n",
    "- Max target length: 512 tokens (allows for comprehensive medical answers)"
   ]
  },
  {
   "cell_type": "markdown",
   "metadata": {},
   "source": [
    "### Model and Tokenizer Configuration\n",
    "\n",
    "Loading the Flan-T5-Small tokenizer and setting sequence lengths:\n",
    "- Input length: 256 tokens (sufficient for questions with detailed prompts)\n",
    "- Target length: 512 tokens (allows for comprehensive medical answers)\n",
    "\n",
    "Flan-T5-Small is specifically chosen because it is instruction-tuned, meaning it has been trained to better follow prompts and answer questions compared to the base T5 model."
   ]
  },
  {
   "cell_type": "code",
   "execution_count": null,
   "metadata": {
    "colab": {
     "base_uri": "https://localhost:8080/"
    },
    "id": "2E9sgkq770a5",
    "outputId": "6ff7c769-7a78-4c9a-b526-c1d2e94b62a9"
   },
   "outputs": [
    {
     "name": "stdout",
     "output_type": "stream",
     "text": [
      "🚀 Loading google/flan-t5-small\n",
      "✓ Vocab: 32,100\n"
     ]
    }
   ],
   "source": [
    "MODEL_NAME = \"google/flan-t5-small\"  # Instruction-tuned!\n",
    "MAX_INPUT_LENGTH = 256\n",
    "MAX_TARGET_LENGTH = 512\n",
    "\n",
    "print(f\"🚀 Loading {MODEL_NAME}\")\n",
    "tokenizer = AutoTokenizer.from_pretrained(MODEL_NAME)\n",
    "print(f\"✓ Vocab: {len(tokenizer):,}\")\n"
   ]
  },
  {
   "cell_type": "markdown",
   "metadata": {},
   "source": [
    "### Tokenization with Enhanced Prompting\n",
    "\n",
    "The preprocessing function:\n",
    "1. Adds a detailed medical expert prompt before each question\n",
    "2. Tokenizes both input and target text\n",
    "3. Truncates/pads sequences to fixed lengths\n",
    "4. Prepares labels for training\n",
    "\n",
    "The enhanced prompt explicitly instructs the model to act as a medical expert, encouraging more accurate and relevant responses."
   ]
  },
  {
   "cell_type": "code",
   "execution_count": null,
   "metadata": {
    "colab": {
     "base_uri": "https://localhost:8080/",
     "height": 131,
     "referenced_widgets": [
      "f08aa0dbbeef4a6a8fcda4380adbe497",
      "503476c8220540f68f3243949be448cd",
      "b2ff2e87c74d4e3a8c4abb543a591655",
      "30d57a4fedff49c5b7d4c8d9f66a03c5",
      "acb2383921144878a3818c26080429b2",
      "74754a331a534dd7b6686baa9b527fbf",
      "ddf3e75614ed4d3d96b378b4ff89fc86",
      "ca21dbba0db2409bba7d225a2a76d0ad",
      "06574a08d4474fb58bc22b52adca1347",
      "8c7086486ca24b89a3aaa257a5dee843",
      "bb435b8da0b74d22aeb69f2a0240095f",
      "6c76260c85d644a28fc0e131d2db94f6",
      "a9935fae26ad4de1adc99b0f87bac30a",
      "56847d1a5376428aa0834d239f72c524",
      "742ffb6cef18480ca18ad5eff7d46bb5",
      "4b933cc282814881b763b3a9447fb3de",
      "bea98f2652124069b7461c90e7b9c422",
      "bddb36e8b0874f7aa6a55ede6e8e50ae",
      "30f99c194b0f4b01b9f56b639dd51182",
      "a5fe441bea7944d5be90caf68536cf71",
      "aeb9ac7cbbfb4bb780450e433d69f96c",
      "c5f51d4e4a3d440c81a27e995225317f",
      "0b42ddaa34c447d78a37c0fe1660fc0c",
      "1bc5a089eda3489aa22f996b2790996e",
      "9471e7c2d5a145e6b969792d42c1f41e",
      "11ca6169d1da4196968617b37b832fda",
      "275a790c53a3468da1f575d8ef6ca34b",
      "c1baf5e35691407e96e34c9c149f08cf",
      "4561be615ddd4f2b90e891ef15a8b058",
      "a135cfb3cbae4ef588d334fcb46f2eb9",
      "ae950797bc384ad8a619e5d24cdd7777",
      "8ab2e0adc10641d5a40fd4641f81f084",
      "f7707b2dafa64f96a1c1aad2c96052ad"
     ]
    },
    "id": "l8FRuSec70a5",
    "outputId": "c737f2ca-a95d-415f-f0c1-533c2600f258"
   },
   "outputs": [
    {
     "data": {
      "application/vnd.jupyter.widget-view+json": {
       "model_id": "f08aa0dbbeef4a6a8fcda4380adbe497",
       "version_major": 2,
       "version_minor": 0
      },
      "text/plain": [
       "Map:   0%|          | 0/13187 [00:00<?, ? examples/s]"
      ]
     },
     "metadata": {},
     "output_type": "display_data"
    },
    {
     "data": {
      "application/vnd.jupyter.widget-view+json": {
       "model_id": "6c76260c85d644a28fc0e131d2db94f6",
       "version_major": 2,
       "version_minor": 0
      },
      "text/plain": [
       "Map:   0%|          | 0/1648 [00:00<?, ? examples/s]"
      ]
     },
     "metadata": {},
     "output_type": "display_data"
    },
    {
     "data": {
      "application/vnd.jupyter.widget-view+json": {
       "model_id": "0b42ddaa34c447d78a37c0fe1660fc0c",
       "version_major": 2,
       "version_minor": 0
      },
      "text/plain": [
       "Map:   0%|          | 0/1649 [00:00<?, ? examples/s]"
      ]
     },
     "metadata": {},
     "output_type": "display_data"
    },
    {
     "name": "stdout",
     "output_type": "stream",
     "text": [
      "✓ Tokenized with enhanced medical prompting\n"
     ]
    }
   ],
   "source": [
    "def preprocess_function(examples):\n",
    "    # Enhanced medical prompting with detailed instructions\n",
    "    prefix = \"\"\"You are a medical expert. Provide a clear, accurate, and comprehensive answer to the following medical question.\n",
    "Focus on being informative and helpful while maintaining medical accuracy.\n",
    "\n",
    "Question: \"\"\"\n",
    "    inputs = [prefix + q for q in examples['question']]\n",
    "    targets = examples['answer']\n",
    "\n",
    "    model_inputs = tokenizer(inputs, max_length=MAX_INPUT_LENGTH, truncation=True, padding='max_length')\n",
    "    labels = tokenizer(targets, max_length=MAX_TARGET_LENGTH, truncation=True, padding='max_length')\n",
    "    model_inputs['labels'] = labels['input_ids']\n",
    "    return model_inputs\n",
    "\n",
    "train_ds = Dataset.from_pandas(train_df)\n",
    "val_ds = Dataset.from_pandas(val_df)\n",
    "test_ds = Dataset.from_pandas(test_df)\n",
    "\n",
    "tok_train = train_ds.map(preprocess_function, batched=True, remove_columns=train_ds.column_names)\n",
    "tok_val = val_ds.map(preprocess_function, batched=True, remove_columns=val_ds.column_names)\n",
    "tok_test = test_ds.map(preprocess_function, batched=True, remove_columns=test_ds.column_names)\n",
    "\n",
    "print(\"✓ Tokenized with enhanced medical prompting\")\n"
   ]
  },
  {
   "cell_type": "markdown",
   "metadata": {},
   "source": [
    "### Load Pre-trained Model\n",
    "\n",
    "Initializing the Flan-T5-Small model from Hugging Face. The model contains:\n",
    "- Encoder: Processes input text (question + prompt) into contextualized representations\n",
    "- Decoder: Generates answer tokens autoregressively\n",
    "- 77M trainable parameters\n",
    "\n",
    "We load from PyTorch weights (from_pt=True) and convert to TensorFlow format."
   ]
  },
  {
   "cell_type": "code",
   "execution_count": null,
   "metadata": {
    "colab": {
     "base_uri": "https://localhost:8080/"
    },
    "id": "wH4kVraA70a5",
    "outputId": "aebcfff6-931f-43e6-b79d-adc4db2fd011"
   },
   "outputs": [
    {
     "name": "stderr",
     "output_type": "stream",
     "text": [
      "/usr/local/lib/python3.12/dist-packages/tf_keras/src/initializers/initializers.py:121: UserWarning: The initializer RandomNormal is unseeded and being called multiple times, which will return identical values each time (even if the initializer is unseeded). Please update your code to provide a seed to the initializer, or avoid using the same initializer instance more than once.\n",
      "  warnings.warn(\n",
      "Some weights of the PyTorch model were not used when initializing the TF 2.0 model TFT5ForConditionalGeneration: ['decoder.embed_tokens.weight', 'encoder.embed_tokens.weight']\n",
      "- This IS expected if you are initializing TFT5ForConditionalGeneration from a PyTorch model trained on another task or with another architecture (e.g. initializing a TFBertForSequenceClassification model from a BertForPreTraining model).\n",
      "- This IS NOT expected if you are initializing TFT5ForConditionalGeneration from a PyTorch model that you expect to be exactly identical (e.g. initializing a TFBertForSequenceClassification model from a BertForSequenceClassification model).\n",
      "All the weights of TFT5ForConditionalGeneration were initialized from the PyTorch model.\n",
      "If your task is similar to the task the model of the checkpoint was trained on, you can already use TFT5ForConditionalGeneration for predictions without further training.\n"
     ]
    },
    {
     "name": "stdout",
     "output_type": "stream",
     "text": [
      "✓ Model: 76,961,152 params\n"
     ]
    }
   ],
   "source": [
    "model = TFAutoModelForSeq2SeqLM.from_pretrained(MODEL_NAME, from_pt=True, use_safetensors=False)\n",
    "print(f\"✓ Model: {model.num_parameters():,} params\")\n"
   ]
  },
  {
   "cell_type": "markdown",
   "metadata": {},
   "source": [
    "### Training Hyperparameters and Optimizer Setup\n",
    "\n",
    "Configuration details:\n",
    "- Learning rate: 3e-5 (lower than standard T5 to preserve instruction-following abilities)\n",
    "- Learning rate schedule: Warmup for 10% of steps, then polynomial decay\n",
    "- AdamW optimizer: Adam with weight decay for regularization\n",
    "- Batch size: 8 samples per GPU pass\n",
    "\n",
    "The warmup schedule gradually increases the learning rate at the start, preventing large initial updates that could damage pre-trained knowledge."
   ]
  },
  {
   "cell_type": "code",
   "execution_count": null,
   "metadata": {
    "colab": {
     "base_uri": "https://localhost:8080/"
    },
    "id": "g7hyt9zb70a5",
    "outputId": "13c1c46d-2c67-4012-b2e4-cea0950edc19"
   },
   "outputs": [
    {
     "name": "stdout",
     "output_type": "stream",
     "text": [
      "Hyperparams: LR=3e-05 (gentler for Flan), Epochs=15\n",
      "✓ Optimizer ready\n"
     ]
    }
   ],
   "source": [
    "# LOWER LR FOR FLAN MODELS\n",
    "BATCH_SIZE = 8\n",
    "LEARNING_RATE = 3e-5  # Lower than regular T5!\n",
    "EPOCHS = 15\n",
    "WEIGHT_DECAY = 0.01\n",
    "WARMUP_RATIO = 0.1\n",
    "\n",
    "print(f\"Hyperparams: LR={LEARNING_RATE} (gentler for Flan), Epochs={EPOCHS}\")\n",
    "\n",
    "tf_train = model.prepare_tf_dataset(tok_train, batch_size=BATCH_SIZE, shuffle=True, tokenizer=tokenizer)\n",
    "tf_val = model.prepare_tf_dataset(tok_val, batch_size=BATCH_SIZE, shuffle=False, tokenizer=tokenizer)\n",
    "\n",
    "# Optimizer setup\n",
    "num_steps = len(tf_train) * EPOCHS\n",
    "num_warmup = int(WARMUP_RATIO * num_steps)\n",
    "\n",
    "lr_schedule = tf_keras.optimizers.schedules.PolynomialDecay(\n",
    "    initial_learning_rate=LEARNING_RATE, decay_steps=num_steps - num_warmup, end_learning_rate=1e-7\n",
    ")\n",
    "\n",
    "class WarmupSchedule(tf_keras.optimizers.schedules.LearningRateSchedule):\n",
    "    def __init__(self, warmup_steps, post_warmup_schedule):\n",
    "        super().__init__()\n",
    "        self.initial_learning_rate = LEARNING_RATE\n",
    "        self.warmup_steps = warmup_steps\n",
    "        self.post_warmup_schedule = post_warmup_schedule\n",
    "\n",
    "    def __call__(self, step):\n",
    "        step = tf.cast(step, tf.float32)\n",
    "        warmup_steps_float = tf.cast(self.warmup_steps, tf.float32)\n",
    "\n",
    "        warmup_lr = self.initial_learning_rate * (step / warmup_steps_float)\n",
    "\n",
    "        # Ensure that post_warmup_schedule only runs for steps after warmup\n",
    "        decay_lr = self.post_warmup_schedule(step - warmup_steps_float)\n",
    "\n",
    "        return tf.cond(step < warmup_steps_float, lambda: warmup_lr, lambda: decay_lr)\n",
    "\n",
    "    def get_config(self):\n",
    "        return {\n",
    "            \"warmup_steps\": self.warmup_steps,\n",
    "            \"post_warmup_schedule\": tf_keras.optimizers.schedules.serialize(self.post_warmup_schedule)\n",
    "        }\n",
    "\n",
    "    # Required method to enable deserialization of the entire schedule object\n",
    "    @classmethod\n",
    "    def from_config(cls, config):\n",
    "        config['post_warmup_schedule'] = tf_keras.optimizers.schedules.deserialize(config['post_warmup_schedule'])\n",
    "        config.pop('initial_learning_rate', None)\n",
    "        return cls(**config)\n",
    "\n",
    "\n",
    "optimizer = tf_keras.optimizers.AdamW(learning_rate=WarmupSchedule(num_warmup, lr_schedule), weight_decay=WEIGHT_DECAY)\n",
    "model.compile(optimizer=optimizer)\n",
    "print(\"✓ Optimizer ready\")\n"
   ]
  },
  {
   "cell_type": "markdown",
   "metadata": {},
   "source": [
    "### Model Training Execution\n",
    "\n",
    "Training the model with early stopping and checkpointing:\n",
    "- EarlyStopping: Monitors validation loss and stops if no improvement for 3 epochs\n",
    "- ModelCheckpoint: Saves weights whenever validation loss improves\n",
    "\n",
    "This ensures we don't waste compute on overfitting and always keep the best model state."
   ]
  },
  {
   "cell_type": "code",
   "execution_count": null,
   "metadata": {
    "colab": {
     "base_uri": "https://localhost:8080/"
    },
    "id": "JmjbF8WY70a5",
    "outputId": "af63836a-df29-4a26-ecd2-9f31cdc2da44"
   },
   "outputs": [
    {
     "name": "stdout",
     "output_type": "stream",
     "text": [
      "================================================================================\n",
      "🚀 EXPERIMENT 3: FLAN-T5-SMALL (Instruction-Tuned)\n",
      "================================================================================\n",
      "Epoch 1/15\n",
      "1648/1648 [==============================] - ETA: 0s - loss: 8.0286\n",
      "Epoch 1: val_loss improved from inf to 1.39754, saving model to models/experiment_3/best.h5\n",
      "1648/1648 [==============================] - 1194s 686ms/step - loss: 8.0286 - val_loss: 1.3975\n",
      "Epoch 2/15\n",
      "1648/1648 [==============================] - ETA: 0s - loss: 1.3825\n",
      "Epoch 2: val_loss improved from 1.39754 to 1.07030, saving model to models/experiment_3/best.h5\n",
      "1648/1648 [==============================] - 1083s 657ms/step - loss: 1.3825 - val_loss: 1.0703\n",
      "Epoch 3/15\n",
      "1648/1648 [==============================] - ETA: 0s - loss: 1.1485\n",
      "Epoch 3: val_loss improved from 1.07030 to 0.97003, saving model to models/experiment_3/best.h5\n",
      "1648/1648 [==============================] - 1082s 656ms/step - loss: 1.1485 - val_loss: 0.9700\n",
      "Epoch 4/15\n",
      "1648/1648 [==============================] - ETA: 0s - loss: 1.0618\n",
      "Epoch 4: val_loss improved from 0.97003 to 0.92918, saving model to models/experiment_3/best.h5\n",
      "1648/1648 [==============================] - 1083s 657ms/step - loss: 1.0618 - val_loss: 0.9292\n",
      "Epoch 5/15\n",
      "1648/1648 [==============================] - ETA: 0s - loss: 1.0162\n",
      "Epoch 5: val_loss improved from 0.92918 to 0.89961, saving model to models/experiment_3/best.h5\n",
      "1648/1648 [==============================] - 1080s 656ms/step - loss: 1.0162 - val_loss: 0.8996\n",
      "Epoch 6/15\n",
      "1648/1648 [==============================] - ETA: 0s - loss: 0.9837\n",
      "Epoch 6: val_loss improved from 0.89961 to 0.87848, saving model to models/experiment_3/best.h5\n",
      "1648/1648 [==============================] - 1080s 655ms/step - loss: 0.9837 - val_loss: 0.8785\n",
      "Epoch 7/15\n",
      "1648/1648 [==============================] - ETA: 0s - loss: 0.9609\n",
      "Epoch 7: val_loss improved from 0.87848 to 0.86283, saving model to models/experiment_3/best.h5\n",
      "1648/1648 [==============================] - 1077s 654ms/step - loss: 0.9609 - val_loss: 0.8628\n",
      "Epoch 8/15\n",
      "1648/1648 [==============================] - ETA: 0s - loss: 0.9439\n",
      "Epoch 8: val_loss improved from 0.86283 to 0.85053, saving model to models/experiment_3/best.h5\n",
      "1648/1648 [==============================] - 1080s 656ms/step - loss: 0.9439 - val_loss: 0.8505\n",
      "Epoch 9/15\n",
      "1648/1648 [==============================] - ETA: 0s - loss: 0.9307\n",
      "Epoch 9: val_loss improved from 0.85053 to 0.84139, saving model to models/experiment_3/best.h5\n",
      "1648/1648 [==============================] - 1115s 676ms/step - loss: 0.9307 - val_loss: 0.8414\n",
      "Epoch 10/15\n",
      "1648/1648 [==============================] - ETA: 0s - loss: 0.9207\n",
      "Epoch 10: val_loss improved from 0.84139 to 0.83466, saving model to models/experiment_3/best.h5\n",
      "1648/1648 [==============================] - 1077s 653ms/step - loss: 0.9207 - val_loss: 0.8347\n",
      "Epoch 11/15\n",
      "1648/1648 [==============================] - ETA: 0s - loss: 0.9127\n",
      "Epoch 11: val_loss improved from 0.83466 to 0.82902, saving model to models/experiment_3/best.h5\n",
      "1648/1648 [==============================] - 1089s 661ms/step - loss: 0.9127 - val_loss: 0.8290\n",
      "Epoch 12/15\n",
      "1648/1648 [==============================] - ETA: 0s - loss: 0.9065\n",
      "Epoch 12: val_loss improved from 0.82902 to 0.82481, saving model to models/experiment_3/best.h5\n",
      "1648/1648 [==============================] - 1082s 657ms/step - loss: 0.9065 - val_loss: 0.8248\n",
      "Epoch 13/15\n",
      "1648/1648 [==============================] - ETA: 0s - loss: 0.9025\n",
      "Epoch 13: val_loss improved from 0.82481 to 0.82218, saving model to models/experiment_3/best.h5\n",
      "1648/1648 [==============================] - 1081s 656ms/step - loss: 0.9025 - val_loss: 0.8222\n",
      "Epoch 14/15\n",
      "1648/1648 [==============================] - ETA: 0s - loss: 0.8995\n",
      "Epoch 14: val_loss improved from 0.82218 to 0.82039, saving model to models/experiment_3/best.h5\n",
      "1648/1648 [==============================] - 1082s 656ms/step - loss: 0.8995 - val_loss: 0.8204\n",
      "Epoch 15/15\n",
      "1648/1648 [==============================] - ETA: 0s - loss: 0.8977\n",
      "Epoch 15: val_loss improved from 0.82039 to 0.81986, saving model to models/experiment_3/best.h5\n",
      "1648/1648 [==============================] - 1069s 648ms/step - loss: 0.8977 - val_loss: 0.8199\n",
      "Restoring model weights from the end of the best epoch: 15.\n",
      "\\n✓ Complete in 272.6 min\n"
     ]
    }
   ],
   "source": [
    "from tf_keras.callbacks import EarlyStopping, ModelCheckpoint\n",
    "\n",
    "Path('models/experiment_3').mkdir(parents=True, exist_ok=True)\n",
    "callbacks = [\n",
    "    EarlyStopping(monitor='val_loss', patience=3, restore_best_weights=True, verbose=1),\n",
    "    ModelCheckpoint('models/experiment_3/best.h5', monitor='val_loss', save_best_only=True, save_weights_only=True, verbose=1)\n",
    "]\n",
    "\n",
    "print(\"=\"*80)\n",
    "print(\"🚀 EXPERIMENT 3: FLAN-T5-SMALL (Instruction-Tuned)\")\n",
    "print(\"=\"*80)\n",
    "\n",
    "start_time = datetime.now()\n",
    "history = model.fit(tf_train, validation_data=tf_val, epochs=EPOCHS, callbacks=callbacks, verbose=1)\n",
    "training_time = (datetime.now() - start_time).total_seconds()\n",
    "\n",
    "print(f\"\\\\n✓ Complete in {training_time/60:.1f} min\")\n"
   ]
  },
  {
   "cell_type": "markdown",
   "metadata": {},
   "source": [
    "### Training History Visualization\n",
    "\n",
    "Plotting training and validation loss curves reveals:\n",
    "- Whether the model is learning (both losses should decrease)\n",
    "- Signs of overfitting (validation loss increases while training loss decreases)\n",
    "- Training stability (smooth curves vs erratic jumps)\n",
    "\n",
    "The best validation loss represents the model's peak performance on unseen data."
   ]
  },
  {
   "cell_type": "code",
   "execution_count": null,
   "metadata": {
    "colab": {
     "base_uri": "https://localhost:8080/",
     "height": 582
    },
    "id": "JbgxehXl70a5",
    "outputId": "9b7c84ff-9953-4869-cc1c-70504e3fcb3f"
   },
   "outputs": [
    {
     "data": {
      "image/png": "[encoded data removed]",
      "text/plain": [
       "<Figure size 1000x600 with 1 Axes>"
      ]
     },
     "metadata": {},
     "output_type": "display_data"
    },
    {
     "name": "stdout",
     "output_type": "stream",
     "text": [
      "Best Val: 0.8199\n"
     ]
    }
   ],
   "source": [
    "plt.figure(figsize=(10, 6))\n",
    "plt.plot(history.history['loss'], 'o-', label='Train', lw=2)\n",
    "plt.plot(history.history['val_loss'], 's-', label='Val', lw=2)\n",
    "plt.xlabel('Epoch'); plt.ylabel('Loss'); plt.title('Exp 3: Flan-T5-Small')\n",
    "plt.legend(); plt.grid(True, alpha=0.3)\n",
    "plt.show()\n",
    "print(f\"Best Val: {min(history.history['val_loss']):.4f}\")\n"
   ]
  },
  {
   "cell_type": "markdown",
   "metadata": {},
   "source": [
    "## 6. Decoding Strategy Evaluation and Comparison\n",
    "\n",
    "Text generation quality depends heavily on decoding parameters. We test 5 different strategies:\n",
    "\n",
    "Strategy Descriptions:\n",
    "- Baseline: Standard beam search with balanced settings\n",
    "- Precision-Focused: Favors shorter, more precise answers using higher beam count and lower length penalty\n",
    "- Balanced: Middle ground between all parameters\n",
    "- Conservative Beam: Simpler search with fewer beams\n",
    "- Length-Optimized: Shorter maximum length to encourage concise answers\n",
    "\n",
    "Each strategy is evaluated on test samples using BLEU and ROUGE metrics. A composite score determines the best overall performer."
   ]
  },
  {
   "cell_type": "code",
   "execution_count": null,
   "metadata": {
    "colab": {
     "base_uri": "https://localhost:8080/"
    },
    "id": "NMYg4Rve70a6",
    "outputId": "91b585e5-3b50-4ece-a9c8-f6a6cf2de23f"
   },
   "outputs": [
    {
     "name": "stdout",
     "output_type": "stream",
     "text": [
      "\n",
      "================================================================================\n",
      "🧪 TESTING 5 DECODING STRATEGIES\n",
      "================================================================================\n",
      "Evaluating on 30 test samples...\n",
      "\n",
      "\n",
      "================================================================================\n",
      "Testing: Baseline\n",
      "================================================================================\n",
      "  10/30... (33%)\n",
      "  20/30... (67%)\n",
      "  30/30... (100%)\n",
      "\n",
      "  Results:\n",
      "    BLEU:    0.1095\n",
      "    ROUGE-1: 0.3638\n",
      "    ROUGE-L: 0.2809\n",
      "\n",
      "================================================================================\n",
      "Testing: Precision-Focused\n",
      "================================================================================\n",
      "  10/30... (33%)\n",
      "  20/30... (67%)\n",
      "  30/30... (100%)\n",
      "\n",
      "  Results:\n",
      "    BLEU:    0.0637\n",
      "    ROUGE-1: 0.3011\n",
      "    ROUGE-L: 0.2317\n",
      "\n",
      "================================================================================\n",
      "Testing: Balanced\n",
      "================================================================================\n",
      "  10/30... (33%)\n",
      "  20/30... (67%)\n",
      "  30/30... (100%)\n",
      "\n",
      "  Results:\n",
      "    BLEU:    0.1022\n",
      "    ROUGE-1: 0.3323\n",
      "    ROUGE-L: 0.2583\n",
      "\n",
      "================================================================================\n",
      "Testing: Conservative Beam\n",
      "================================================================================\n",
      "  10/30... (33%)\n",
      "  20/30... (67%)\n",
      "  30/30... (100%)\n",
      "\n",
      "  Results:\n",
      "    BLEU:    0.1333\n",
      "    ROUGE-1: 0.3599\n",
      "    ROUGE-L: 0.2861\n",
      "\n",
      "================================================================================\n",
      "Testing: Length-Optimized\n",
      "================================================================================\n",
      "  10/30... (33%)\n",
      "  20/30... (67%)\n",
      "  30/30... (100%)\n",
      "\n",
      "  Results:\n",
      "    BLEU:    0.1039\n",
      "    ROUGE-1: 0.3610\n",
      "    ROUGE-L: 0.2795\n",
      "\n",
      "================================================================================\n",
      "📊 STRATEGY COMPARISON\n",
      "================================================================================\n",
      "Strategy                        BLEU    ROUGE-1    ROUGE-L      Score\n",
      "--------------------------------------------------------------------------------\n",
      "Baseline                      0.1095     0.3638     0.2809     0.2289\n",
      "Precision-Focused             0.0637     0.3011     0.2317     0.1784\n",
      "Balanced                      0.1022     0.3323     0.2583     0.2107\n",
      "Conservative Beam             0.1333     0.3599     0.2861     0.2397\n",
      "Length-Optimized              0.1039     0.3610     0.2795     0.2255\n",
      "\n",
      "🏆 BEST STRATEGY: Conservative Beam\n",
      "  BLEU:    0.1333\n",
      "  ROUGE-1: 0.3599\n",
      "  ROUGE-L: 0.2861\n",
      "  Composite Score: 0.2397\n",
      "\n",
      "✓ Results saved to results/experiment_3_prompting_results.json\n"
     ]
    }
   ],
   "source": [
    "# Define 5 decoding strategies to test\n",
    "STRATEGIES = {\n",
    "    'baseline': {\n",
    "        'name': 'Baseline',\n",
    "        'params': {\n",
    "            'max_length': 512,\n",
    "            'min_length': 10,\n",
    "            'num_beams': 4,\n",
    "            'early_stopping': True,\n",
    "            'no_repeat_ngram_size': 3,\n",
    "            'length_penalty': 1.0,\n",
    "            'do_sample': False\n",
    "        }\n",
    "    },\n",
    "    'precision': {\n",
    "        'name': 'Precision-Focused',\n",
    "        'params': {\n",
    "            'max_length': 512,\n",
    "            'min_length': 20,\n",
    "            'num_beams': 6,\n",
    "            'early_stopping': True,\n",
    "            'no_repeat_ngram_size': 2,\n",
    "            'length_penalty': 0.6,  # Favor shorter, precise answers\n",
    "            'repetition_penalty': 1.1,\n",
    "            'do_sample': False\n",
    "        }\n",
    "    },\n",
    "    'balanced': {\n",
    "        'name': 'Balanced',\n",
    "        'params': {\n",
    "            'max_length': 512,\n",
    "            'min_length': 15,\n",
    "            'num_beams': 5,\n",
    "            'early_stopping': True,\n",
    "            'no_repeat_ngram_size': 3,\n",
    "            'length_penalty': 0.8,\n",
    "            'repetition_penalty': 1.05,\n",
    "            'do_sample': False\n",
    "        }\n",
    "    },\n",
    "    'conservative': {\n",
    "        'name': 'Conservative Beam',\n",
    "        'params': {\n",
    "            'max_length': 512,\n",
    "            'min_length': 10,\n",
    "            'num_beams': 3,\n",
    "            'early_stopping': True,\n",
    "            'no_repeat_ngram_size': 3,\n",
    "            'length_penalty': 1.0,\n",
    "            'temperature': 1.0,\n",
    "            'do_sample': False\n",
    "        }\n",
    "    },\n",
    "    'length_optimized': {\n",
    "        'name': 'Length-Optimized',\n",
    "        'params': {\n",
    "            'max_length': 400,  # Shorter max\n",
    "            'min_length': 15,\n",
    "            'num_beams': 4,\n",
    "            'early_stopping': True,\n",
    "            'no_repeat_ngram_size': 3,\n",
    "            'length_penalty': 0.7,\n",
    "            'do_sample': False\n",
    "        }\n",
    "    }\n",
    "}\n",
    "\n",
    "def generate_answer(question, model, tokenizer, strategy_params):\n",
    "    \"\"\"Generate answer with specified decoding strategy.\"\"\"\n",
    "    prefix = \"\"\"You are a medical expert. Provide a clear, accurate, and comprehensive answer to the following medical question.\n",
    "Focus on being informative and helpful while maintaining medical accuracy.\n",
    "\n",
    "Question: \"\"\"\n",
    "    inputs = tokenizer(\n",
    "        prefix + question,\n",
    "        return_tensors='tf',\n",
    "        max_length=MAX_INPUT_LENGTH,\n",
    "        truncation=True\n",
    "    )\n",
    "    outputs = model.generate(**inputs, **strategy_params)\n",
    "    return tokenizer.decode(outputs[0], skip_special_tokens=True)\n",
    "\n",
    "# Load metrics\n",
    "bleu_metric = evaluate.load(\"bleu\")\n",
    "rouge_metric = evaluate.load(\"rouge\")\n",
    "\n",
    "# Number of samples to evaluate\n",
    "NUM_EVAL = min(30, len(test_df))  # Using 30 samples for quicker evaluation\n",
    "\n",
    "print(f\"\\n{'='*80}\")\n",
    "print(f\"🧪 TESTING {len(STRATEGIES)} DECODING STRATEGIES\")\n",
    "print(f\"{'='*80}\")\n",
    "print(f\"Evaluating on {NUM_EVAL} test samples...\\n\")\n",
    "\n",
    "# Store results for all strategies\n",
    "all_results = {}\n",
    "\n",
    "for strategy_key, strategy_info in STRATEGIES.items():\n",
    "    print(f\"\\n{'='*80}\")\n",
    "    print(f\"Testing: {strategy_info['name']}\")\n",
    "    print(f\"{'='*80}\")\n",
    "\n",
    "    predictions, references = [], []\n",
    "\n",
    "    # Generate predictions\n",
    "    for i in range(NUM_EVAL):\n",
    "        q = test_df.iloc[i]['question']\n",
    "        true_a = test_df.iloc[i]['answer']\n",
    "\n",
    "        pred_a = generate_answer(q, model, tokenizer, strategy_info['params'])\n",
    "        predictions.append(pred_a)\n",
    "        references.append(true_a)\n",
    "\n",
    "        if (i + 1) % 10 == 0:  # Progress every 10 samples\n",
    "            print(f\"  {i+1}/{NUM_EVAL}... ({(i+1)/NUM_EVAL*100:.0f}%)\")\n",
    "\n",
    "    # Calculate metrics\n",
    "    bleu_result = bleu_metric.compute(predictions=predictions, references=[[r] for r in references])\n",
    "    rouge_result = rouge_metric.compute(predictions=predictions, references=references)\n",
    "\n",
    "    # Store results\n",
    "    all_results[strategy_key] = {\n",
    "        'name': strategy_info['name'],\n",
    "        'bleu': bleu_result['bleu'],\n",
    "        'rouge1': rouge_result['rouge1'],\n",
    "        'rouge2': rouge_result['rouge2'],\n",
    "        'rougeL': rouge_result['rougeL'],\n",
    "        'predictions': predictions,\n",
    "        'references': references,\n",
    "        'params': strategy_info['params']\n",
    "    }\n",
    "\n",
    "    print(f\"\\n  Results:\")\n",
    "    print(f\"    BLEU:    {bleu_result['bleu']:.4f}\")\n",
    "    print(f\"    ROUGE-1: {rouge_result['rouge1']:.4f}\")\n",
    "    print(f\"    ROUGE-L: {rouge_result['rougeL']:.4f}\")\n",
    "\n",
    "# Calculate composite scores and find best strategy\n",
    "print(f\"\\n{'='*80}\")\n",
    "print(\"📊 STRATEGY COMPARISON\")\n",
    "print(f\"{'='*80}\")\n",
    "print(f\"{'Strategy':<25} {'BLEU':>10} {'ROUGE-1':>10} {'ROUGE-L':>10} {'Score':>10}\")\n",
    "print(f\"{'-'*80}\")\n",
    "\n",
    "for key, results in all_results.items():\n",
    "    composite = 0.4 * results['bleu'] + 0.4 * results['rougeL'] + 0.2 * results['rouge1']\n",
    "    results['composite'] = composite\n",
    "    print(f\"{results['name']:<25} {results['bleu']:>10.4f} {results['rouge1']:>10.4f} \"\n",
    "          f\"{results['rougeL']:>10.4f} {composite:>10.4f}\")\n",
    "\n",
    "# Find best strategy\n",
    "best_strategy_key = max(all_results.keys(), key=lambda k: all_results[k]['composite'])\n",
    "best_strategy = all_results[best_strategy_key]\n",
    "\n",
    "print(f\"\\n🏆 BEST STRATEGY: {best_strategy['name']}\")\n",
    "print(f\"  BLEU:    {best_strategy['bleu']:.4f}\")\n",
    "print(f\"  ROUGE-1: {best_strategy['rouge1']:.4f}\")\n",
    "print(f\"  ROUGE-L: {best_strategy['rougeL']:.4f}\")\n",
    "print(f\"  Composite Score: {best_strategy['composite']:.4f}\")\n",
    "\n",
    "# Save results\n",
    "val_loss = min(history.history['val_loss'])\n",
    "results = {\n",
    "    'experiment_id': 'exp3_flan_t5_small_prompting',\n",
    "    'experiment_name': 'Flan-T5-Small with Enhanced Prompting & Strategies',\n",
    "    'model_name': MODEL_NAME,\n",
    "    'model_params': int(model.num_parameters()),\n",
    "    'hyperparameters': {\n",
    "        'batch_size': BATCH_SIZE,\n",
    "        'learning_rate': LEARNING_RATE,\n",
    "        'epochs': EPOCHS,\n",
    "        'max_input_length': MAX_INPUT_LENGTH,\n",
    "        'max_target_length': MAX_TARGET_LENGTH\n",
    "    },\n",
    "    'strategies_tested': len(STRATEGIES),\n",
    "    'num_eval_samples': NUM_EVAL,\n",
    "    'val_loss': float(val_loss),\n",
    "    'best_strategy': {\n",
    "        'name': best_strategy['name'],\n",
    "        'metrics': {\n",
    "            'bleu': float(best_strategy['bleu']),\n",
    "            'rouge1': float(best_strategy['rouge1']),\n",
    "            'rouge2': float(best_strategy['rouge2']),\n",
    "            'rougeL': float(best_strategy['rougeL']),\n",
    "            'composite': float(best_strategy['composite'])\n",
    "        },\n",
    "        'generation_params': best_strategy['params']\n",
    "    },\n",
    "    'all_strategies': {k: {\n",
    "        'name': v['name'],\n",
    "        'bleu': float(v['bleu']),\n",
    "        'rouge1': float(v['rouge1']),\n",
    "        'rougeL': float(v['rougeL']),\n",
    "        'composite': float(v['composite'])\n",
    "    } for k, v in all_results.items()},\n",
    "    'training_time_seconds': training_time\n",
    "}\n",
    "\n",
    "Path('results').mkdir(exist_ok=True)\n",
    "with open('results/experiment_3_prompting_results.json', 'w') as f:\n",
    "    json.dump(results, f, indent=2)\n",
    "\n",
    "print(\"\\n✓ Results saved to results/experiment_3_prompting_results.json\")\n"
   ]
  },
  {
   "cell_type": "markdown",
   "metadata": {},
   "source": [
    "### Backup Model Weights\n",
    "\n",
    "Saving a copy of the best model weights to Google Drive for backup and offline access."
   ]
  },
  {
   "cell_type": "code",
   "execution_count": null,
   "metadata": {
    "id": "y-9ZHuHpZ4vk"
   },
   "outputs": [],
   "source": [
    "!cp /content/models/experiment_3/best.h5 /content/drive/My\\ Drive/files/first"
   ]
  },
  {
   "cell_type": "markdown",
   "metadata": {},
   "source": [
    "### Hugging Face Authentication\n",
    "\n",
    "Logging into Hugging Face Hub to enable model upload. You need a Hugging Face account and access token for this step."
   ]
  },
  {
   "cell_type": "code",
   "execution_count": null,
   "metadata": {
    "colab": {
     "base_uri": "https://localhost:8080/",
     "height": 17,
     "referenced_widgets": [
      "efb9a2d8cc614e94b6f2272d28a6eb0d",
      "c9b64888671c4f2eae6fd0dc20c45e5a",
      "394eebaef4934dd591ab611f3be32c47",
      "d2e166f3a8c74a69b3134b4f0825446f",
      "2b2d85b0a70a4144b8334b69caec50a1",
      "1b0c2ec8496d46e08308fd74e69d73de",
      "e7ef921d49734863b55ddf41e2975ffb",
      "facab3fd3b1b4f558d9c53158a38e6e0",
      "f66ddf3eda5d46ba9f06695e3ce50953",
      "e814c87be8e449d592a4ef69a33fab2a",
      "f60c25cfd05e490590b7022fcb6b4bc1",
      "16fc059274ef488593f81147cb638140",
      "a4b7051f6f844f87b095b8db96dd5a1a",
      "7f8e6e42a11749899a9d298304b7b253",
      "fa872019cfca460c919682e66ba0f4ac",
      "f1277dd85b024bcdacb09d58e77f181f",
      "d32415a6edc94e7d9bdc5b6600188151",
      "e15c2f05e07b4e7e8156ee341cf22619",
      "66a7280ce13c44bc903cdc8cb748db85",
      "081610f38118447d92c634306e944587"
     ]
    },
    "id": "QBTgApsUjILl",
    "outputId": "fd5a6e6d-0e75-4f17-98f0-e32cf4a25914"
   },
   "outputs": [
    {
     "data": {
      "application/vnd.jupyter.widget-view+json": {
       "model_id": "efb9a2d8cc614e94b6f2272d28a6eb0d",
       "version_major": 2,
       "version_minor": 0
      },
      "text/plain": [
       "VBox(children=(HTML(value='<center> <img\\nsrc=https://huggingface.co/front/assets/huggingface_logo-noborder.sv…"
      ]
     },
     "metadata": {},
     "output_type": "display_data"
    }
   ],
   "source": [
    "from huggingface_hub import notebook_login\n",
    "\n",
    "# This will launch a widget/prompt asking you to paste your token from Step 1.\n",
    "notebook_login()"
   ]
  },
  {
   "cell_type": "markdown",
   "metadata": {},
   "source": [
    "### Model Deployment to Hugging Face Hub\n",
    "\n",
    "Uploading the trained model to Hugging Face Hub for easy sharing and deployment. This includes:\n",
    "- Model weights and architecture\n",
    "- Tokenizer configuration\n",
    "- Model card with usage information\n",
    "\n",
    "The deployed model can be loaded and used by anyone with: `AutoModelForSeq2SeqLM.from_pretrained('reponseashimwe/healthcare-chatbot')`"
   ]
  },
  {
   "cell_type": "code",
   "execution_count": null,
   "metadata": {
    "colab": {
     "base_uri": "https://localhost:8080/",
     "height": 295,
     "referenced_widgets": [
      "63d4fada516c4e20a36aea24f35525b5",
      "55bd104961ae4bc5b62e2a5e51ccd253",
      "5e99a8d3688446bdb65451d1621b2924",
      "e8f68fb1979841c6956cd8ac14180da2",
      "63db2907583e48988abec731057a2390",
      "5fe310b1e1314505943ae82cd143f340",
      "12d9ed14b40249cba27a027a8a1b627e",
      "d3ad6f6537f6437e8aa9f55c38353550",
      "414b518bffb04c178ab939fc08459491",
      "bf41259b8cc04998a34dcdcb3a300e2c",
      "4400a161b27643ba8d0d81861b79d8b8",
      "844c3977107d4e2aa52649d97ae70dd2",
      "884d5235a0244dcd88ba4200b718a95d",
      "0a75ab0469b34b6fbb486368d578274f",
      "2a932adc31e545588edc6c0755538592",
      "cb83dcecea9148219749a57e546b87f1",
      "86acc46dc2144e6d98e7a896ac6069e9",
      "473faef4b8b747369aa1aa5eaf6bd5a8",
      "956b087df928457284307df3f9b0c364",
      "1767eb0cb70944f69c327e888c593887",
      "8b535dcd1f19439b93cd983a7e56321b",
      "a56b275ebcc6472cbba0fa4e99bd48d9",
      "6ab5db98093742bba0a68ae6713201a2",
      "066efd1f42ec41c188fe8b38eafe62a4",
      "59875410725940cda380ae099d000272",
      "0e2d7abbf003435e9013ada501ca7eb5",
      "feca04d502254a2d99493a0081c53369",
      "b61ca2a87eb94b95a2b7a3314c70feb6",
      "a1d7644cdb184bafb9b80167089b537f",
      "2293c784ae644fe4b8b2a9910858baf1",
      "c8206b73548340f9adc2a50e85abf32b",
      "ba23fff1c1da497c9709de314bd501be",
      "6faa3cb9c8ac4abaa4c32afd66630738",
      "4b5edded6e7545799c9ccb7344adc97d",
      "efff8883a9b94499b16ff62390316c37",
      "f6d9d1c3075d4a6da9d600e845bcff2a",
      "a4388908ee03472ca905b5849f5a25ee",
      "21b05371b4664ae592811e289e8b7a53",
      "4e0ca560c7544e3fafb43cfe04192e63",
      "8ae1be6a7b764f1d86af70c47fa2cdcd",
      "2bbb62a577c04315a955b3f3f7f79db5",
      "3dc601b1c65444859f059f04860e580e",
      "1b9730c7016947f0b28ce6db16dd0a6c",
      "3710095da89048e0844453de8b9518bf",
      "223dfed2123b412b97eeaacfc7fc8c75",
      "03b06932f6ae4639b60b4594d86e9732",
      "148537a40be1494c9e592a4d89e7cc40",
      "4aded4bf8f234f22bba5803ab5ee35ef",
      "84af4d2c832647d79ac88c191ed710af",
      "c3f2f06a7b5642eea8f035dabe9c6811",
      "72e0fa6e8832432a91f5449827545959",
      "f3f7dd83ab5d48a8b94ae15b2354df84",
      "963820d35ca34d6281be20aa6fdecad8",
      "67a58f79cf16450fa7a1969790b9c423",
      "8352f71a3a824ead97a5ed12d51004fe",
      "80004e9fb3ef46daba80d7b29958dc83",
      "f11e2ed64fb04b07bfb99775700ed63f",
      "669e29164f974da6a198082a8d60e1c9",
      "96a1b86999494a8e8ed9b1e0f9500509",
      "01efb4fa22c04e5e9a38f2c28160ee31",
      "cd72ca29cea64e1d80ba040b6e038f2a",
      "b2bf5b01d362438fbb26d0611dd07501",
      "f01b77a2dabb43739ccb3a35ab7e0d40",
      "e62746b456e8442dab46c730e5243f26",
      "fb843898f785478ea41f0275be0d9d78",
      "162c27db23ff481eb28e562c8b511546",
      "92c309e015f4443d8f0e93c2394c6c17",
      "13f5f2b8f601424d8bd4b2fa442c9de6",
      "5bcc009c282e4c2993f44a7579d5ac0c",
      "f79e647a6935462f8dbe4e33d8016203",
      "42653992407841efbfc388a166e6e86f",
      "0fb62d2ca5d643dd923a8d1d90b190cf",
      "9056a3afdb674fc5b1c7011fa2c6d014",
      "02cce0c5b2a74acf9b0c0374e5d35c89",
      "8392b83652284c059139f3ab71936828",
      "1772632e2cef45efbd79a67da99d4dfa",
      "770351e73c3c4f74ae0c36edadcae0ef"
     ]
    },
    "id": "RV2XZd7kjJFZ",
    "outputId": "639bc6e6-c690-48e3-d22d-38bd759977b2"
   },
   "outputs": [
    {
     "name": "stdout",
     "output_type": "stream",
     "text": [
      "Pushing model to Hub...\n"
     ]
    },
    {
     "data": {
      "application/vnd.jupyter.widget-view+json": {
       "model_id": "63d4fada516c4e20a36aea24f35525b5",
       "version_major": 2,
       "version_minor": 0
      },
      "text/plain": [
       "Processing Files (0 / 0)      : |          |  0.00B /  0.00B            "
      ]
     },
     "metadata": {},
     "output_type": "display_data"
    },
    {
     "data": {
      "application/vnd.jupyter.widget-view+json": {
       "model_id": "844c3977107d4e2aa52649d97ae70dd2",
       "version_major": 2,
       "version_minor": 0
      },
      "text/plain": [
       "New Data Upload               : |          |  0.00B /  0.00B            "
      ]
     },
     "metadata": {},
     "output_type": "display_data"
    },
    {
     "data": {
      "application/vnd.jupyter.widget-view+json": {
       "model_id": "6ab5db98093742bba0a68ae6713201a2",
       "version_major": 2,
       "version_minor": 0
      },
      "text/plain": [
       "  /tmp/tmpsgk0dcrz/tf_model.h5:   0%|          |  556kB /  440MB            "
      ]
     },
     "metadata": {},
     "output_type": "display_data"
    },
    {
     "name": "stdout",
     "output_type": "stream",
     "text": [
      "Pushing tokenizer to Hub...\n"
     ]
    },
    {
     "data": {
      "application/vnd.jupyter.widget-view+json": {
       "model_id": "4b5edded6e7545799c9ccb7344adc97d",
       "version_major": 2,
       "version_minor": 0
      },
      "text/plain": [
       "README.md: 0.00B [00:00, ?B/s]"
      ]
     },
     "metadata": {},
     "output_type": "display_data"
    },
    {
     "data": {
      "application/vnd.jupyter.widget-view+json": {
       "model_id": "223dfed2123b412b97eeaacfc7fc8c75",
       "version_major": 2,
       "version_minor": 0
      },
      "text/plain": [
       "Processing Files (0 / 0)      : |          |  0.00B /  0.00B            "
      ]
     },
     "metadata": {},
     "output_type": "display_data"
    },
    {
     "data": {
      "application/vnd.jupyter.widget-view+json": {
       "model_id": "80004e9fb3ef46daba80d7b29958dc83",
       "version_major": 2,
       "version_minor": 0
      },
      "text/plain": [
       "New Data Upload               : |          |  0.00B /  0.00B            "
      ]
     },
     "metadata": {},
     "output_type": "display_data"
    },
    {
     "data": {
      "application/vnd.jupyter.widget-view+json": {
       "model_id": "92c309e015f4443d8f0e93c2394c6c17",
       "version_major": 2,
       "version_minor": 0
      },
      "text/plain": [
       "  .../tmpd7325856/spiece.model: 100%|##########|  792kB /  792kB            "
      ]
     },
     "metadata": {},
     "output_type": "display_data"
    },
    {
     "name": "stdout",
     "output_type": "stream",
     "text": [
      "Deployment complete! Model is available at: reponseashimwe/healthcare-chatbot\n"
     ]
    }
   ],
   "source": [
    "# This will create https://huggingface.co/reponseashimwe/healthcare-chatbot\n",
    "REPO_ID = \"reponseashimwe/healthcare-chatbot\"\n",
    "\n",
    "# 2. Push the model weights\n",
    "print(\"Pushing model to Hub...\")\n",
    "model.push_to_hub(REPO_ID)\n",
    "\n",
    "# 3. Push the tokenizer configuration\n",
    "print(\"Pushing tokenizer to Hub...\")\n",
    "tokenizer.push_to_hub(REPO_ID)\n",
    "\n",
    "print(f\"Deployment complete! Model is available at: {REPO_ID}\")"
   ]
  }
 ],
 "metadata": {
  "accelerator": "GPU",
  "colab": {
   "gpuType": "T4",
   "provenance": []
  },
  "kernelspec": {
   "display_name": "Python 3",
   "name": "python3"
  },
  "language_info": {
   "name": "python"
  }
 },
 "nbformat": 4,
 "nbformat_minor": 0
}
